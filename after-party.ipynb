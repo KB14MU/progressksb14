{
 "cells": [
  {
   "cell_type": "code",
   "execution_count": 1,
   "id": "13c1b2b1",
   "metadata": {
    "_cell_guid": "b1076dfc-b9ad-4769-8c92-a6c4dae69d19",
    "_uuid": "8f2839f25d086af736a60e9eeb907d3b93b6e0e5",
    "execution": {
     "iopub.execute_input": "2023-08-23T17:44:31.446669Z",
     "iopub.status.busy": "2023-08-23T17:44:31.445930Z",
     "iopub.status.idle": "2023-08-23T17:44:31.460754Z",
     "shell.execute_reply": "2023-08-23T17:44:31.459644Z"
    },
    "papermill": {
     "duration": 0.031914,
     "end_time": "2023-08-23T17:44:31.463403",
     "exception": false,
     "start_time": "2023-08-23T17:44:31.431489",
     "status": "completed"
    },
    "tags": []
   },
   "outputs": [
    {
     "name": "stdout",
     "output_type": "stream",
     "text": [
      "/kaggle/input/just-the-basics-the-after-party/train_labels.csv\n",
      "/kaggle/input/just-the-basics-the-after-party/train.csv\n",
      "/kaggle/input/just-the-basics-the-after-party/test.csv\n"
     ]
    }
   ],
   "source": [
    "# This Python 3 environment comes with many helpful analytics libraries installed\n",
    "# It is defined by the kaggle/python Docker image: https://github.com/kaggle/docker-python\n",
    "# For example, here's several helpful packages to load\n",
    "\n",
    "import numpy as np # linear algebra\n",
    "import pandas as pd # data processing, CSV file I/O (e.g. pd.read_csv)\n",
    "\n",
    "# Input data files are available in the read-only \"../input/\" directory\n",
    "# For example, running this (by clicking run or pressing Shift+Enter) will list all files under the input directory\n",
    "\n",
    "import os\n",
    "for dirname, _, filenames in os.walk('/kaggle/input'):\n",
    "    for filename in filenames:\n",
    "        print(os.path.join(dirname, filename))\n",
    "\n",
    "# You can write up to 20GB to the current directory (/kaggle/working/) that gets preserved as output when you create a version using \"Save & Run All\" \n",
    "# You can also write temporary files to /kaggle/temp/, but they won't be saved outside of the current session"
   ]
  },
  {
   "cell_type": "code",
   "execution_count": 2,
   "id": "aff6ec11",
   "metadata": {
    "execution": {
     "iopub.execute_input": "2023-08-23T17:44:31.485722Z",
     "iopub.status.busy": "2023-08-23T17:44:31.485292Z",
     "iopub.status.idle": "2023-08-23T17:44:32.984877Z",
     "shell.execute_reply": "2023-08-23T17:44:32.983823Z"
    },
    "papermill": {
     "duration": 1.51392,
     "end_time": "2023-08-23T17:44:32.987592",
     "exception": false,
     "start_time": "2023-08-23T17:44:31.473672",
     "status": "completed"
    },
    "tags": []
   },
   "outputs": [
    {
     "name": "stderr",
     "output_type": "stream",
     "text": [
      "/opt/conda/lib/python3.10/site-packages/scipy/__init__.py:146: UserWarning: A NumPy version >=1.16.5 and <1.23.0 is required for this version of SciPy (detected version 1.23.5\n",
      "  warnings.warn(f\"A NumPy version >={np_minversion} and <{np_maxversion}\"\n"
     ]
    }
   ],
   "source": [
    "import matplotlib.pyplot as plt\n",
    "import seaborn as sns\n",
    "%matplotlib inline"
   ]
  },
  {
   "cell_type": "code",
   "execution_count": 3,
   "id": "4c17513f",
   "metadata": {
    "execution": {
     "iopub.execute_input": "2023-08-23T17:44:33.009324Z",
     "iopub.status.busy": "2023-08-23T17:44:33.008932Z",
     "iopub.status.idle": "2023-08-23T17:44:33.202140Z",
     "shell.execute_reply": "2023-08-23T17:44:33.200875Z"
    },
    "papermill": {
     "duration": 0.207724,
     "end_time": "2023-08-23T17:44:33.205319",
     "exception": false,
     "start_time": "2023-08-23T17:44:32.997595",
     "status": "completed"
    },
    "tags": []
   },
   "outputs": [],
   "source": [
    "df = pd.read_csv('/kaggle/input/just-the-basics-the-after-party/train.csv')\n",
    "label = pd.read_csv ('/kaggle/input/just-the-basics-the-after-party/train_labels.csv')\n",
    "test = pd.read_csv ('/kaggle/input/just-the-basics-the-after-party/test.csv')"
   ]
  },
  {
   "cell_type": "code",
   "execution_count": 4,
   "id": "4d84d8c4",
   "metadata": {
    "execution": {
     "iopub.execute_input": "2023-08-23T17:44:33.229164Z",
     "iopub.status.busy": "2023-08-23T17:44:33.228082Z",
     "iopub.status.idle": "2023-08-23T17:44:33.235526Z",
     "shell.execute_reply": "2023-08-23T17:44:33.234367Z"
    },
    "papermill": {
     "duration": 0.022243,
     "end_time": "2023-08-23T17:44:33.238310",
     "exception": false,
     "start_time": "2023-08-23T17:44:33.216067",
     "status": "completed"
    },
    "tags": []
   },
   "outputs": [],
   "source": [
    "df = pd.concat([df,label],axis=1)"
   ]
  },
  {
   "cell_type": "code",
   "execution_count": 5,
   "id": "697c1d1a",
   "metadata": {
    "execution": {
     "iopub.execute_input": "2023-08-23T17:44:33.261585Z",
     "iopub.status.busy": "2023-08-23T17:44:33.261156Z",
     "iopub.status.idle": "2023-08-23T17:44:33.310800Z",
     "shell.execute_reply": "2023-08-23T17:44:33.309289Z"
    },
    "papermill": {
     "duration": 0.065319,
     "end_time": "2023-08-23T17:44:33.314302",
     "exception": false,
     "start_time": "2023-08-23T17:44:33.248983",
     "status": "completed"
    },
    "tags": []
   },
   "outputs": [
    {
     "data": {
      "text/html": [
       "<div>\n",
       "<style scoped>\n",
       "    .dataframe tbody tr th:only-of-type {\n",
       "        vertical-align: middle;\n",
       "    }\n",
       "\n",
       "    .dataframe tbody tr th {\n",
       "        vertical-align: top;\n",
       "    }\n",
       "\n",
       "    .dataframe thead th {\n",
       "        text-align: right;\n",
       "    }\n",
       "</style>\n",
       "<table border=\"1\" class=\"dataframe\">\n",
       "  <thead>\n",
       "    <tr style=\"text-align: right;\">\n",
       "      <th></th>\n",
       "      <th>0.097094</th>\n",
       "      <th>1.1133</th>\n",
       "      <th>45.038</th>\n",
       "      <th>0.88184</th>\n",
       "      <th>0.087009</th>\n",
       "      <th>1.041</th>\n",
       "      <th>1.5486</th>\n",
       "      <th>3.498</th>\n",
       "      <th>1.8578</th>\n",
       "      <th>0.0096729</th>\n",
       "      <th>...</th>\n",
       "      <th>3.6654</th>\n",
       "      <th>0.061607</th>\n",
       "      <th>0.0031605</th>\n",
       "      <th>0.036038</th>\n",
       "      <th>0.0845</th>\n",
       "      <th>2.4517</th>\n",
       "      <th>3.3373</th>\n",
       "      <th>0.065201</th>\n",
       "      <th>0.091158</th>\n",
       "      <th>0</th>\n",
       "    </tr>\n",
       "  </thead>\n",
       "  <tbody>\n",
       "    <tr>\n",
       "      <th>0</th>\n",
       "      <td>0.050086</td>\n",
       "      <td>0.11158</td>\n",
       "      <td>94.0800</td>\n",
       "      <td>1.76500</td>\n",
       "      <td>0.089417</td>\n",
       "      <td>4.80470</td>\n",
       "      <td>0.26742</td>\n",
       "      <td>NaN</td>\n",
       "      <td>0.56473</td>\n",
       "      <td>0.035123</td>\n",
       "      <td>...</td>\n",
       "      <td>4.16870</td>\n",
       "      <td>0.075432</td>\n",
       "      <td>0.010869</td>\n",
       "      <td>0.063972</td>\n",
       "      <td>0.079892</td>\n",
       "      <td>1.9795</td>\n",
       "      <td>3.5064</td>\n",
       "      <td>0.072132</td>\n",
       "      <td>0.091950</td>\n",
       "      <td>1</td>\n",
       "    </tr>\n",
       "    <tr>\n",
       "      <th>1</th>\n",
       "      <td>0.088447</td>\n",
       "      <td>2.36340</td>\n",
       "      <td>5.0580</td>\n",
       "      <td>0.14436</td>\n",
       "      <td>0.064547</td>\n",
       "      <td>2.44400</td>\n",
       "      <td>4.25450</td>\n",
       "      <td>0.36506</td>\n",
       "      <td>1.86090</td>\n",
       "      <td>0.009759</td>\n",
       "      <td>...</td>\n",
       "      <td>4.56130</td>\n",
       "      <td>0.046505</td>\n",
       "      <td>NaN</td>\n",
       "      <td>0.084066</td>\n",
       "      <td>0.064829</td>\n",
       "      <td>3.3087</td>\n",
       "      <td>2.9969</td>\n",
       "      <td>0.064328</td>\n",
       "      <td>0.036793</td>\n",
       "      <td>0</td>\n",
       "    </tr>\n",
       "    <tr>\n",
       "      <th>2</th>\n",
       "      <td>0.772540</td>\n",
       "      <td>0.59469</td>\n",
       "      <td>NaN</td>\n",
       "      <td>0.97515</td>\n",
       "      <td>0.015987</td>\n",
       "      <td>0.52884</td>\n",
       "      <td>1.48840</td>\n",
       "      <td>3.96100</td>\n",
       "      <td>4.80630</td>\n",
       "      <td>0.048617</td>\n",
       "      <td>...</td>\n",
       "      <td>0.12832</td>\n",
       "      <td>0.065028</td>\n",
       "      <td>0.036862</td>\n",
       "      <td>0.010010</td>\n",
       "      <td>0.020709</td>\n",
       "      <td>2.5237</td>\n",
       "      <td>2.1711</td>\n",
       "      <td>0.080865</td>\n",
       "      <td>0.081553</td>\n",
       "      <td>0</td>\n",
       "    </tr>\n",
       "    <tr>\n",
       "      <th>3</th>\n",
       "      <td>0.382410</td>\n",
       "      <td>4.81090</td>\n",
       "      <td>1955.1000</td>\n",
       "      <td>0.46050</td>\n",
       "      <td>0.024453</td>\n",
       "      <td>2.02980</td>\n",
       "      <td>3.74030</td>\n",
       "      <td>4.22810</td>\n",
       "      <td>2.42920</td>\n",
       "      <td>0.156830</td>\n",
       "      <td>...</td>\n",
       "      <td>4.37010</td>\n",
       "      <td>1.001100</td>\n",
       "      <td>0.065750</td>\n",
       "      <td>0.043547</td>\n",
       "      <td>0.629430</td>\n",
       "      <td>4.6262</td>\n",
       "      <td>3.1947</td>\n",
       "      <td>NaN</td>\n",
       "      <td>0.187180</td>\n",
       "      <td>1</td>\n",
       "    </tr>\n",
       "    <tr>\n",
       "      <th>4</th>\n",
       "      <td>0.081316</td>\n",
       "      <td>4.84150</td>\n",
       "      <td>4.0507</td>\n",
       "      <td>2.48320</td>\n",
       "      <td>0.058990</td>\n",
       "      <td>2.37940</td>\n",
       "      <td>1.61270</td>\n",
       "      <td>2.04220</td>\n",
       "      <td>1.65710</td>\n",
       "      <td>0.039377</td>\n",
       "      <td>...</td>\n",
       "      <td>2.68040</td>\n",
       "      <td>0.076524</td>\n",
       "      <td>0.082756</td>\n",
       "      <td>0.041953</td>\n",
       "      <td>0.018092</td>\n",
       "      <td>3.3041</td>\n",
       "      <td>0.1922</td>\n",
       "      <td>0.032600</td>\n",
       "      <td>0.050172</td>\n",
       "      <td>0</td>\n",
       "    </tr>\n",
       "  </tbody>\n",
       "</table>\n",
       "<p>5 rows × 101 columns</p>\n",
       "</div>"
      ],
      "text/plain": [
       "   0.097094   1.1133     45.038  0.88184  0.087009    1.041   1.5486    3.498  \\\n",
       "0  0.050086  0.11158    94.0800  1.76500  0.089417  4.80470  0.26742      NaN   \n",
       "1  0.088447  2.36340     5.0580  0.14436  0.064547  2.44400  4.25450  0.36506   \n",
       "2  0.772540  0.59469        NaN  0.97515  0.015987  0.52884  1.48840  3.96100   \n",
       "3  0.382410  4.81090  1955.1000  0.46050  0.024453  2.02980  3.74030  4.22810   \n",
       "4  0.081316  4.84150     4.0507  2.48320  0.058990  2.37940  1.61270  2.04220   \n",
       "\n",
       "    1.8578  0.0096729  ...   3.6654  0.061607  0.0031605  0.036038    0.0845  \\\n",
       "0  0.56473   0.035123  ...  4.16870  0.075432   0.010869  0.063972  0.079892   \n",
       "1  1.86090   0.009759  ...  4.56130  0.046505        NaN  0.084066  0.064829   \n",
       "2  4.80630   0.048617  ...  0.12832  0.065028   0.036862  0.010010  0.020709   \n",
       "3  2.42920   0.156830  ...  4.37010  1.001100   0.065750  0.043547  0.629430   \n",
       "4  1.65710   0.039377  ...  2.68040  0.076524   0.082756  0.041953  0.018092   \n",
       "\n",
       "   2.4517  3.3373  0.065201  0.091158  0  \n",
       "0  1.9795  3.5064  0.072132  0.091950  1  \n",
       "1  3.3087  2.9969  0.064328  0.036793  0  \n",
       "2  2.5237  2.1711  0.080865  0.081553  0  \n",
       "3  4.6262  3.1947       NaN  0.187180  1  \n",
       "4  3.3041  0.1922  0.032600  0.050172  0  \n",
       "\n",
       "[5 rows x 101 columns]"
      ]
     },
     "execution_count": 5,
     "metadata": {},
     "output_type": "execute_result"
    }
   ],
   "source": [
    "df.head()"
   ]
  },
  {
   "cell_type": "code",
   "execution_count": 6,
   "id": "925970d3",
   "metadata": {
    "execution": {
     "iopub.execute_input": "2023-08-23T17:44:33.341264Z",
     "iopub.status.busy": "2023-08-23T17:44:33.340052Z",
     "iopub.status.idle": "2023-08-23T17:44:33.352870Z",
     "shell.execute_reply": "2023-08-23T17:44:33.351669Z"
    },
    "papermill": {
     "duration": 0.030822,
     "end_time": "2023-08-23T17:44:33.356137",
     "exception": false,
     "start_time": "2023-08-23T17:44:33.325315",
     "status": "completed"
    },
    "tags": []
   },
   "outputs": [],
   "source": [
    "df.rename(columns={'0':'label'}, inplace=True)"
   ]
  },
  {
   "cell_type": "code",
   "execution_count": 7,
   "id": "7919c5c3",
   "metadata": {
    "execution": {
     "iopub.execute_input": "2023-08-23T17:44:33.379622Z",
     "iopub.status.busy": "2023-08-23T17:44:33.378592Z",
     "iopub.status.idle": "2023-08-23T17:44:33.704205Z",
     "shell.execute_reply": "2023-08-23T17:44:33.702997Z"
    },
    "papermill": {
     "duration": 0.341196,
     "end_time": "2023-08-23T17:44:33.708132",
     "exception": false,
     "start_time": "2023-08-23T17:44:33.366936",
     "status": "completed"
    },
    "tags": []
   },
   "outputs": [
    {
     "data": {
      "text/html": [
       "<div>\n",
       "<style scoped>\n",
       "    .dataframe tbody tr th:only-of-type {\n",
       "        vertical-align: middle;\n",
       "    }\n",
       "\n",
       "    .dataframe tbody tr th {\n",
       "        vertical-align: top;\n",
       "    }\n",
       "\n",
       "    .dataframe thead th {\n",
       "        text-align: right;\n",
       "    }\n",
       "</style>\n",
       "<table border=\"1\" class=\"dataframe\">\n",
       "  <thead>\n",
       "    <tr style=\"text-align: right;\">\n",
       "      <th></th>\n",
       "      <th>count</th>\n",
       "      <th>mean</th>\n",
       "      <th>std</th>\n",
       "      <th>min</th>\n",
       "      <th>25%</th>\n",
       "      <th>50%</th>\n",
       "      <th>75%</th>\n",
       "      <th>max</th>\n",
       "    </tr>\n",
       "  </thead>\n",
       "  <tbody>\n",
       "    <tr>\n",
       "      <th>0.097094</th>\n",
       "      <td>584.0</td>\n",
       "      <td>0.326927</td>\n",
       "      <td>0.545668</td>\n",
       "      <td>0.000445</td>\n",
       "      <td>0.042437</td>\n",
       "      <td>0.079444</td>\n",
       "      <td>0.417108</td>\n",
       "      <td>5.1766</td>\n",
       "    </tr>\n",
       "    <tr>\n",
       "      <th>1.1133</th>\n",
       "      <td>589.0</td>\n",
       "      <td>2.560168</td>\n",
       "      <td>1.433962</td>\n",
       "      <td>0.055685</td>\n",
       "      <td>1.354400</td>\n",
       "      <td>2.557500</td>\n",
       "      <td>3.798700</td>\n",
       "      <td>5.0644</td>\n",
       "    </tr>\n",
       "    <tr>\n",
       "      <th>45.038</th>\n",
       "      <td>579.0</td>\n",
       "      <td>291.018659</td>\n",
       "      <td>621.837922</td>\n",
       "      <td>1.007800</td>\n",
       "      <td>36.061000</td>\n",
       "      <td>93.081000</td>\n",
       "      <td>279.535000</td>\n",
       "      <td>9163.1000</td>\n",
       "    </tr>\n",
       "    <tr>\n",
       "      <th>0.88184</th>\n",
       "      <td>579.0</td>\n",
       "      <td>2.646879</td>\n",
       "      <td>1.446142</td>\n",
       "      <td>0.032513</td>\n",
       "      <td>1.513250</td>\n",
       "      <td>2.596600</td>\n",
       "      <td>3.954600</td>\n",
       "      <td>5.0921</td>\n",
       "    </tr>\n",
       "    <tr>\n",
       "      <th>0.087009</th>\n",
       "      <td>574.0</td>\n",
       "      <td>0.182357</td>\n",
       "      <td>0.421245</td>\n",
       "      <td>0.000100</td>\n",
       "      <td>0.031292</td>\n",
       "      <td>0.060234</td>\n",
       "      <td>0.086602</td>\n",
       "      <td>4.6050</td>\n",
       "    </tr>\n",
       "    <tr>\n",
       "      <th>...</th>\n",
       "      <td>...</td>\n",
       "      <td>...</td>\n",
       "      <td>...</td>\n",
       "      <td>...</td>\n",
       "      <td>...</td>\n",
       "      <td>...</td>\n",
       "      <td>...</td>\n",
       "      <td>...</td>\n",
       "    </tr>\n",
       "    <tr>\n",
       "      <th>2.4517</th>\n",
       "      <td>583.0</td>\n",
       "      <td>2.538304</td>\n",
       "      <td>1.459580</td>\n",
       "      <td>0.020070</td>\n",
       "      <td>1.309750</td>\n",
       "      <td>2.453900</td>\n",
       "      <td>3.832700</td>\n",
       "      <td>5.0737</td>\n",
       "    </tr>\n",
       "    <tr>\n",
       "      <th>3.3373</th>\n",
       "      <td>581.0</td>\n",
       "      <td>2.603233</td>\n",
       "      <td>1.420534</td>\n",
       "      <td>0.045843</td>\n",
       "      <td>1.332700</td>\n",
       "      <td>2.604200</td>\n",
       "      <td>3.873200</td>\n",
       "      <td>5.0819</td>\n",
       "    </tr>\n",
       "    <tr>\n",
       "      <th>0.065201</th>\n",
       "      <td>580.0</td>\n",
       "      <td>0.182338</td>\n",
       "      <td>0.559537</td>\n",
       "      <td>0.000553</td>\n",
       "      <td>0.033003</td>\n",
       "      <td>0.057520</td>\n",
       "      <td>0.086267</td>\n",
       "      <td>7.6934</td>\n",
       "    </tr>\n",
       "    <tr>\n",
       "      <th>0.091158</th>\n",
       "      <td>573.0</td>\n",
       "      <td>0.152419</td>\n",
       "      <td>0.303201</td>\n",
       "      <td>0.000018</td>\n",
       "      <td>0.027388</td>\n",
       "      <td>0.057328</td>\n",
       "      <td>0.092809</td>\n",
       "      <td>3.5881</td>\n",
       "    </tr>\n",
       "    <tr>\n",
       "      <th>label</th>\n",
       "      <td>599.0</td>\n",
       "      <td>0.422371</td>\n",
       "      <td>0.494350</td>\n",
       "      <td>0.000000</td>\n",
       "      <td>0.000000</td>\n",
       "      <td>0.000000</td>\n",
       "      <td>1.000000</td>\n",
       "      <td>1.0000</td>\n",
       "    </tr>\n",
       "  </tbody>\n",
       "</table>\n",
       "<p>101 rows × 8 columns</p>\n",
       "</div>"
      ],
      "text/plain": [
       "          count        mean         std       min        25%        50%  \\\n",
       "0.097094  584.0    0.326927    0.545668  0.000445   0.042437   0.079444   \n",
       "1.1133    589.0    2.560168    1.433962  0.055685   1.354400   2.557500   \n",
       "45.038    579.0  291.018659  621.837922  1.007800  36.061000  93.081000   \n",
       "0.88184   579.0    2.646879    1.446142  0.032513   1.513250   2.596600   \n",
       "0.087009  574.0    0.182357    0.421245  0.000100   0.031292   0.060234   \n",
       "...         ...         ...         ...       ...        ...        ...   \n",
       "2.4517    583.0    2.538304    1.459580  0.020070   1.309750   2.453900   \n",
       "3.3373    581.0    2.603233    1.420534  0.045843   1.332700   2.604200   \n",
       "0.065201  580.0    0.182338    0.559537  0.000553   0.033003   0.057520   \n",
       "0.091158  573.0    0.152419    0.303201  0.000018   0.027388   0.057328   \n",
       "label     599.0    0.422371    0.494350  0.000000   0.000000   0.000000   \n",
       "\n",
       "                 75%        max  \n",
       "0.097094    0.417108     5.1766  \n",
       "1.1133      3.798700     5.0644  \n",
       "45.038    279.535000  9163.1000  \n",
       "0.88184     3.954600     5.0921  \n",
       "0.087009    0.086602     4.6050  \n",
       "...              ...        ...  \n",
       "2.4517      3.832700     5.0737  \n",
       "3.3373      3.873200     5.0819  \n",
       "0.065201    0.086267     7.6934  \n",
       "0.091158    0.092809     3.5881  \n",
       "label       1.000000     1.0000  \n",
       "\n",
       "[101 rows x 8 columns]"
      ]
     },
     "execution_count": 7,
     "metadata": {},
     "output_type": "execute_result"
    }
   ],
   "source": [
    "df.describe().transpose()"
   ]
  },
  {
   "cell_type": "code",
   "execution_count": 8,
   "id": "3c83e074",
   "metadata": {
    "execution": {
     "iopub.execute_input": "2023-08-23T17:44:33.742833Z",
     "iopub.status.busy": "2023-08-23T17:44:33.741005Z",
     "iopub.status.idle": "2023-08-23T17:44:33.753801Z",
     "shell.execute_reply": "2023-08-23T17:44:33.752793Z"
    },
    "papermill": {
     "duration": 0.032194,
     "end_time": "2023-08-23T17:44:33.755993",
     "exception": false,
     "start_time": "2023-08-23T17:44:33.723799",
     "status": "completed"
    },
    "tags": []
   },
   "outputs": [
    {
     "data": {
      "text/plain": [
       "0.097094    2.504174\n",
       "1.1133      1.669449\n",
       "45.038      3.338898\n",
       "0.88184     3.338898\n",
       "0.087009    4.173623\n",
       "              ...   \n",
       "2.4517      2.671119\n",
       "3.3373      3.005008\n",
       "0.065201    3.171953\n",
       "0.091158    4.340568\n",
       "label       0.000000\n",
       "Length: 101, dtype: float64"
      ]
     },
     "execution_count": 8,
     "metadata": {},
     "output_type": "execute_result"
    }
   ],
   "source": [
    "(df.isnull().sum()/len(df))*100"
   ]
  },
  {
   "cell_type": "code",
   "execution_count": 9,
   "id": "8bf111d0",
   "metadata": {
    "execution": {
     "iopub.execute_input": "2023-08-23T17:44:33.787507Z",
     "iopub.status.busy": "2023-08-23T17:44:33.786227Z",
     "iopub.status.idle": "2023-08-23T17:44:34.336042Z",
     "shell.execute_reply": "2023-08-23T17:44:34.334758Z"
    },
    "papermill": {
     "duration": 0.569383,
     "end_time": "2023-08-23T17:44:34.338907",
     "exception": false,
     "start_time": "2023-08-23T17:44:33.769524",
     "status": "completed"
    },
    "tags": []
   },
   "outputs": [],
   "source": [
    "from sklearn.experimental import enable_iterative_imputer\n",
    "from sklearn.impute import IterativeImputer\n",
    "imp_mean = IterativeImputer(max_iter=20, random_state=0)"
   ]
  },
  {
   "cell_type": "code",
   "execution_count": 10,
   "id": "493c3d05",
   "metadata": {
    "execution": {
     "iopub.execute_input": "2023-08-23T17:44:34.363841Z",
     "iopub.status.busy": "2023-08-23T17:44:34.363186Z",
     "iopub.status.idle": "2023-08-23T17:44:46.880775Z",
     "shell.execute_reply": "2023-08-23T17:44:46.878794Z"
    },
    "papermill": {
     "duration": 12.53549,
     "end_time": "2023-08-23T17:44:46.885665",
     "exception": false,
     "start_time": "2023-08-23T17:44:34.350175",
     "status": "completed"
    },
    "tags": []
   },
   "outputs": [],
   "source": [
    "trans_data = imp_mean.fit_transform(df)\n",
    "df = pd.DataFrame(trans_data, columns = df.columns)"
   ]
  },
  {
   "cell_type": "code",
   "execution_count": 11,
   "id": "4d2cc1d6",
   "metadata": {
    "execution": {
     "iopub.execute_input": "2023-08-23T17:44:46.979874Z",
     "iopub.status.busy": "2023-08-23T17:44:46.979140Z",
     "iopub.status.idle": "2023-08-23T17:45:37.594671Z",
     "shell.execute_reply": "2023-08-23T17:45:37.592439Z"
    },
    "papermill": {
     "duration": 50.674002,
     "end_time": "2023-08-23T17:45:37.601225",
     "exception": false,
     "start_time": "2023-08-23T17:44:46.927223",
     "status": "completed"
    },
    "tags": []
   },
   "outputs": [],
   "source": [
    "trans_data1 = imp_mean.fit_transform(test)\n",
    "test = pd.DataFrame(trans_data1, columns = test.columns)"
   ]
  },
  {
   "cell_type": "code",
   "execution_count": 12,
   "id": "adfbd058",
   "metadata": {
    "execution": {
     "iopub.execute_input": "2023-08-23T17:45:37.645819Z",
     "iopub.status.busy": "2023-08-23T17:45:37.645435Z",
     "iopub.status.idle": "2023-08-23T17:45:37.677808Z",
     "shell.execute_reply": "2023-08-23T17:45:37.676501Z"
    },
    "papermill": {
     "duration": 0.054946,
     "end_time": "2023-08-23T17:45:37.682034",
     "exception": false,
     "start_time": "2023-08-23T17:45:37.627088",
     "status": "completed"
    },
    "tags": []
   },
   "outputs": [
    {
     "data": {
      "text/html": [
       "<div>\n",
       "<style scoped>\n",
       "    .dataframe tbody tr th:only-of-type {\n",
       "        vertical-align: middle;\n",
       "    }\n",
       "\n",
       "    .dataframe tbody tr th {\n",
       "        vertical-align: top;\n",
       "    }\n",
       "\n",
       "    .dataframe thead th {\n",
       "        text-align: right;\n",
       "    }\n",
       "</style>\n",
       "<table border=\"1\" class=\"dataframe\">\n",
       "  <thead>\n",
       "    <tr style=\"text-align: right;\">\n",
       "      <th></th>\n",
       "      <th>0.097094</th>\n",
       "      <th>1.1133</th>\n",
       "      <th>45.038</th>\n",
       "      <th>0.88184</th>\n",
       "      <th>0.087009</th>\n",
       "      <th>1.041</th>\n",
       "      <th>1.5486</th>\n",
       "      <th>3.498</th>\n",
       "      <th>1.8578</th>\n",
       "      <th>0.0096729</th>\n",
       "      <th>...</th>\n",
       "      <th>3.6654</th>\n",
       "      <th>0.061607</th>\n",
       "      <th>0.0031605</th>\n",
       "      <th>0.036038</th>\n",
       "      <th>0.0845</th>\n",
       "      <th>2.4517</th>\n",
       "      <th>3.3373</th>\n",
       "      <th>0.065201</th>\n",
       "      <th>0.091158</th>\n",
       "      <th>label</th>\n",
       "    </tr>\n",
       "  </thead>\n",
       "  <tbody>\n",
       "    <tr>\n",
       "      <th>0</th>\n",
       "      <td>0.050086</td>\n",
       "      <td>0.11158</td>\n",
       "      <td>94.080000</td>\n",
       "      <td>1.76500</td>\n",
       "      <td>0.089417</td>\n",
       "      <td>4.80470</td>\n",
       "      <td>0.26742</td>\n",
       "      <td>2.534604</td>\n",
       "      <td>0.56473</td>\n",
       "      <td>0.035123</td>\n",
       "      <td>...</td>\n",
       "      <td>4.16870</td>\n",
       "      <td>0.075432</td>\n",
       "      <td>0.010869</td>\n",
       "      <td>0.063972</td>\n",
       "      <td>0.079892</td>\n",
       "      <td>1.9795</td>\n",
       "      <td>3.5064</td>\n",
       "      <td>0.072132</td>\n",
       "      <td>0.091950</td>\n",
       "      <td>1.0</td>\n",
       "    </tr>\n",
       "    <tr>\n",
       "      <th>1</th>\n",
       "      <td>0.088447</td>\n",
       "      <td>2.36340</td>\n",
       "      <td>5.058000</td>\n",
       "      <td>0.14436</td>\n",
       "      <td>0.064547</td>\n",
       "      <td>2.44400</td>\n",
       "      <td>4.25450</td>\n",
       "      <td>0.365060</td>\n",
       "      <td>1.86090</td>\n",
       "      <td>0.009759</td>\n",
       "      <td>...</td>\n",
       "      <td>4.56130</td>\n",
       "      <td>0.046505</td>\n",
       "      <td>0.097366</td>\n",
       "      <td>0.084066</td>\n",
       "      <td>0.064829</td>\n",
       "      <td>3.3087</td>\n",
       "      <td>2.9969</td>\n",
       "      <td>0.064328</td>\n",
       "      <td>0.036793</td>\n",
       "      <td>0.0</td>\n",
       "    </tr>\n",
       "    <tr>\n",
       "      <th>2</th>\n",
       "      <td>0.772540</td>\n",
       "      <td>0.59469</td>\n",
       "      <td>181.226767</td>\n",
       "      <td>0.97515</td>\n",
       "      <td>0.015987</td>\n",
       "      <td>0.52884</td>\n",
       "      <td>1.48840</td>\n",
       "      <td>3.961000</td>\n",
       "      <td>4.80630</td>\n",
       "      <td>0.048617</td>\n",
       "      <td>...</td>\n",
       "      <td>0.12832</td>\n",
       "      <td>0.065028</td>\n",
       "      <td>0.036862</td>\n",
       "      <td>0.010010</td>\n",
       "      <td>0.020709</td>\n",
       "      <td>2.5237</td>\n",
       "      <td>2.1711</td>\n",
       "      <td>0.080865</td>\n",
       "      <td>0.081553</td>\n",
       "      <td>0.0</td>\n",
       "    </tr>\n",
       "    <tr>\n",
       "      <th>3</th>\n",
       "      <td>0.382410</td>\n",
       "      <td>4.81090</td>\n",
       "      <td>1955.100000</td>\n",
       "      <td>0.46050</td>\n",
       "      <td>0.024453</td>\n",
       "      <td>2.02980</td>\n",
       "      <td>3.74030</td>\n",
       "      <td>4.228100</td>\n",
       "      <td>2.42920</td>\n",
       "      <td>0.156830</td>\n",
       "      <td>...</td>\n",
       "      <td>4.37010</td>\n",
       "      <td>1.001100</td>\n",
       "      <td>0.065750</td>\n",
       "      <td>0.043547</td>\n",
       "      <td>0.629430</td>\n",
       "      <td>4.6262</td>\n",
       "      <td>3.1947</td>\n",
       "      <td>-0.049914</td>\n",
       "      <td>0.187180</td>\n",
       "      <td>1.0</td>\n",
       "    </tr>\n",
       "    <tr>\n",
       "      <th>4</th>\n",
       "      <td>0.081316</td>\n",
       "      <td>4.84150</td>\n",
       "      <td>4.050700</td>\n",
       "      <td>2.48320</td>\n",
       "      <td>0.058990</td>\n",
       "      <td>2.37940</td>\n",
       "      <td>1.61270</td>\n",
       "      <td>2.042200</td>\n",
       "      <td>1.65710</td>\n",
       "      <td>0.039377</td>\n",
       "      <td>...</td>\n",
       "      <td>2.68040</td>\n",
       "      <td>0.076524</td>\n",
       "      <td>0.082756</td>\n",
       "      <td>0.041953</td>\n",
       "      <td>0.018092</td>\n",
       "      <td>3.3041</td>\n",
       "      <td>0.1922</td>\n",
       "      <td>0.032600</td>\n",
       "      <td>0.050172</td>\n",
       "      <td>0.0</td>\n",
       "    </tr>\n",
       "  </tbody>\n",
       "</table>\n",
       "<p>5 rows × 101 columns</p>\n",
       "</div>"
      ],
      "text/plain": [
       "   0.097094   1.1133       45.038  0.88184  0.087009    1.041   1.5486  \\\n",
       "0  0.050086  0.11158    94.080000  1.76500  0.089417  4.80470  0.26742   \n",
       "1  0.088447  2.36340     5.058000  0.14436  0.064547  2.44400  4.25450   \n",
       "2  0.772540  0.59469   181.226767  0.97515  0.015987  0.52884  1.48840   \n",
       "3  0.382410  4.81090  1955.100000  0.46050  0.024453  2.02980  3.74030   \n",
       "4  0.081316  4.84150     4.050700  2.48320  0.058990  2.37940  1.61270   \n",
       "\n",
       "      3.498   1.8578  0.0096729  ...   3.6654  0.061607  0.0031605  0.036038  \\\n",
       "0  2.534604  0.56473   0.035123  ...  4.16870  0.075432   0.010869  0.063972   \n",
       "1  0.365060  1.86090   0.009759  ...  4.56130  0.046505   0.097366  0.084066   \n",
       "2  3.961000  4.80630   0.048617  ...  0.12832  0.065028   0.036862  0.010010   \n",
       "3  4.228100  2.42920   0.156830  ...  4.37010  1.001100   0.065750  0.043547   \n",
       "4  2.042200  1.65710   0.039377  ...  2.68040  0.076524   0.082756  0.041953   \n",
       "\n",
       "     0.0845  2.4517  3.3373  0.065201  0.091158  label  \n",
       "0  0.079892  1.9795  3.5064  0.072132  0.091950    1.0  \n",
       "1  0.064829  3.3087  2.9969  0.064328  0.036793    0.0  \n",
       "2  0.020709  2.5237  2.1711  0.080865  0.081553    0.0  \n",
       "3  0.629430  4.6262  3.1947 -0.049914  0.187180    1.0  \n",
       "4  0.018092  3.3041  0.1922  0.032600  0.050172    0.0  \n",
       "\n",
       "[5 rows x 101 columns]"
      ]
     },
     "execution_count": 12,
     "metadata": {},
     "output_type": "execute_result"
    }
   ],
   "source": [
    "df.head()"
   ]
  },
  {
   "cell_type": "code",
   "execution_count": 13,
   "id": "d0a0708f",
   "metadata": {
    "execution": {
     "iopub.execute_input": "2023-08-23T17:45:37.720686Z",
     "iopub.status.busy": "2023-08-23T17:45:37.718002Z",
     "iopub.status.idle": "2023-08-23T17:45:37.743354Z",
     "shell.execute_reply": "2023-08-23T17:45:37.742180Z"
    },
    "papermill": {
     "duration": 0.046993,
     "end_time": "2023-08-23T17:45:37.746451",
     "exception": false,
     "start_time": "2023-08-23T17:45:37.699458",
     "status": "completed"
    },
    "tags": []
   },
   "outputs": [],
   "source": [
    "# Function to call all Classification Algorithms\n",
    "def classification_funct(dataset,column_to_be_studied):\n",
    "    #importing Classification libraries\n",
    "    from sklearn.naive_bayes import GaussianNB\n",
    "    from sklearn.naive_bayes import BernoulliNB\n",
    "    from sklearn.svm import SVC\n",
    "    from sklearn.neighbors import KNeighborsClassifier\n",
    "    from sklearn.tree import DecisionTreeClassifier\n",
    "    from sklearn.ensemble import RandomForestClassifier\n",
    "    from sklearn.linear_model import LogisticRegression\n",
    "    from xgboost import XGBClassifier\n",
    "    \n",
    "    from sklearn.model_selection import train_test_split\n",
    "    from imblearn.over_sampling import SMOTE\n",
    "    from sklearn.preprocessing import StandardScaler\n",
    "    scaler = StandardScaler()\n",
    "    \n",
    "    from sklearn.metrics import accuracy_score,precision_score,recall_score,f1_score\n",
    "    from sklearn.metrics import confusion_matrix,classification_report\n",
    "       \n",
    "    # assign x and y\n",
    "    dataset=dataset[dataset[column_to_be_studied].notnull()]\n",
    "    x,y=dataset.drop(column_to_be_studied,axis=1),dataset[[column_to_be_studied]]    \n",
    "    # Using SMOTE for oversampling imbalanced data\n",
    "    sm = SMOTE(random_state=42)\n",
    "    x, y = sm.fit_resample(x, y)\n",
    "    # Scale the dataset\n",
    "    scaler.fit(x)\n",
    "    x = scaler.transform(x)\n",
    "    # split data in train and test\n",
    "    x_train,x_test,y_train,y_test=train_test_split(x,y,test_size=0.2,random_state=42)\n",
    "    \n",
    "    # create an instance of each classification algorithm\n",
    "    g=GaussianNB()\n",
    "    b=BernoulliNB()\n",
    "    KN=KNeighborsClassifier()\n",
    "    SVC=SVC() \n",
    "    D=DecisionTreeClassifier()\n",
    "    R=RandomForestClassifier()\n",
    "    Log=LogisticRegression()\n",
    "    XGB=XGBClassifier()\n",
    "    \n",
    "    algos=[g,b,KN,SVC,D,R,Log,XGB]\n",
    "    algo_names=['GaussianNB','BernoulliNB','KNeighborsClassifier','SVC','DecisionTreeClassifier','RandomForestClassifier','LogisticRegression','XGBClassifier']\n",
    "   \n",
    "    accuracy_scored=[]\n",
    "    precision_scored=[]\n",
    "    recall_scored=[]\n",
    "    f1_scored=[]\n",
    "    \n",
    "    for item in algos:\n",
    "        item.fit(x_train,y_train)\n",
    "        item.predict(x_test)\n",
    "        accuracy_scored.append(accuracy_score(y_test,item.predict(x_test)))\n",
    "        precision_scored.append(precision_score(y_test,item.predict(x_test)))\n",
    "        recall_scored.append(recall_score(y_test,item.predict(x_test)))\n",
    "        f1_scored.append(f1_score(y_test,item.predict(x_test)))\n",
    "    \n",
    "    # create dataframe with results\n",
    "    result=pd.DataFrame(columns=['f1_score','recall_score','precision_score','accuracy_score'],index=algo_names)\n",
    "    result['f1_score']=f1_scored\n",
    "    result['recall_score']=recall_scored\n",
    "    result['precision_score']=precision_scored\n",
    "    result['accuracy_score']=accuracy_scored\n",
    "    return result.sort_values('accuracy_score',ascending=False)"
   ]
  },
  {
   "cell_type": "code",
   "execution_count": 14,
   "id": "de22a69c",
   "metadata": {
    "execution": {
     "iopub.execute_input": "2023-08-23T17:45:37.789570Z",
     "iopub.status.busy": "2023-08-23T17:45:37.788364Z",
     "iopub.status.idle": "2023-08-23T17:45:40.040657Z",
     "shell.execute_reply": "2023-08-23T17:45:40.039471Z"
    },
    "papermill": {
     "duration": 2.271793,
     "end_time": "2023-08-23T17:45:40.043067",
     "exception": false,
     "start_time": "2023-08-23T17:45:37.771274",
     "status": "completed"
    },
    "tags": []
   },
   "outputs": [
    {
     "name": "stderr",
     "output_type": "stream",
     "text": [
      "/opt/conda/lib/python3.10/site-packages/sklearn/utils/validation.py:1143: DataConversionWarning: A column-vector y was passed when a 1d array was expected. Please change the shape of y to (n_samples, ), for example using ravel().\n",
      "  y = column_or_1d(y, warn=True)\n",
      "/opt/conda/lib/python3.10/site-packages/sklearn/utils/validation.py:1143: DataConversionWarning: A column-vector y was passed when a 1d array was expected. Please change the shape of y to (n_samples, ), for example using ravel().\n",
      "  y = column_or_1d(y, warn=True)\n",
      "/opt/conda/lib/python3.10/site-packages/sklearn/neighbors/_classification.py:215: DataConversionWarning: A column-vector y was passed when a 1d array was expected. Please change the shape of y to (n_samples,), for example using ravel().\n",
      "  return self._fit(X, y)\n",
      "/opt/conda/lib/python3.10/site-packages/sklearn/utils/validation.py:1143: DataConversionWarning: A column-vector y was passed when a 1d array was expected. Please change the shape of y to (n_samples, ), for example using ravel().\n",
      "  y = column_or_1d(y, warn=True)\n",
      "/tmp/ipykernel_20/22900318.py:52: DataConversionWarning: A column-vector y was passed when a 1d array was expected. Please change the shape of y to (n_samples,), for example using ravel().\n",
      "  item.fit(x_train,y_train)\n",
      "/opt/conda/lib/python3.10/site-packages/sklearn/utils/validation.py:1143: DataConversionWarning: A column-vector y was passed when a 1d array was expected. Please change the shape of y to (n_samples, ), for example using ravel().\n",
      "  y = column_or_1d(y, warn=True)\n"
     ]
    },
    {
     "data": {
      "text/html": [
       "<div>\n",
       "<style scoped>\n",
       "    .dataframe tbody tr th:only-of-type {\n",
       "        vertical-align: middle;\n",
       "    }\n",
       "\n",
       "    .dataframe tbody tr th {\n",
       "        vertical-align: top;\n",
       "    }\n",
       "\n",
       "    .dataframe thead th {\n",
       "        text-align: right;\n",
       "    }\n",
       "</style>\n",
       "<table border=\"1\" class=\"dataframe\">\n",
       "  <thead>\n",
       "    <tr style=\"text-align: right;\">\n",
       "      <th></th>\n",
       "      <th>f1_score</th>\n",
       "      <th>recall_score</th>\n",
       "      <th>precision_score</th>\n",
       "      <th>accuracy_score</th>\n",
       "    </tr>\n",
       "  </thead>\n",
       "  <tbody>\n",
       "    <tr>\n",
       "      <th>RandomForestClassifier</th>\n",
       "      <td>0.942149</td>\n",
       "      <td>0.919355</td>\n",
       "      <td>0.966102</td>\n",
       "      <td>0.949640</td>\n",
       "    </tr>\n",
       "    <tr>\n",
       "      <th>XGBClassifier</th>\n",
       "      <td>0.943089</td>\n",
       "      <td>0.935484</td>\n",
       "      <td>0.950820</td>\n",
       "      <td>0.949640</td>\n",
       "    </tr>\n",
       "    <tr>\n",
       "      <th>SVC</th>\n",
       "      <td>0.873950</td>\n",
       "      <td>0.838710</td>\n",
       "      <td>0.912281</td>\n",
       "      <td>0.892086</td>\n",
       "    </tr>\n",
       "    <tr>\n",
       "      <th>BernoulliNB</th>\n",
       "      <td>0.862069</td>\n",
       "      <td>0.806452</td>\n",
       "      <td>0.925926</td>\n",
       "      <td>0.884892</td>\n",
       "    </tr>\n",
       "    <tr>\n",
       "      <th>LogisticRegression</th>\n",
       "      <td>0.859375</td>\n",
       "      <td>0.887097</td>\n",
       "      <td>0.833333</td>\n",
       "      <td>0.870504</td>\n",
       "    </tr>\n",
       "    <tr>\n",
       "      <th>DecisionTreeClassifier</th>\n",
       "      <td>0.837209</td>\n",
       "      <td>0.870968</td>\n",
       "      <td>0.805970</td>\n",
       "      <td>0.848921</td>\n",
       "    </tr>\n",
       "    <tr>\n",
       "      <th>GaussianNB</th>\n",
       "      <td>0.808511</td>\n",
       "      <td>0.919355</td>\n",
       "      <td>0.721519</td>\n",
       "      <td>0.805755</td>\n",
       "    </tr>\n",
       "    <tr>\n",
       "      <th>KNeighborsClassifier</th>\n",
       "      <td>0.713376</td>\n",
       "      <td>0.903226</td>\n",
       "      <td>0.589474</td>\n",
       "      <td>0.676259</td>\n",
       "    </tr>\n",
       "  </tbody>\n",
       "</table>\n",
       "</div>"
      ],
      "text/plain": [
       "                        f1_score  recall_score  precision_score  \\\n",
       "RandomForestClassifier  0.942149      0.919355         0.966102   \n",
       "XGBClassifier           0.943089      0.935484         0.950820   \n",
       "SVC                     0.873950      0.838710         0.912281   \n",
       "BernoulliNB             0.862069      0.806452         0.925926   \n",
       "LogisticRegression      0.859375      0.887097         0.833333   \n",
       "DecisionTreeClassifier  0.837209      0.870968         0.805970   \n",
       "GaussianNB              0.808511      0.919355         0.721519   \n",
       "KNeighborsClassifier    0.713376      0.903226         0.589474   \n",
       "\n",
       "                        accuracy_score  \n",
       "RandomForestClassifier        0.949640  \n",
       "XGBClassifier                 0.949640  \n",
       "SVC                           0.892086  \n",
       "BernoulliNB                   0.884892  \n",
       "LogisticRegression            0.870504  \n",
       "DecisionTreeClassifier        0.848921  \n",
       "GaussianNB                    0.805755  \n",
       "KNeighborsClassifier          0.676259  "
      ]
     },
     "execution_count": 14,
     "metadata": {},
     "output_type": "execute_result"
    }
   ],
   "source": [
    "classification_funct (df, 'label')"
   ]
  },
  {
   "cell_type": "code",
   "execution_count": 15,
   "id": "a60962e9",
   "metadata": {
    "execution": {
     "iopub.execute_input": "2023-08-23T17:45:40.069077Z",
     "iopub.status.busy": "2023-08-23T17:45:40.068013Z",
     "iopub.status.idle": "2023-08-23T17:45:49.145036Z",
     "shell.execute_reply": "2023-08-23T17:45:49.143738Z"
    },
    "papermill": {
     "duration": 9.092951,
     "end_time": "2023-08-23T17:45:49.147918",
     "exception": false,
     "start_time": "2023-08-23T17:45:40.054967",
     "status": "completed"
    },
    "tags": []
   },
   "outputs": [
    {
     "name": "stderr",
     "output_type": "stream",
     "text": [
      "/opt/conda/lib/python3.10/site-packages/tensorflow_io/python/ops/__init__.py:98: UserWarning: unable to load libtensorflow_io_plugins.so: unable to open file: libtensorflow_io_plugins.so, from paths: ['/opt/conda/lib/python3.10/site-packages/tensorflow_io/python/ops/libtensorflow_io_plugins.so']\n",
      "caused by: ['/opt/conda/lib/python3.10/site-packages/tensorflow_io/python/ops/libtensorflow_io_plugins.so: undefined symbol: _ZN3tsl6StatusC1EN10tensorflow5error4CodeESt17basic_string_viewIcSt11char_traitsIcEENS_14SourceLocationE']\n",
      "  warnings.warn(f\"unable to load libtensorflow_io_plugins.so: {e}\")\n",
      "/opt/conda/lib/python3.10/site-packages/tensorflow_io/python/ops/__init__.py:104: UserWarning: file system plugins are not loaded: unable to open file: libtensorflow_io.so, from paths: ['/opt/conda/lib/python3.10/site-packages/tensorflow_io/python/ops/libtensorflow_io.so']\n",
      "caused by: ['/opt/conda/lib/python3.10/site-packages/tensorflow_io/python/ops/libtensorflow_io.so: undefined symbol: _ZTVN10tensorflow13GcsFileSystemE']\n",
      "  warnings.warn(f\"file system plugins are not loaded: {e}\")\n"
     ]
    }
   ],
   "source": [
    "import tensorflow as tf\n",
    "from tensorflow.keras.models import Sequential\n",
    "from tensorflow.keras.layers import Dense, Activation,Dropout\n",
    "from tensorflow.keras.callbacks import EarlyStopping"
   ]
  },
  {
   "cell_type": "code",
   "execution_count": 16,
   "id": "11bd346b",
   "metadata": {
    "execution": {
     "iopub.execute_input": "2023-08-23T17:45:49.175770Z",
     "iopub.status.busy": "2023-08-23T17:45:49.174805Z",
     "iopub.status.idle": "2023-08-23T17:45:49.339559Z",
     "shell.execute_reply": "2023-08-23T17:45:49.338430Z"
    },
    "papermill": {
     "duration": 0.182369,
     "end_time": "2023-08-23T17:45:49.342548",
     "exception": false,
     "start_time": "2023-08-23T17:45:49.160179",
     "status": "completed"
    },
    "tags": []
   },
   "outputs": [],
   "source": [
    "model = Sequential()\n",
    "# input layer\n",
    "model.add(Dense(512,  activation='relu'))\n",
    "model.add(Dropout(0.2))\n",
    "\n",
    "# hidden layer\n",
    "model.add(Dense(256, activation='relu'))\n",
    "model.add(Dropout(0.2))\n",
    "\n",
    "# hidden layer\n",
    "model.add(Dense(128, activation='relu'))\n",
    "model.add(Dropout(0.2))\n",
    "\n",
    "# hidden layer\n",
    "model.add(Dense(64, activation='relu'))\n",
    "model.add(Dropout(0.2))\n",
    "\n",
    "# hidden layer\n",
    "model.add(Dense(32, activation='relu'))\n",
    "model.add(Dropout(0.2))\n",
    "\n",
    "# hidden layer\n",
    "model.add(Dense(16, activation='relu'))\n",
    "model.add(Dropout(0.2))\n",
    "\n",
    "# output layer\n",
    "model.add(Dense(units=1,activation='sigmoid'))\n",
    "\n",
    "# Compile model\n",
    "model.compile(loss='binary_crossentropy', optimizer='adam',metrics=[\"accuracy\"])"
   ]
  },
  {
   "cell_type": "code",
   "execution_count": 17,
   "id": "5adcd894",
   "metadata": {
    "execution": {
     "iopub.execute_input": "2023-08-23T17:45:49.368702Z",
     "iopub.status.busy": "2023-08-23T17:45:49.368265Z",
     "iopub.status.idle": "2023-08-23T17:45:49.374405Z",
     "shell.execute_reply": "2023-08-23T17:45:49.373187Z"
    },
    "papermill": {
     "duration": 0.021753,
     "end_time": "2023-08-23T17:45:49.376555",
     "exception": false,
     "start_time": "2023-08-23T17:45:49.354802",
     "status": "completed"
    },
    "tags": []
   },
   "outputs": [],
   "source": [
    "x = df.drop('label',axis=1).values\n",
    "y = df['label'].values"
   ]
  },
  {
   "cell_type": "code",
   "execution_count": 18,
   "id": "b85dd402",
   "metadata": {
    "execution": {
     "iopub.execute_input": "2023-08-23T17:45:49.404814Z",
     "iopub.status.busy": "2023-08-23T17:45:49.403540Z",
     "iopub.status.idle": "2023-08-23T17:45:49.413497Z",
     "shell.execute_reply": "2023-08-23T17:45:49.412173Z"
    },
    "papermill": {
     "duration": 0.027429,
     "end_time": "2023-08-23T17:45:49.416536",
     "exception": false,
     "start_time": "2023-08-23T17:45:49.389107",
     "status": "completed"
    },
    "tags": []
   },
   "outputs": [],
   "source": [
    "from sklearn.model_selection import train_test_split\n",
    "from sklearn.preprocessing import MinMaxScaler\n",
    "scaler = MinMaxScaler()\n",
    "\n",
    "# split data in train and test\n",
    "x_train,x_test,y_train,y_test=train_test_split(x,y,test_size=0.2,random_state=42)\n",
    "\n",
    "# Scale the dataset\n",
    "x_train = scaler.fit_transform(x_train)\n",
    "x_test = scaler.transform (x_test)"
   ]
  },
  {
   "cell_type": "code",
   "execution_count": 19,
   "id": "e629e8ae",
   "metadata": {
    "execution": {
     "iopub.execute_input": "2023-08-23T17:45:49.442264Z",
     "iopub.status.busy": "2023-08-23T17:45:49.441828Z",
     "iopub.status.idle": "2023-08-23T17:45:53.485092Z",
     "shell.execute_reply": "2023-08-23T17:45:53.483982Z"
    },
    "papermill": {
     "duration": 4.058989,
     "end_time": "2023-08-23T17:45:53.487681",
     "exception": false,
     "start_time": "2023-08-23T17:45:49.428692",
     "status": "completed"
    },
    "tags": []
   },
   "outputs": [
    {
     "name": "stdout",
     "output_type": "stream",
     "text": [
      "Epoch 1/400\n",
      "10/10 [==============================] - 3s 42ms/step - loss: 0.6947 - accuracy: 0.4906 - val_loss: 0.6776 - val_accuracy: 0.6083\n",
      "Epoch 2/400\n",
      "10/10 [==============================] - 0s 12ms/step - loss: 0.6854 - accuracy: 0.5595 - val_loss: 0.6667 - val_accuracy: 0.6083\n",
      "Epoch 3/400\n",
      "10/10 [==============================] - 0s 12ms/step - loss: 0.6787 - accuracy: 0.5532 - val_loss: 0.6560 - val_accuracy: 0.6167\n",
      "Epoch 4/400\n",
      "10/10 [==============================] - 0s 11ms/step - loss: 0.6455 - accuracy: 0.6472 - val_loss: 0.6077 - val_accuracy: 0.6583\n",
      "Epoch 5/400\n",
      "10/10 [==============================] - 0s 12ms/step - loss: 0.6000 - accuracy: 0.6764 - val_loss: 0.5338 - val_accuracy: 0.7500\n",
      "Epoch 6/400\n",
      "10/10 [==============================] - 0s 11ms/step - loss: 0.5278 - accuracy: 0.7474 - val_loss: 0.4804 - val_accuracy: 0.8000\n",
      "Epoch 7/400\n",
      "10/10 [==============================] - 0s 12ms/step - loss: 0.4289 - accuracy: 0.8246 - val_loss: 0.5093 - val_accuracy: 0.7833\n",
      "Epoch 8/400\n",
      "10/10 [==============================] - 0s 11ms/step - loss: 0.4039 - accuracy: 0.8392 - val_loss: 0.5506 - val_accuracy: 0.7333\n",
      "Epoch 9/400\n",
      "10/10 [==============================] - 0s 12ms/step - loss: 0.3908 - accuracy: 0.8330 - val_loss: 0.4825 - val_accuracy: 0.7833\n",
      "Epoch 10/400\n",
      "10/10 [==============================] - 0s 12ms/step - loss: 0.3553 - accuracy: 0.8664 - val_loss: 0.4993 - val_accuracy: 0.8083\n",
      "Epoch 11/400\n",
      "10/10 [==============================] - 0s 12ms/step - loss: 0.2710 - accuracy: 0.9144 - val_loss: 0.5982 - val_accuracy: 0.7833\n",
      "Epoch 11: early stopping\n"
     ]
    },
    {
     "data": {
      "text/plain": [
       "<keras.callbacks.History at 0x7b784464b1f0>"
      ]
     },
     "execution_count": 19,
     "metadata": {},
     "output_type": "execute_result"
    }
   ],
   "source": [
    "early_stop = EarlyStopping(monitor='val_loss', mode='min', verbose=1, patience=5)\n",
    "model.fit(x=x_train, \n",
    "          y=y_train, \n",
    "          epochs=400,\n",
    "          batch_size=50,\n",
    "          validation_data=(x_test, y_test), verbose=1,\n",
    "          callbacks=[early_stop]\n",
    "          )"
   ]
  },
  {
   "cell_type": "code",
   "execution_count": 20,
   "id": "b67dc7cf",
   "metadata": {
    "execution": {
     "iopub.execute_input": "2023-08-23T17:45:53.521907Z",
     "iopub.status.busy": "2023-08-23T17:45:53.521475Z",
     "iopub.status.idle": "2023-08-23T17:45:53.956646Z",
     "shell.execute_reply": "2023-08-23T17:45:53.955131Z"
    },
    "papermill": {
     "duration": 0.455646,
     "end_time": "2023-08-23T17:45:53.959641",
     "exception": false,
     "start_time": "2023-08-23T17:45:53.503995",
     "status": "completed"
    },
    "tags": []
   },
   "outputs": [
    {
     "data": {
      "text/plain": [
       "<Axes: >"
      ]
     },
     "execution_count": 20,
     "metadata": {},
     "output_type": "execute_result"
    },
    {
     "data": {
      "image/png": "[encoded data removed]",
      "text/plain": [
       "<Figure size 640x480 with 1 Axes>"
      ]
     },
     "metadata": {},
     "output_type": "display_data"
    }
   ],
   "source": [
    "model_loss = pd.DataFrame(model.history.history)\n",
    "model_loss.plot()"
   ]
  },
  {
   "cell_type": "code",
   "execution_count": 21,
   "id": "f4a2b2d4",
   "metadata": {
    "execution": {
     "iopub.execute_input": "2023-08-23T17:45:53.997096Z",
     "iopub.status.busy": "2023-08-23T17:45:53.996705Z",
     "iopub.status.idle": "2023-08-23T17:45:54.530000Z",
     "shell.execute_reply": "2023-08-23T17:45:54.528869Z"
    },
    "papermill": {
     "duration": 0.555087,
     "end_time": "2023-08-23T17:45:54.532885",
     "exception": false,
     "start_time": "2023-08-23T17:45:53.977798",
     "status": "completed"
    },
    "tags": []
   },
   "outputs": [
    {
     "name": "stdout",
     "output_type": "stream",
     "text": [
      "125/125 [==============================] - 0s 2ms/step\n"
     ]
    }
   ],
   "source": [
    "predictions = model.predict(test)"
   ]
  },
  {
   "cell_type": "code",
   "execution_count": 22,
   "id": "1472ac01",
   "metadata": {
    "execution": {
     "iopub.execute_input": "2023-08-23T17:45:54.570577Z",
     "iopub.status.busy": "2023-08-23T17:45:54.570154Z",
     "iopub.status.idle": "2023-08-23T17:45:54.577915Z",
     "shell.execute_reply": "2023-08-23T17:45:54.576829Z"
    },
    "papermill": {
     "duration": 0.029373,
     "end_time": "2023-08-23T17:45:54.580090",
     "exception": false,
     "start_time": "2023-08-23T17:45:54.550717",
     "status": "completed"
    },
    "tags": []
   },
   "outputs": [
    {
     "data": {
      "text/plain": [
       "array([[1.0000000e+00],\n",
       "       [1.0000000e+00],\n",
       "       [1.5754264e-13],\n",
       "       ...,\n",
       "       [1.0000000e+00],\n",
       "       [1.0000000e+00],\n",
       "       [1.0000000e+00]], dtype=float32)"
      ]
     },
     "execution_count": 22,
     "metadata": {},
     "output_type": "execute_result"
    }
   ],
   "source": [
    "predictions"
   ]
  },
  {
   "cell_type": "code",
   "execution_count": 23,
   "id": "5e7eb161",
   "metadata": {
    "execution": {
     "iopub.execute_input": "2023-08-23T17:45:54.616935Z",
     "iopub.status.busy": "2023-08-23T17:45:54.616490Z",
     "iopub.status.idle": "2023-08-23T17:45:54.727105Z",
     "shell.execute_reply": "2023-08-23T17:45:54.725899Z"
    },
    "papermill": {
     "duration": 0.132202,
     "end_time": "2023-08-23T17:45:54.729860",
     "exception": false,
     "start_time": "2023-08-23T17:45:54.597658",
     "status": "completed"
    },
    "tags": []
   },
   "outputs": [
    {
     "name": "stdout",
     "output_type": "stream",
     "text": [
      "15/15 [==============================] - 0s 2ms/step - loss: 0.2645 - accuracy: 0.8727\n"
     ]
    }
   ],
   "source": [
    "scores=model.evaluate(x_train,y_train)"
   ]
  },
  {
   "cell_type": "code",
   "execution_count": 24,
   "id": "185017da",
   "metadata": {
    "execution": {
     "iopub.execute_input": "2023-08-23T17:45:54.768342Z",
     "iopub.status.busy": "2023-08-23T17:45:54.767951Z",
     "iopub.status.idle": "2023-08-23T17:45:54.815426Z",
     "shell.execute_reply": "2023-08-23T17:45:54.813954Z"
    },
    "papermill": {
     "duration": 0.069287,
     "end_time": "2023-08-23T17:45:54.817801",
     "exception": false,
     "start_time": "2023-08-23T17:45:54.748514",
     "status": "completed"
    },
    "tags": []
   },
   "outputs": [
    {
     "name": "stdout",
     "output_type": "stream",
     "text": [
      "Model: \"sequential\"\n",
      "_________________________________________________________________\n",
      " Layer (type)                Output Shape              Param #   \n",
      "=================================================================\n",
      " dense (Dense)               (None, 512)               51712     \n",
      "                                                                 \n",
      " dropout (Dropout)           (None, 512)               0         \n",
      "                                                                 \n",
      " dense_1 (Dense)             (None, 256)               131328    \n",
      "                                                                 \n",
      " dropout_1 (Dropout)         (None, 256)               0         \n",
      "                                                                 \n",
      " dense_2 (Dense)             (None, 128)               32896     \n",
      "                                                                 \n",
      " dropout_2 (Dropout)         (None, 128)               0         \n",
      "                                                                 \n",
      " dense_3 (Dense)             (None, 64)                8256      \n",
      "                                                                 \n",
      " dropout_3 (Dropout)         (None, 64)                0         \n",
      "                                                                 \n",
      " dense_4 (Dense)             (None, 32)                2080      \n",
      "                                                                 \n",
      " dropout_4 (Dropout)         (None, 32)                0         \n",
      "                                                                 \n",
      " dense_5 (Dense)             (None, 16)                528       \n",
      "                                                                 \n",
      " dropout_5 (Dropout)         (None, 16)                0         \n",
      "                                                                 \n",
      " dense_6 (Dense)             (None, 1)                 17        \n",
      "                                                                 \n",
      "=================================================================\n",
      "Total params: 226,817\n",
      "Trainable params: 226,817\n",
      "Non-trainable params: 0\n",
      "_________________________________________________________________\n"
     ]
    }
   ],
   "source": [
    "model.summary()"
   ]
  },
  {
   "cell_type": "code",
   "execution_count": 25,
   "id": "464d7394",
   "metadata": {
    "execution": {
     "iopub.execute_input": "2023-08-23T17:45:54.864119Z",
     "iopub.status.busy": "2023-08-23T17:45:54.863672Z",
     "iopub.status.idle": "2023-08-23T17:45:54.870551Z",
     "shell.execute_reply": "2023-08-23T17:45:54.868967Z"
    },
    "papermill": {
     "duration": 0.033467,
     "end_time": "2023-08-23T17:45:54.873092",
     "exception": false,
     "start_time": "2023-08-23T17:45:54.839625",
     "status": "completed"
    },
    "tags": []
   },
   "outputs": [
    {
     "name": "stdout",
     "output_type": "stream",
     "text": [
      "accuracy: 87.27%\n"
     ]
    }
   ],
   "source": [
    "print(\"%s: %.2f%%\" % (model.metrics_names[1],scores[1]*100))"
   ]
  },
  {
   "cell_type": "code",
   "execution_count": 26,
   "id": "56c7527b",
   "metadata": {
    "execution": {
     "iopub.execute_input": "2023-08-23T17:45:54.918192Z",
     "iopub.status.busy": "2023-08-23T17:45:54.917760Z",
     "iopub.status.idle": "2023-08-23T17:45:54.923652Z",
     "shell.execute_reply": "2023-08-23T17:45:54.922397Z"
    },
    "papermill": {
     "duration": 0.030753,
     "end_time": "2023-08-23T17:45:54.926013",
     "exception": false,
     "start_time": "2023-08-23T17:45:54.895260",
     "status": "completed"
    },
    "tags": []
   },
   "outputs": [],
   "source": [
    "submission = pd.DataFrame (data=predictions)\n"
   ]
  },
  {
   "cell_type": "code",
   "execution_count": 27,
   "id": "2c74b01c",
   "metadata": {
    "execution": {
     "iopub.execute_input": "2023-08-23T17:45:54.970157Z",
     "iopub.status.busy": "2023-08-23T17:45:54.969735Z",
     "iopub.status.idle": "2023-08-23T17:45:54.981233Z",
     "shell.execute_reply": "2023-08-23T17:45:54.980337Z"
    },
    "papermill": {
     "duration": 0.035936,
     "end_time": "2023-08-23T17:45:54.983296",
     "exception": false,
     "start_time": "2023-08-23T17:45:54.947360",
     "status": "completed"
    },
    "tags": []
   },
   "outputs": [
    {
     "data": {
      "text/html": [
       "<div>\n",
       "<style scoped>\n",
       "    .dataframe tbody tr th:only-of-type {\n",
       "        vertical-align: middle;\n",
       "    }\n",
       "\n",
       "    .dataframe tbody tr th {\n",
       "        vertical-align: top;\n",
       "    }\n",
       "\n",
       "    .dataframe thead th {\n",
       "        text-align: right;\n",
       "    }\n",
       "</style>\n",
       "<table border=\"1\" class=\"dataframe\">\n",
       "  <thead>\n",
       "    <tr style=\"text-align: right;\">\n",
       "      <th></th>\n",
       "      <th>0</th>\n",
       "    </tr>\n",
       "  </thead>\n",
       "  <tbody>\n",
       "    <tr>\n",
       "      <th>0</th>\n",
       "      <td>1.000000e+00</td>\n",
       "    </tr>\n",
       "    <tr>\n",
       "      <th>1</th>\n",
       "      <td>1.000000e+00</td>\n",
       "    </tr>\n",
       "    <tr>\n",
       "      <th>2</th>\n",
       "      <td>1.575426e-13</td>\n",
       "    </tr>\n",
       "    <tr>\n",
       "      <th>3</th>\n",
       "      <td>1.000000e+00</td>\n",
       "    </tr>\n",
       "    <tr>\n",
       "      <th>4</th>\n",
       "      <td>1.000000e+00</td>\n",
       "    </tr>\n",
       "  </tbody>\n",
       "</table>\n",
       "</div>"
      ],
      "text/plain": [
       "              0\n",
       "0  1.000000e+00\n",
       "1  1.000000e+00\n",
       "2  1.575426e-13\n",
       "3  1.000000e+00\n",
       "4  1.000000e+00"
      ]
     },
     "execution_count": 27,
     "metadata": {},
     "output_type": "execute_result"
    }
   ],
   "source": [
    "submission.head()"
   ]
  },
  {
   "cell_type": "code",
   "execution_count": 28,
   "id": "dfab89a8",
   "metadata": {
    "execution": {
     "iopub.execute_input": "2023-08-23T17:45:55.028472Z",
     "iopub.status.busy": "2023-08-23T17:45:55.028058Z",
     "iopub.status.idle": "2023-08-23T17:45:55.049822Z",
     "shell.execute_reply": "2023-08-23T17:45:55.048774Z"
    },
    "papermill": {
     "duration": 0.04693,
     "end_time": "2023-08-23T17:45:55.052486",
     "exception": false,
     "start_time": "2023-08-23T17:45:55.005556",
     "status": "completed"
    },
    "tags": []
   },
   "outputs": [],
   "source": [
    "submission.to_csv('submission.csv', index=False)"
   ]
  },
  {
   "cell_type": "code",
   "execution_count": null,
   "id": "c5ffa153",
   "metadata": {
    "papermill": {
     "duration": 0.02157,
     "end_time": "2023-08-23T17:45:55.095730",
     "exception": false,
     "start_time": "2023-08-23T17:45:55.074160",
     "status": "completed"
    },
    "tags": []
   },
   "outputs": [],
   "source": []
  }
 ],
 "metadata": {
  "kernelspec": {
   "display_name": "Python 3",
   "language": "python",
   "name": "python3"
  },
  "language_info": {
   "codemirror_mode": {
    "name": "ipython",
    "version": 3
   },
   "file_extension": ".py",
   "mimetype": "text/x-python",
   "name": "python",
   "nbconvert_exporter": "python",
   "pygments_lexer": "ipython3",
   "version": "3.10.12"
  },
  "papermill": {
   "default_parameters": {},
   "duration": 98.893075,
   "end_time": "2023-08-23T17:45:57.897555",
   "environment_variables": {},
   "exception": null,
   "input_path": "__notebook__.ipynb",
   "output_path": "__notebook__.ipynb",
   "parameters": {},
   "start_time": "2023-08-23T17:44:19.004480",
   "version": "2.4.0"
  }
 },
 "nbformat": 4,
 "nbformat_minor": 5
}

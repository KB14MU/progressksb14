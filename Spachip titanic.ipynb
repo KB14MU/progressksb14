{
 "cells": [
  {
   "cell_type": "code",
   "execution_count": 1,
   "id": "40d5e48d",
   "metadata": {
    "_cell_guid": "b1076dfc-b9ad-4769-8c92-a6c4dae69d19",
    "_uuid": "8f2839f25d086af736a60e9eeb907d3b93b6e0e5",
    "execution": {
     "iopub.execute_input": "2023-08-02T16:29:14.682515Z",
     "iopub.status.busy": "2023-08-02T16:29:14.682102Z",
     "iopub.status.idle": "2023-08-02T16:29:14.697839Z",
     "shell.execute_reply": "2023-08-02T16:29:14.696745Z"
    },
    "papermill": {
     "duration": 0.038311,
     "end_time": "2023-08-02T16:29:14.700427",
     "exception": false,
     "start_time": "2023-08-02T16:29:14.662116",
     "status": "completed"
    },
    "tags": []
   },
   "outputs": [
    {
     "name": "stdout",
     "output_type": "stream",
     "text": [
      "/kaggle/input/spaceship-titanic/sample_submission.csv\n",
      "/kaggle/input/spaceship-titanic/train.csv\n",
      "/kaggle/input/spaceship-titanic/test.csv\n"
     ]
    }
   ],
   "source": [
    "# This Python 3 environment comes with many helpful analytics libraries installed\n",
    "# It is defined by the kaggle/python Docker image: https://github.com/kaggle/docker-python\n",
    "# For example, here's several helpful packages to load\n",
    "\n",
    "import numpy as np # linear algebra\n",
    "import pandas as pd # data processing, CSV file I/O (e.g. pd.read_csv)\n",
    "\n",
    "# Input data files are available in the read-only \"../input/\" directory\n",
    "# For example, running this (by clicking run or pressing Shift+Enter) will list all files under the input directory\n",
    "\n",
    "import os\n",
    "for dirname, _, filenames in os.walk('/kaggle/input'):\n",
    "    for filename in filenames:\n",
    "        print(os.path.join(dirname, filename))\n",
    "\n",
    "# You can write up to 20GB to the current directory (/kaggle/working/) that gets preserved as output when you create a version using \"Save & Run All\" \n",
    "# You can also write temporary files to /kaggle/temp/, but they won't be saved outside of the current session"
   ]
  },
  {
   "cell_type": "code",
   "execution_count": 2,
   "id": "3a57303c",
   "metadata": {
    "execution": {
     "iopub.execute_input": "2023-08-02T16:29:14.738733Z",
     "iopub.status.busy": "2023-08-02T16:29:14.738326Z",
     "iopub.status.idle": "2023-08-02T16:29:24.933992Z",
     "shell.execute_reply": "2023-08-02T16:29:24.933130Z"
    },
    "papermill": {
     "duration": 10.217888,
     "end_time": "2023-08-02T16:29:24.936536",
     "exception": false,
     "start_time": "2023-08-02T16:29:14.718648",
     "status": "completed"
    },
    "tags": []
   },
   "outputs": [
    {
     "name": "stderr",
     "output_type": "stream",
     "text": [
      "/opt/conda/lib/python3.10/site-packages/scipy/__init__.py:146: UserWarning: A NumPy version >=1.16.5 and <1.23.0 is required for this version of SciPy (detected version 1.23.5\n",
      "  warnings.warn(f\"A NumPy version >={np_minversion} and <{np_maxversion}\"\n",
      "/opt/conda/lib/python3.10/site-packages/tensorflow_io/python/ops/__init__.py:98: UserWarning: unable to load libtensorflow_io_plugins.so: unable to open file: libtensorflow_io_plugins.so, from paths: ['/opt/conda/lib/python3.10/site-packages/tensorflow_io/python/ops/libtensorflow_io_plugins.so']\n",
      "caused by: ['/opt/conda/lib/python3.10/site-packages/tensorflow_io/python/ops/libtensorflow_io_plugins.so: undefined symbol: _ZN3tsl6StatusC1EN10tensorflow5error4CodeESt17basic_string_viewIcSt11char_traitsIcEENS_14SourceLocationE']\n",
      "  warnings.warn(f\"unable to load libtensorflow_io_plugins.so: {e}\")\n",
      "/opt/conda/lib/python3.10/site-packages/tensorflow_io/python/ops/__init__.py:104: UserWarning: file system plugins are not loaded: unable to open file: libtensorflow_io.so, from paths: ['/opt/conda/lib/python3.10/site-packages/tensorflow_io/python/ops/libtensorflow_io.so']\n",
      "caused by: ['/opt/conda/lib/python3.10/site-packages/tensorflow_io/python/ops/libtensorflow_io.so: undefined symbol: _ZTVN10tensorflow13GcsFileSystemE']\n",
      "  warnings.warn(f\"file system plugins are not loaded: {e}\")\n"
     ]
    }
   ],
   "source": [
    "import matplotlib.pyplot as plt\n",
    "import seaborn as sns\n",
    "import tensorflow as tf\n",
    "sns.set()\n",
    "%matplotlib inline"
   ]
  },
  {
   "cell_type": "code",
   "execution_count": 3,
   "id": "6e05d942",
   "metadata": {
    "execution": {
     "iopub.execute_input": "2023-08-02T16:29:24.975911Z",
     "iopub.status.busy": "2023-08-02T16:29:24.974549Z",
     "iopub.status.idle": "2023-08-02T16:29:25.074866Z",
     "shell.execute_reply": "2023-08-02T16:29:25.073565Z"
    },
    "papermill": {
     "duration": 0.12223,
     "end_time": "2023-08-02T16:29:25.077323",
     "exception": false,
     "start_time": "2023-08-02T16:29:24.955093",
     "status": "completed"
    },
    "tags": []
   },
   "outputs": [
    {
     "data": {
      "text/html": [
       "<div>\n",
       "<style scoped>\n",
       "    .dataframe tbody tr th:only-of-type {\n",
       "        vertical-align: middle;\n",
       "    }\n",
       "\n",
       "    .dataframe tbody tr th {\n",
       "        vertical-align: top;\n",
       "    }\n",
       "\n",
       "    .dataframe thead th {\n",
       "        text-align: right;\n",
       "    }\n",
       "</style>\n",
       "<table border=\"1\" class=\"dataframe\">\n",
       "  <thead>\n",
       "    <tr style=\"text-align: right;\">\n",
       "      <th></th>\n",
       "      <th>PassengerId</th>\n",
       "      <th>HomePlanet</th>\n",
       "      <th>CryoSleep</th>\n",
       "      <th>Cabin</th>\n",
       "      <th>Destination</th>\n",
       "      <th>Age</th>\n",
       "      <th>VIP</th>\n",
       "      <th>RoomService</th>\n",
       "      <th>FoodCourt</th>\n",
       "      <th>ShoppingMall</th>\n",
       "      <th>Spa</th>\n",
       "      <th>VRDeck</th>\n",
       "      <th>Name</th>\n",
       "      <th>Transported</th>\n",
       "    </tr>\n",
       "  </thead>\n",
       "  <tbody>\n",
       "    <tr>\n",
       "      <th>0</th>\n",
       "      <td>0001_01</td>\n",
       "      <td>Europa</td>\n",
       "      <td>False</td>\n",
       "      <td>B/0/P</td>\n",
       "      <td>TRAPPIST-1e</td>\n",
       "      <td>39.0</td>\n",
       "      <td>False</td>\n",
       "      <td>0.0</td>\n",
       "      <td>0.0</td>\n",
       "      <td>0.0</td>\n",
       "      <td>0.0</td>\n",
       "      <td>0.0</td>\n",
       "      <td>Maham Ofracculy</td>\n",
       "      <td>False</td>\n",
       "    </tr>\n",
       "    <tr>\n",
       "      <th>1</th>\n",
       "      <td>0002_01</td>\n",
       "      <td>Earth</td>\n",
       "      <td>False</td>\n",
       "      <td>F/0/S</td>\n",
       "      <td>TRAPPIST-1e</td>\n",
       "      <td>24.0</td>\n",
       "      <td>False</td>\n",
       "      <td>109.0</td>\n",
       "      <td>9.0</td>\n",
       "      <td>25.0</td>\n",
       "      <td>549.0</td>\n",
       "      <td>44.0</td>\n",
       "      <td>Juanna Vines</td>\n",
       "      <td>True</td>\n",
       "    </tr>\n",
       "    <tr>\n",
       "      <th>2</th>\n",
       "      <td>0003_01</td>\n",
       "      <td>Europa</td>\n",
       "      <td>False</td>\n",
       "      <td>A/0/S</td>\n",
       "      <td>TRAPPIST-1e</td>\n",
       "      <td>58.0</td>\n",
       "      <td>True</td>\n",
       "      <td>43.0</td>\n",
       "      <td>3576.0</td>\n",
       "      <td>0.0</td>\n",
       "      <td>6715.0</td>\n",
       "      <td>49.0</td>\n",
       "      <td>Altark Susent</td>\n",
       "      <td>False</td>\n",
       "    </tr>\n",
       "    <tr>\n",
       "      <th>3</th>\n",
       "      <td>0003_02</td>\n",
       "      <td>Europa</td>\n",
       "      <td>False</td>\n",
       "      <td>A/0/S</td>\n",
       "      <td>TRAPPIST-1e</td>\n",
       "      <td>33.0</td>\n",
       "      <td>False</td>\n",
       "      <td>0.0</td>\n",
       "      <td>1283.0</td>\n",
       "      <td>371.0</td>\n",
       "      <td>3329.0</td>\n",
       "      <td>193.0</td>\n",
       "      <td>Solam Susent</td>\n",
       "      <td>False</td>\n",
       "    </tr>\n",
       "    <tr>\n",
       "      <th>4</th>\n",
       "      <td>0004_01</td>\n",
       "      <td>Earth</td>\n",
       "      <td>False</td>\n",
       "      <td>F/1/S</td>\n",
       "      <td>TRAPPIST-1e</td>\n",
       "      <td>16.0</td>\n",
       "      <td>False</td>\n",
       "      <td>303.0</td>\n",
       "      <td>70.0</td>\n",
       "      <td>151.0</td>\n",
       "      <td>565.0</td>\n",
       "      <td>2.0</td>\n",
       "      <td>Willy Santantines</td>\n",
       "      <td>True</td>\n",
       "    </tr>\n",
       "  </tbody>\n",
       "</table>\n",
       "</div>"
      ],
      "text/plain": [
       "  PassengerId HomePlanet CryoSleep  Cabin  Destination   Age    VIP  \\\n",
       "0     0001_01     Europa     False  B/0/P  TRAPPIST-1e  39.0  False   \n",
       "1     0002_01      Earth     False  F/0/S  TRAPPIST-1e  24.0  False   \n",
       "2     0003_01     Europa     False  A/0/S  TRAPPIST-1e  58.0   True   \n",
       "3     0003_02     Europa     False  A/0/S  TRAPPIST-1e  33.0  False   \n",
       "4     0004_01      Earth     False  F/1/S  TRAPPIST-1e  16.0  False   \n",
       "\n",
       "   RoomService  FoodCourt  ShoppingMall     Spa  VRDeck               Name  \\\n",
       "0          0.0        0.0           0.0     0.0     0.0    Maham Ofracculy   \n",
       "1        109.0        9.0          25.0   549.0    44.0       Juanna Vines   \n",
       "2         43.0     3576.0           0.0  6715.0    49.0      Altark Susent   \n",
       "3          0.0     1283.0         371.0  3329.0   193.0       Solam Susent   \n",
       "4        303.0       70.0         151.0   565.0     2.0  Willy Santantines   \n",
       "\n",
       "   Transported  \n",
       "0        False  \n",
       "1         True  \n",
       "2        False  \n",
       "3        False  \n",
       "4         True  "
      ]
     },
     "execution_count": 3,
     "metadata": {},
     "output_type": "execute_result"
    }
   ],
   "source": [
    "pd.set_option('display.max_columns',None)\n",
    "df = pd.read_csv('/kaggle/input/spaceship-titanic/train.csv')\n",
    "df.head()"
   ]
  },
  {
   "cell_type": "code",
   "execution_count": 4,
   "id": "539e7714",
   "metadata": {
    "execution": {
     "iopub.execute_input": "2023-08-02T16:29:25.116332Z",
     "iopub.status.busy": "2023-08-02T16:29:25.115953Z",
     "iopub.status.idle": "2023-08-02T16:29:25.162860Z",
     "shell.execute_reply": "2023-08-02T16:29:25.161679Z"
    },
    "papermill": {
     "duration": 0.069557,
     "end_time": "2023-08-02T16:29:25.165504",
     "exception": false,
     "start_time": "2023-08-02T16:29:25.095947",
     "status": "completed"
    },
    "tags": []
   },
   "outputs": [
    {
     "name": "stdout",
     "output_type": "stream",
     "text": [
      "<class 'pandas.core.frame.DataFrame'>\n",
      "RangeIndex: 8693 entries, 0 to 8692\n",
      "Data columns (total 14 columns):\n",
      " #   Column        Non-Null Count  Dtype  \n",
      "---  ------        --------------  -----  \n",
      " 0   PassengerId   8693 non-null   object \n",
      " 1   HomePlanet    8492 non-null   object \n",
      " 2   CryoSleep     8476 non-null   object \n",
      " 3   Cabin         8494 non-null   object \n",
      " 4   Destination   8511 non-null   object \n",
      " 5   Age           8514 non-null   float64\n",
      " 6   VIP           8490 non-null   object \n",
      " 7   RoomService   8512 non-null   float64\n",
      " 8   FoodCourt     8510 non-null   float64\n",
      " 9   ShoppingMall  8485 non-null   float64\n",
      " 10  Spa           8510 non-null   float64\n",
      " 11  VRDeck        8505 non-null   float64\n",
      " 12  Name          8493 non-null   object \n",
      " 13  Transported   8693 non-null   bool   \n",
      "dtypes: bool(1), float64(6), object(7)\n",
      "memory usage: 891.5+ KB\n"
     ]
    }
   ],
   "source": [
    "df.info()"
   ]
  },
  {
   "cell_type": "code",
   "execution_count": 5,
   "id": "7d5d7e2e",
   "metadata": {
    "execution": {
     "iopub.execute_input": "2023-08-02T16:29:25.204827Z",
     "iopub.status.busy": "2023-08-02T16:29:25.203988Z",
     "iopub.status.idle": "2023-08-02T16:29:25.243375Z",
     "shell.execute_reply": "2023-08-02T16:29:25.242345Z"
    },
    "papermill": {
     "duration": 0.061966,
     "end_time": "2023-08-02T16:29:25.246000",
     "exception": false,
     "start_time": "2023-08-02T16:29:25.184034",
     "status": "completed"
    },
    "tags": []
   },
   "outputs": [
    {
     "data": {
      "text/html": [
       "<div>\n",
       "<style scoped>\n",
       "    .dataframe tbody tr th:only-of-type {\n",
       "        vertical-align: middle;\n",
       "    }\n",
       "\n",
       "    .dataframe tbody tr th {\n",
       "        vertical-align: top;\n",
       "    }\n",
       "\n",
       "    .dataframe thead th {\n",
       "        text-align: right;\n",
       "    }\n",
       "</style>\n",
       "<table border=\"1\" class=\"dataframe\">\n",
       "  <thead>\n",
       "    <tr style=\"text-align: right;\">\n",
       "      <th></th>\n",
       "      <th>count</th>\n",
       "      <th>mean</th>\n",
       "      <th>std</th>\n",
       "      <th>min</th>\n",
       "      <th>25%</th>\n",
       "      <th>50%</th>\n",
       "      <th>75%</th>\n",
       "      <th>max</th>\n",
       "    </tr>\n",
       "  </thead>\n",
       "  <tbody>\n",
       "    <tr>\n",
       "      <th>Age</th>\n",
       "      <td>8514.0</td>\n",
       "      <td>28.827930</td>\n",
       "      <td>14.489021</td>\n",
       "      <td>0.0</td>\n",
       "      <td>19.0</td>\n",
       "      <td>27.0</td>\n",
       "      <td>38.0</td>\n",
       "      <td>79.0</td>\n",
       "    </tr>\n",
       "    <tr>\n",
       "      <th>RoomService</th>\n",
       "      <td>8512.0</td>\n",
       "      <td>224.687617</td>\n",
       "      <td>666.717663</td>\n",
       "      <td>0.0</td>\n",
       "      <td>0.0</td>\n",
       "      <td>0.0</td>\n",
       "      <td>47.0</td>\n",
       "      <td>14327.0</td>\n",
       "    </tr>\n",
       "    <tr>\n",
       "      <th>FoodCourt</th>\n",
       "      <td>8510.0</td>\n",
       "      <td>458.077203</td>\n",
       "      <td>1611.489240</td>\n",
       "      <td>0.0</td>\n",
       "      <td>0.0</td>\n",
       "      <td>0.0</td>\n",
       "      <td>76.0</td>\n",
       "      <td>29813.0</td>\n",
       "    </tr>\n",
       "    <tr>\n",
       "      <th>ShoppingMall</th>\n",
       "      <td>8485.0</td>\n",
       "      <td>173.729169</td>\n",
       "      <td>604.696458</td>\n",
       "      <td>0.0</td>\n",
       "      <td>0.0</td>\n",
       "      <td>0.0</td>\n",
       "      <td>27.0</td>\n",
       "      <td>23492.0</td>\n",
       "    </tr>\n",
       "    <tr>\n",
       "      <th>Spa</th>\n",
       "      <td>8510.0</td>\n",
       "      <td>311.138778</td>\n",
       "      <td>1136.705535</td>\n",
       "      <td>0.0</td>\n",
       "      <td>0.0</td>\n",
       "      <td>0.0</td>\n",
       "      <td>59.0</td>\n",
       "      <td>22408.0</td>\n",
       "    </tr>\n",
       "    <tr>\n",
       "      <th>VRDeck</th>\n",
       "      <td>8505.0</td>\n",
       "      <td>304.854791</td>\n",
       "      <td>1145.717189</td>\n",
       "      <td>0.0</td>\n",
       "      <td>0.0</td>\n",
       "      <td>0.0</td>\n",
       "      <td>46.0</td>\n",
       "      <td>24133.0</td>\n",
       "    </tr>\n",
       "  </tbody>\n",
       "</table>\n",
       "</div>"
      ],
      "text/plain": [
       "               count        mean          std  min   25%   50%   75%      max\n",
       "Age           8514.0   28.827930    14.489021  0.0  19.0  27.0  38.0     79.0\n",
       "RoomService   8512.0  224.687617   666.717663  0.0   0.0   0.0  47.0  14327.0\n",
       "FoodCourt     8510.0  458.077203  1611.489240  0.0   0.0   0.0  76.0  29813.0\n",
       "ShoppingMall  8485.0  173.729169   604.696458  0.0   0.0   0.0  27.0  23492.0\n",
       "Spa           8510.0  311.138778  1136.705535  0.0   0.0   0.0  59.0  22408.0\n",
       "VRDeck        8505.0  304.854791  1145.717189  0.0   0.0   0.0  46.0  24133.0"
      ]
     },
     "execution_count": 5,
     "metadata": {},
     "output_type": "execute_result"
    }
   ],
   "source": [
    "df.describe().transpose()"
   ]
  },
  {
   "cell_type": "code",
   "execution_count": 6,
   "id": "782a611f",
   "metadata": {
    "execution": {
     "iopub.execute_input": "2023-08-02T16:29:25.285940Z",
     "iopub.status.busy": "2023-08-02T16:29:25.285522Z",
     "iopub.status.idle": "2023-08-02T16:29:25.970237Z",
     "shell.execute_reply": "2023-08-02T16:29:25.969282Z"
    },
    "papermill": {
     "duration": 0.707657,
     "end_time": "2023-08-02T16:29:25.972661",
     "exception": false,
     "start_time": "2023-08-02T16:29:25.265004",
     "status": "completed"
    },
    "tags": []
   },
   "outputs": [
    {
     "name": "stderr",
     "output_type": "stream",
     "text": [
      "/tmp/ipykernel_20/3870688284.py:1: FutureWarning: The default value of numeric_only in DataFrame.corr is deprecated. In a future version, it will default to False. Select only valid columns or specify the value of numeric_only to silence this warning.\n",
      "  corr = df.corr()\n"
     ]
    },
    {
     "data": {
      "text/plain": [
       "<Axes: >"
      ]
     },
     "execution_count": 6,
     "metadata": {},
     "output_type": "execute_result"
    },
    {
     "data": {
      "image/png": "[encoded data removed]",
      "text/plain": [
       "<Figure size 640x480 with 2 Axes>"
      ]
     },
     "metadata": {},
     "output_type": "display_data"
    }
   ],
   "source": [
    "corr = df.corr()\n",
    "sns.heatmap(corr, annot=True)"
   ]
  },
  {
   "cell_type": "code",
   "execution_count": 7,
   "id": "53959d6b",
   "metadata": {
    "execution": {
     "iopub.execute_input": "2023-08-02T16:29:26.015948Z",
     "iopub.status.busy": "2023-08-02T16:29:26.015350Z",
     "iopub.status.idle": "2023-08-02T16:29:50.898629Z",
     "shell.execute_reply": "2023-08-02T16:29:50.897534Z"
    },
    "papermill": {
     "duration": 24.911288,
     "end_time": "2023-08-02T16:29:50.904339",
     "exception": false,
     "start_time": "2023-08-02T16:29:25.993051",
     "status": "completed"
    },
    "tags": []
   },
   "outputs": [
    {
     "data": {
      "text/plain": [
       "<seaborn.axisgrid.PairGrid at 0x7a93836673a0>"
      ]
     },
     "execution_count": 7,
     "metadata": {},
     "output_type": "execute_result"
    },
    {
     "data": {
      "image/png": "[encoded data removed]",
      "text/plain": [
       "<Figure size 2250x2250 with 81 Axes>"
      ]
     },
     "metadata": {},
     "output_type": "display_data"
    }
   ],
   "source": [
    "g=sns.PairGrid(df)\n",
    "g.map(plt.scatter)"
   ]
  },
  {
   "cell_type": "code",
   "execution_count": 8,
   "id": "526c5d8c",
   "metadata": {
    "execution": {
     "iopub.execute_input": "2023-08-02T16:29:50.957709Z",
     "iopub.status.busy": "2023-08-02T16:29:50.956980Z",
     "iopub.status.idle": "2023-08-02T16:29:50.969433Z",
     "shell.execute_reply": "2023-08-02T16:29:50.968650Z"
    },
    "papermill": {
     "duration": 0.041741,
     "end_time": "2023-08-02T16:29:50.971579",
     "exception": false,
     "start_time": "2023-08-02T16:29:50.929838",
     "status": "completed"
    },
    "tags": []
   },
   "outputs": [],
   "source": [
    "df['CryoSleep'] = df['CryoSleep'].apply(lambda x: 1 if x==True else 0)"
   ]
  },
  {
   "cell_type": "code",
   "execution_count": 9,
   "id": "dff51332",
   "metadata": {
    "execution": {
     "iopub.execute_input": "2023-08-02T16:29:51.024419Z",
     "iopub.status.busy": "2023-08-02T16:29:51.023701Z",
     "iopub.status.idle": "2023-08-02T16:29:51.032043Z",
     "shell.execute_reply": "2023-08-02T16:29:51.031276Z"
    },
    "papermill": {
     "duration": 0.037508,
     "end_time": "2023-08-02T16:29:51.034072",
     "exception": false,
     "start_time": "2023-08-02T16:29:50.996564",
     "status": "completed"
    },
    "tags": []
   },
   "outputs": [
    {
     "data": {
      "text/plain": [
       "6560"
      ]
     },
     "execution_count": 9,
     "metadata": {},
     "output_type": "execute_result"
    }
   ],
   "source": [
    "df['Cabin'].nunique()"
   ]
  },
  {
   "cell_type": "code",
   "execution_count": 10,
   "id": "112f5320",
   "metadata": {
    "execution": {
     "iopub.execute_input": "2023-08-02T16:29:51.086689Z",
     "iopub.status.busy": "2023-08-02T16:29:51.085879Z",
     "iopub.status.idle": "2023-08-02T16:29:51.113336Z",
     "shell.execute_reply": "2023-08-02T16:29:51.112038Z"
    },
    "papermill": {
     "duration": 0.057008,
     "end_time": "2023-08-02T16:29:51.116208",
     "exception": false,
     "start_time": "2023-08-02T16:29:51.059200",
     "status": "completed"
    },
    "tags": []
   },
   "outputs": [],
   "source": [
    "df[['Deck','Deck_Number','Deck_side']] = df['Cabin'].str.split(\"/\", expand = True)"
   ]
  },
  {
   "cell_type": "code",
   "execution_count": 11,
   "id": "23d8e41a",
   "metadata": {
    "execution": {
     "iopub.execute_input": "2023-08-02T16:29:51.168968Z",
     "iopub.status.busy": "2023-08-02T16:29:51.168540Z",
     "iopub.status.idle": "2023-08-02T16:29:51.176739Z",
     "shell.execute_reply": "2023-08-02T16:29:51.175667Z"
    },
    "papermill": {
     "duration": 0.037251,
     "end_time": "2023-08-02T16:29:51.178821",
     "exception": false,
     "start_time": "2023-08-02T16:29:51.141570",
     "status": "completed"
    },
    "tags": []
   },
   "outputs": [],
   "source": [
    "df = df.drop('Cabin', axis=1)"
   ]
  },
  {
   "cell_type": "code",
   "execution_count": 12,
   "id": "9d97f80e",
   "metadata": {
    "execution": {
     "iopub.execute_input": "2023-08-02T16:29:51.232793Z",
     "iopub.status.busy": "2023-08-02T16:29:51.231605Z",
     "iopub.status.idle": "2023-08-02T16:29:51.254114Z",
     "shell.execute_reply": "2023-08-02T16:29:51.253232Z"
    },
    "papermill": {
     "duration": 0.051776,
     "end_time": "2023-08-02T16:29:51.256345",
     "exception": false,
     "start_time": "2023-08-02T16:29:51.204569",
     "status": "completed"
    },
    "tags": []
   },
   "outputs": [
    {
     "data": {
      "text/html": [
       "<div>\n",
       "<style scoped>\n",
       "    .dataframe tbody tr th:only-of-type {\n",
       "        vertical-align: middle;\n",
       "    }\n",
       "\n",
       "    .dataframe tbody tr th {\n",
       "        vertical-align: top;\n",
       "    }\n",
       "\n",
       "    .dataframe thead th {\n",
       "        text-align: right;\n",
       "    }\n",
       "</style>\n",
       "<table border=\"1\" class=\"dataframe\">\n",
       "  <thead>\n",
       "    <tr style=\"text-align: right;\">\n",
       "      <th></th>\n",
       "      <th>PassengerId</th>\n",
       "      <th>HomePlanet</th>\n",
       "      <th>CryoSleep</th>\n",
       "      <th>Destination</th>\n",
       "      <th>Age</th>\n",
       "      <th>VIP</th>\n",
       "      <th>RoomService</th>\n",
       "      <th>FoodCourt</th>\n",
       "      <th>ShoppingMall</th>\n",
       "      <th>Spa</th>\n",
       "      <th>VRDeck</th>\n",
       "      <th>Name</th>\n",
       "      <th>Transported</th>\n",
       "      <th>Deck</th>\n",
       "      <th>Deck_Number</th>\n",
       "      <th>Deck_side</th>\n",
       "    </tr>\n",
       "  </thead>\n",
       "  <tbody>\n",
       "    <tr>\n",
       "      <th>0</th>\n",
       "      <td>0001_01</td>\n",
       "      <td>Europa</td>\n",
       "      <td>0</td>\n",
       "      <td>TRAPPIST-1e</td>\n",
       "      <td>39.0</td>\n",
       "      <td>False</td>\n",
       "      <td>0.0</td>\n",
       "      <td>0.0</td>\n",
       "      <td>0.0</td>\n",
       "      <td>0.0</td>\n",
       "      <td>0.0</td>\n",
       "      <td>Maham Ofracculy</td>\n",
       "      <td>False</td>\n",
       "      <td>B</td>\n",
       "      <td>0</td>\n",
       "      <td>P</td>\n",
       "    </tr>\n",
       "    <tr>\n",
       "      <th>1</th>\n",
       "      <td>0002_01</td>\n",
       "      <td>Earth</td>\n",
       "      <td>0</td>\n",
       "      <td>TRAPPIST-1e</td>\n",
       "      <td>24.0</td>\n",
       "      <td>False</td>\n",
       "      <td>109.0</td>\n",
       "      <td>9.0</td>\n",
       "      <td>25.0</td>\n",
       "      <td>549.0</td>\n",
       "      <td>44.0</td>\n",
       "      <td>Juanna Vines</td>\n",
       "      <td>True</td>\n",
       "      <td>F</td>\n",
       "      <td>0</td>\n",
       "      <td>S</td>\n",
       "    </tr>\n",
       "    <tr>\n",
       "      <th>2</th>\n",
       "      <td>0003_01</td>\n",
       "      <td>Europa</td>\n",
       "      <td>0</td>\n",
       "      <td>TRAPPIST-1e</td>\n",
       "      <td>58.0</td>\n",
       "      <td>True</td>\n",
       "      <td>43.0</td>\n",
       "      <td>3576.0</td>\n",
       "      <td>0.0</td>\n",
       "      <td>6715.0</td>\n",
       "      <td>49.0</td>\n",
       "      <td>Altark Susent</td>\n",
       "      <td>False</td>\n",
       "      <td>A</td>\n",
       "      <td>0</td>\n",
       "      <td>S</td>\n",
       "    </tr>\n",
       "    <tr>\n",
       "      <th>3</th>\n",
       "      <td>0003_02</td>\n",
       "      <td>Europa</td>\n",
       "      <td>0</td>\n",
       "      <td>TRAPPIST-1e</td>\n",
       "      <td>33.0</td>\n",
       "      <td>False</td>\n",
       "      <td>0.0</td>\n",
       "      <td>1283.0</td>\n",
       "      <td>371.0</td>\n",
       "      <td>3329.0</td>\n",
       "      <td>193.0</td>\n",
       "      <td>Solam Susent</td>\n",
       "      <td>False</td>\n",
       "      <td>A</td>\n",
       "      <td>0</td>\n",
       "      <td>S</td>\n",
       "    </tr>\n",
       "    <tr>\n",
       "      <th>4</th>\n",
       "      <td>0004_01</td>\n",
       "      <td>Earth</td>\n",
       "      <td>0</td>\n",
       "      <td>TRAPPIST-1e</td>\n",
       "      <td>16.0</td>\n",
       "      <td>False</td>\n",
       "      <td>303.0</td>\n",
       "      <td>70.0</td>\n",
       "      <td>151.0</td>\n",
       "      <td>565.0</td>\n",
       "      <td>2.0</td>\n",
       "      <td>Willy Santantines</td>\n",
       "      <td>True</td>\n",
       "      <td>F</td>\n",
       "      <td>1</td>\n",
       "      <td>S</td>\n",
       "    </tr>\n",
       "  </tbody>\n",
       "</table>\n",
       "</div>"
      ],
      "text/plain": [
       "  PassengerId HomePlanet  CryoSleep  Destination   Age    VIP  RoomService  \\\n",
       "0     0001_01     Europa          0  TRAPPIST-1e  39.0  False          0.0   \n",
       "1     0002_01      Earth          0  TRAPPIST-1e  24.0  False        109.0   \n",
       "2     0003_01     Europa          0  TRAPPIST-1e  58.0   True         43.0   \n",
       "3     0003_02     Europa          0  TRAPPIST-1e  33.0  False          0.0   \n",
       "4     0004_01      Earth          0  TRAPPIST-1e  16.0  False        303.0   \n",
       "\n",
       "   FoodCourt  ShoppingMall     Spa  VRDeck               Name  Transported  \\\n",
       "0        0.0           0.0     0.0     0.0    Maham Ofracculy        False   \n",
       "1        9.0          25.0   549.0    44.0       Juanna Vines         True   \n",
       "2     3576.0           0.0  6715.0    49.0      Altark Susent        False   \n",
       "3     1283.0         371.0  3329.0   193.0       Solam Susent        False   \n",
       "4       70.0         151.0   565.0     2.0  Willy Santantines         True   \n",
       "\n",
       "  Deck Deck_Number Deck_side  \n",
       "0    B           0         P  \n",
       "1    F           0         S  \n",
       "2    A           0         S  \n",
       "3    A           0         S  \n",
       "4    F           1         S  "
      ]
     },
     "execution_count": 12,
     "metadata": {},
     "output_type": "execute_result"
    }
   ],
   "source": [
    "df.head()"
   ]
  },
  {
   "cell_type": "code",
   "execution_count": 13,
   "id": "91cfd7a7",
   "metadata": {
    "execution": {
     "iopub.execute_input": "2023-08-02T16:29:51.310198Z",
     "iopub.status.busy": "2023-08-02T16:29:51.309400Z",
     "iopub.status.idle": "2023-08-02T16:29:51.322237Z",
     "shell.execute_reply": "2023-08-02T16:29:51.321107Z"
    },
    "papermill": {
     "duration": 0.042774,
     "end_time": "2023-08-02T16:29:51.324959",
     "exception": false,
     "start_time": "2023-08-02T16:29:51.282185",
     "status": "completed"
    },
    "tags": []
   },
   "outputs": [],
   "source": [
    "df['VIP'] = df['VIP'].apply(lambda x: 1 if x==True else 0)"
   ]
  },
  {
   "cell_type": "code",
   "execution_count": 14,
   "id": "53800f0c",
   "metadata": {
    "execution": {
     "iopub.execute_input": "2023-08-02T16:29:51.378358Z",
     "iopub.status.busy": "2023-08-02T16:29:51.377950Z",
     "iopub.status.idle": "2023-08-02T16:29:51.391037Z",
     "shell.execute_reply": "2023-08-02T16:29:51.389943Z"
    },
    "papermill": {
     "duration": 0.042723,
     "end_time": "2023-08-02T16:29:51.393519",
     "exception": false,
     "start_time": "2023-08-02T16:29:51.350796",
     "status": "completed"
    },
    "tags": []
   },
   "outputs": [],
   "source": [
    "df['Transported'] = df['Transported'].apply(lambda x: 1 if x==True else 0)"
   ]
  },
  {
   "cell_type": "code",
   "execution_count": 15,
   "id": "960b250d",
   "metadata": {
    "execution": {
     "iopub.execute_input": "2023-08-02T16:29:51.446920Z",
     "iopub.status.busy": "2023-08-02T16:29:51.445928Z",
     "iopub.status.idle": "2023-08-02T16:29:51.476427Z",
     "shell.execute_reply": "2023-08-02T16:29:51.475279Z"
    },
    "papermill": {
     "duration": 0.059844,
     "end_time": "2023-08-02T16:29:51.478930",
     "exception": false,
     "start_time": "2023-08-02T16:29:51.419086",
     "status": "completed"
    },
    "tags": []
   },
   "outputs": [
    {
     "data": {
      "text/plain": [
       "PassengerId       0\n",
       "HomePlanet      201\n",
       "CryoSleep         0\n",
       "Destination     182\n",
       "Age             179\n",
       "VIP               0\n",
       "RoomService     181\n",
       "FoodCourt       183\n",
       "ShoppingMall    208\n",
       "Spa             183\n",
       "VRDeck          188\n",
       "Name            200\n",
       "Transported       0\n",
       "Deck            199\n",
       "Deck_Number     199\n",
       "Deck_side       199\n",
       "dtype: int64"
      ]
     },
     "execution_count": 15,
     "metadata": {},
     "output_type": "execute_result"
    }
   ],
   "source": [
    "df.isnull().sum()"
   ]
  },
  {
   "cell_type": "code",
   "execution_count": 16,
   "id": "db17667d",
   "metadata": {
    "execution": {
     "iopub.execute_input": "2023-08-02T16:29:51.532844Z",
     "iopub.status.busy": "2023-08-02T16:29:51.532404Z",
     "iopub.status.idle": "2023-08-02T16:29:51.888795Z",
     "shell.execute_reply": "2023-08-02T16:29:51.887638Z"
    },
    "papermill": {
     "duration": 0.386433,
     "end_time": "2023-08-02T16:29:51.891382",
     "exception": false,
     "start_time": "2023-08-02T16:29:51.504949",
     "status": "completed"
    },
    "tags": []
   },
   "outputs": [
    {
     "data": {
      "text/plain": [
       "<Axes: xlabel='HomePlanet', ylabel='count'>"
      ]
     },
     "execution_count": 16,
     "metadata": {},
     "output_type": "execute_result"
    },
    {
     "data": {
      "image/png": "[encoded data removed]",
      "text/plain": [
       "<Figure size 640x480 with 1 Axes>"
      ]
     },
     "metadata": {},
     "output_type": "display_data"
    }
   ],
   "source": [
    "sns.countplot (x='HomePlanet',data=df, hue='Transported')"
   ]
  },
  {
   "cell_type": "code",
   "execution_count": 17,
   "id": "14107dba",
   "metadata": {
    "execution": {
     "iopub.execute_input": "2023-08-02T16:29:51.947260Z",
     "iopub.status.busy": "2023-08-02T16:29:51.946635Z",
     "iopub.status.idle": "2023-08-02T16:29:51.980153Z",
     "shell.execute_reply": "2023-08-02T16:29:51.979013Z"
    },
    "papermill": {
     "duration": 0.064618,
     "end_time": "2023-08-02T16:29:51.982936",
     "exception": false,
     "start_time": "2023-08-02T16:29:51.918318",
     "status": "completed"
    },
    "tags": []
   },
   "outputs": [
    {
     "data": {
      "text/plain": [
       "PassengerId     0.000000\n",
       "HomePlanet      2.312205\n",
       "CryoSleep       0.000000\n",
       "Destination     2.093639\n",
       "Age             2.059128\n",
       "VIP             0.000000\n",
       "RoomService     2.082135\n",
       "FoodCourt       2.105142\n",
       "ShoppingMall    2.392730\n",
       "Spa             2.105142\n",
       "VRDeck          2.162660\n",
       "Name            2.300702\n",
       "Transported     0.000000\n",
       "Deck            2.289198\n",
       "Deck_Number     2.289198\n",
       "Deck_side       2.289198\n",
       "dtype: float64"
      ]
     },
     "execution_count": 17,
     "metadata": {},
     "output_type": "execute_result"
    }
   ],
   "source": [
    "100*(df.isnull().sum()/len(df))"
   ]
  },
  {
   "cell_type": "code",
   "execution_count": 18,
   "id": "d1208161",
   "metadata": {
    "execution": {
     "iopub.execute_input": "2023-08-02T16:29:52.038687Z",
     "iopub.status.busy": "2023-08-02T16:29:52.038283Z",
     "iopub.status.idle": "2023-08-02T16:29:52.067445Z",
     "shell.execute_reply": "2023-08-02T16:29:52.066539Z"
    },
    "papermill": {
     "duration": 0.0601,
     "end_time": "2023-08-02T16:29:52.069985",
     "exception": false,
     "start_time": "2023-08-02T16:29:52.009885",
     "status": "completed"
    },
    "tags": []
   },
   "outputs": [],
   "source": [
    "df= df.dropna()"
   ]
  },
  {
   "cell_type": "code",
   "execution_count": 19,
   "id": "93fabe6f",
   "metadata": {
    "execution": {
     "iopub.execute_input": "2023-08-02T16:29:52.125580Z",
     "iopub.status.busy": "2023-08-02T16:29:52.125156Z",
     "iopub.status.idle": "2023-08-02T16:29:52.150304Z",
     "shell.execute_reply": "2023-08-02T16:29:52.149301Z"
    },
    "papermill": {
     "duration": 0.055531,
     "end_time": "2023-08-02T16:29:52.152407",
     "exception": false,
     "start_time": "2023-08-02T16:29:52.096876",
     "status": "completed"
    },
    "tags": []
   },
   "outputs": [
    {
     "data": {
      "text/plain": [
       "PassengerId     0\n",
       "HomePlanet      0\n",
       "CryoSleep       0\n",
       "Destination     0\n",
       "Age             0\n",
       "VIP             0\n",
       "RoomService     0\n",
       "FoodCourt       0\n",
       "ShoppingMall    0\n",
       "Spa             0\n",
       "VRDeck          0\n",
       "Name            0\n",
       "Transported     0\n",
       "Deck            0\n",
       "Deck_Number     0\n",
       "Deck_side       0\n",
       "dtype: int64"
      ]
     },
     "execution_count": 19,
     "metadata": {},
     "output_type": "execute_result"
    }
   ],
   "source": [
    "df.isnull().sum()"
   ]
  },
  {
   "cell_type": "code",
   "execution_count": 20,
   "id": "2bd0aaef",
   "metadata": {
    "execution": {
     "iopub.execute_input": "2023-08-02T16:29:52.209272Z",
     "iopub.status.busy": "2023-08-02T16:29:52.208302Z",
     "iopub.status.idle": "2023-08-02T16:29:52.225903Z",
     "shell.execute_reply": "2023-08-02T16:29:52.224815Z"
    },
    "papermill": {
     "duration": 0.048921,
     "end_time": "2023-08-02T16:29:52.228359",
     "exception": false,
     "start_time": "2023-08-02T16:29:52.179438",
     "status": "completed"
    },
    "tags": []
   },
   "outputs": [
    {
     "data": {
      "text/html": [
       "<div>\n",
       "<style scoped>\n",
       "    .dataframe tbody tr th:only-of-type {\n",
       "        vertical-align: middle;\n",
       "    }\n",
       "\n",
       "    .dataframe tbody tr th {\n",
       "        vertical-align: top;\n",
       "    }\n",
       "\n",
       "    .dataframe thead th {\n",
       "        text-align: right;\n",
       "    }\n",
       "</style>\n",
       "<table border=\"1\" class=\"dataframe\">\n",
       "  <thead>\n",
       "    <tr style=\"text-align: right;\">\n",
       "      <th></th>\n",
       "      <th>PassengerId</th>\n",
       "      <th>HomePlanet</th>\n",
       "      <th>Destination</th>\n",
       "      <th>Name</th>\n",
       "      <th>Deck</th>\n",
       "      <th>Deck_Number</th>\n",
       "      <th>Deck_side</th>\n",
       "    </tr>\n",
       "  </thead>\n",
       "  <tbody>\n",
       "    <tr>\n",
       "      <th>0</th>\n",
       "      <td>0001_01</td>\n",
       "      <td>Europa</td>\n",
       "      <td>TRAPPIST-1e</td>\n",
       "      <td>Maham Ofracculy</td>\n",
       "      <td>B</td>\n",
       "      <td>0</td>\n",
       "      <td>P</td>\n",
       "    </tr>\n",
       "    <tr>\n",
       "      <th>1</th>\n",
       "      <td>0002_01</td>\n",
       "      <td>Earth</td>\n",
       "      <td>TRAPPIST-1e</td>\n",
       "      <td>Juanna Vines</td>\n",
       "      <td>F</td>\n",
       "      <td>0</td>\n",
       "      <td>S</td>\n",
       "    </tr>\n",
       "    <tr>\n",
       "      <th>2</th>\n",
       "      <td>0003_01</td>\n",
       "      <td>Europa</td>\n",
       "      <td>TRAPPIST-1e</td>\n",
       "      <td>Altark Susent</td>\n",
       "      <td>A</td>\n",
       "      <td>0</td>\n",
       "      <td>S</td>\n",
       "    </tr>\n",
       "    <tr>\n",
       "      <th>3</th>\n",
       "      <td>0003_02</td>\n",
       "      <td>Europa</td>\n",
       "      <td>TRAPPIST-1e</td>\n",
       "      <td>Solam Susent</td>\n",
       "      <td>A</td>\n",
       "      <td>0</td>\n",
       "      <td>S</td>\n",
       "    </tr>\n",
       "    <tr>\n",
       "      <th>4</th>\n",
       "      <td>0004_01</td>\n",
       "      <td>Earth</td>\n",
       "      <td>TRAPPIST-1e</td>\n",
       "      <td>Willy Santantines</td>\n",
       "      <td>F</td>\n",
       "      <td>1</td>\n",
       "      <td>S</td>\n",
       "    </tr>\n",
       "    <tr>\n",
       "      <th>...</th>\n",
       "      <td>...</td>\n",
       "      <td>...</td>\n",
       "      <td>...</td>\n",
       "      <td>...</td>\n",
       "      <td>...</td>\n",
       "      <td>...</td>\n",
       "      <td>...</td>\n",
       "    </tr>\n",
       "    <tr>\n",
       "      <th>8688</th>\n",
       "      <td>9276_01</td>\n",
       "      <td>Europa</td>\n",
       "      <td>55 Cancri e</td>\n",
       "      <td>Gravior Noxnuther</td>\n",
       "      <td>A</td>\n",
       "      <td>98</td>\n",
       "      <td>P</td>\n",
       "    </tr>\n",
       "    <tr>\n",
       "      <th>8689</th>\n",
       "      <td>9278_01</td>\n",
       "      <td>Earth</td>\n",
       "      <td>PSO J318.5-22</td>\n",
       "      <td>Kurta Mondalley</td>\n",
       "      <td>G</td>\n",
       "      <td>1499</td>\n",
       "      <td>S</td>\n",
       "    </tr>\n",
       "    <tr>\n",
       "      <th>8690</th>\n",
       "      <td>9279_01</td>\n",
       "      <td>Earth</td>\n",
       "      <td>TRAPPIST-1e</td>\n",
       "      <td>Fayey Connon</td>\n",
       "      <td>G</td>\n",
       "      <td>1500</td>\n",
       "      <td>S</td>\n",
       "    </tr>\n",
       "    <tr>\n",
       "      <th>8691</th>\n",
       "      <td>9280_01</td>\n",
       "      <td>Europa</td>\n",
       "      <td>55 Cancri e</td>\n",
       "      <td>Celeon Hontichre</td>\n",
       "      <td>E</td>\n",
       "      <td>608</td>\n",
       "      <td>S</td>\n",
       "    </tr>\n",
       "    <tr>\n",
       "      <th>8692</th>\n",
       "      <td>9280_02</td>\n",
       "      <td>Europa</td>\n",
       "      <td>TRAPPIST-1e</td>\n",
       "      <td>Propsh Hontichre</td>\n",
       "      <td>E</td>\n",
       "      <td>608</td>\n",
       "      <td>S</td>\n",
       "    </tr>\n",
       "  </tbody>\n",
       "</table>\n",
       "<p>6943 rows × 7 columns</p>\n",
       "</div>"
      ],
      "text/plain": [
       "     PassengerId HomePlanet    Destination               Name Deck  \\\n",
       "0        0001_01     Europa    TRAPPIST-1e    Maham Ofracculy    B   \n",
       "1        0002_01      Earth    TRAPPIST-1e       Juanna Vines    F   \n",
       "2        0003_01     Europa    TRAPPIST-1e      Altark Susent    A   \n",
       "3        0003_02     Europa    TRAPPIST-1e       Solam Susent    A   \n",
       "4        0004_01      Earth    TRAPPIST-1e  Willy Santantines    F   \n",
       "...          ...        ...            ...                ...  ...   \n",
       "8688     9276_01     Europa    55 Cancri e  Gravior Noxnuther    A   \n",
       "8689     9278_01      Earth  PSO J318.5-22    Kurta Mondalley    G   \n",
       "8690     9279_01      Earth    TRAPPIST-1e       Fayey Connon    G   \n",
       "8691     9280_01     Europa    55 Cancri e   Celeon Hontichre    E   \n",
       "8692     9280_02     Europa    TRAPPIST-1e   Propsh Hontichre    E   \n",
       "\n",
       "     Deck_Number Deck_side  \n",
       "0              0         P  \n",
       "1              0         S  \n",
       "2              0         S  \n",
       "3              0         S  \n",
       "4              1         S  \n",
       "...          ...       ...  \n",
       "8688          98         P  \n",
       "8689        1499         S  \n",
       "8690        1500         S  \n",
       "8691         608         S  \n",
       "8692         608         S  \n",
       "\n",
       "[6943 rows x 7 columns]"
      ]
     },
     "execution_count": 20,
     "metadata": {},
     "output_type": "execute_result"
    }
   ],
   "source": [
    "df.select_dtypes(include='object')"
   ]
  },
  {
   "cell_type": "code",
   "execution_count": 21,
   "id": "f47c0fab",
   "metadata": {
    "execution": {
     "iopub.execute_input": "2023-08-02T16:29:52.285972Z",
     "iopub.status.busy": "2023-08-02T16:29:52.285299Z",
     "iopub.status.idle": "2023-08-02T16:29:52.293622Z",
     "shell.execute_reply": "2023-08-02T16:29:52.292683Z"
    },
    "papermill": {
     "duration": 0.039635,
     "end_time": "2023-08-02T16:29:52.295704",
     "exception": false,
     "start_time": "2023-08-02T16:29:52.256069",
     "status": "completed"
    },
    "tags": []
   },
   "outputs": [
    {
     "data": {
      "text/plain": [
       "Index(['PassengerId', 'HomePlanet', 'Destination', 'Name', 'Deck',\n",
       "       'Deck_Number', 'Deck_side'],\n",
       "      dtype='object')"
      ]
     },
     "execution_count": 21,
     "metadata": {},
     "output_type": "execute_result"
    }
   ],
   "source": [
    "df.select_dtypes(include='object').columns"
   ]
  },
  {
   "cell_type": "code",
   "execution_count": 22,
   "id": "38a77cb3",
   "metadata": {
    "execution": {
     "iopub.execute_input": "2023-08-02T16:29:52.353400Z",
     "iopub.status.busy": "2023-08-02T16:29:52.352753Z",
     "iopub.status.idle": "2023-08-02T16:29:52.366892Z",
     "shell.execute_reply": "2023-08-02T16:29:52.365923Z"
    },
    "papermill": {
     "duration": 0.045718,
     "end_time": "2023-08-02T16:29:52.369181",
     "exception": false,
     "start_time": "2023-08-02T16:29:52.323463",
     "status": "completed"
    },
    "tags": []
   },
   "outputs": [],
   "source": [
    "df['Deck_Number'] = pd.to_numeric(df['Deck_Number'])"
   ]
  },
  {
   "cell_type": "code",
   "execution_count": 23,
   "id": "0f8cc3cd",
   "metadata": {
    "execution": {
     "iopub.execute_input": "2023-08-02T16:29:52.426635Z",
     "iopub.status.busy": "2023-08-02T16:29:52.425924Z",
     "iopub.status.idle": "2023-08-02T16:29:52.432513Z",
     "shell.execute_reply": "2023-08-02T16:29:52.431732Z"
    },
    "papermill": {
     "duration": 0.038053,
     "end_time": "2023-08-02T16:29:52.434732",
     "exception": false,
     "start_time": "2023-08-02T16:29:52.396679",
     "status": "completed"
    },
    "tags": []
   },
   "outputs": [],
   "source": [
    "feature = df[['HomePlanet', 'Destination','Deck','Deck_side']]"
   ]
  },
  {
   "cell_type": "code",
   "execution_count": 24,
   "id": "53b68c11",
   "metadata": {
    "execution": {
     "iopub.execute_input": "2023-08-02T16:29:52.492676Z",
     "iopub.status.busy": "2023-08-02T16:29:52.491950Z",
     "iopub.status.idle": "2023-08-02T16:29:52.506215Z",
     "shell.execute_reply": "2023-08-02T16:29:52.505181Z"
    },
    "papermill": {
     "duration": 0.046652,
     "end_time": "2023-08-02T16:29:52.508891",
     "exception": false,
     "start_time": "2023-08-02T16:29:52.462239",
     "status": "completed"
    },
    "tags": []
   },
   "outputs": [],
   "source": [
    "dummies= pd.get_dummies(feature,drop_first=True)"
   ]
  },
  {
   "cell_type": "code",
   "execution_count": 25,
   "id": "94f8f22c",
   "metadata": {
    "execution": {
     "iopub.execute_input": "2023-08-02T16:29:52.566724Z",
     "iopub.status.busy": "2023-08-02T16:29:52.566081Z",
     "iopub.status.idle": "2023-08-02T16:29:52.574458Z",
     "shell.execute_reply": "2023-08-02T16:29:52.573650Z"
    },
    "papermill": {
     "duration": 0.039961,
     "end_time": "2023-08-02T16:29:52.576626",
     "exception": false,
     "start_time": "2023-08-02T16:29:52.536665",
     "status": "completed"
    },
    "tags": []
   },
   "outputs": [],
   "source": [
    "df = pd.concat([df.drop(feature,axis=1),dummies],axis=1)"
   ]
  },
  {
   "cell_type": "code",
   "execution_count": 26,
   "id": "b9621812",
   "metadata": {
    "execution": {
     "iopub.execute_input": "2023-08-02T16:29:52.636524Z",
     "iopub.status.busy": "2023-08-02T16:29:52.635817Z",
     "iopub.status.idle": "2023-08-02T16:29:52.659377Z",
     "shell.execute_reply": "2023-08-02T16:29:52.658241Z"
    },
    "papermill": {
     "duration": 0.057498,
     "end_time": "2023-08-02T16:29:52.662089",
     "exception": false,
     "start_time": "2023-08-02T16:29:52.604591",
     "status": "completed"
    },
    "tags": []
   },
   "outputs": [
    {
     "data": {
      "text/html": [
       "<div>\n",
       "<style scoped>\n",
       "    .dataframe tbody tr th:only-of-type {\n",
       "        vertical-align: middle;\n",
       "    }\n",
       "\n",
       "    .dataframe tbody tr th {\n",
       "        vertical-align: top;\n",
       "    }\n",
       "\n",
       "    .dataframe thead th {\n",
       "        text-align: right;\n",
       "    }\n",
       "</style>\n",
       "<table border=\"1\" class=\"dataframe\">\n",
       "  <thead>\n",
       "    <tr style=\"text-align: right;\">\n",
       "      <th></th>\n",
       "      <th>PassengerId</th>\n",
       "      <th>CryoSleep</th>\n",
       "      <th>Age</th>\n",
       "      <th>VIP</th>\n",
       "      <th>RoomService</th>\n",
       "      <th>FoodCourt</th>\n",
       "      <th>ShoppingMall</th>\n",
       "      <th>Spa</th>\n",
       "      <th>VRDeck</th>\n",
       "      <th>Name</th>\n",
       "      <th>Transported</th>\n",
       "      <th>Deck_Number</th>\n",
       "      <th>HomePlanet_Europa</th>\n",
       "      <th>HomePlanet_Mars</th>\n",
       "      <th>Destination_PSO J318.5-22</th>\n",
       "      <th>Destination_TRAPPIST-1e</th>\n",
       "      <th>Deck_B</th>\n",
       "      <th>Deck_C</th>\n",
       "      <th>Deck_D</th>\n",
       "      <th>Deck_E</th>\n",
       "      <th>Deck_F</th>\n",
       "      <th>Deck_G</th>\n",
       "      <th>Deck_T</th>\n",
       "      <th>Deck_side_S</th>\n",
       "    </tr>\n",
       "  </thead>\n",
       "  <tbody>\n",
       "    <tr>\n",
       "      <th>0</th>\n",
       "      <td>0001_01</td>\n",
       "      <td>0</td>\n",
       "      <td>39.0</td>\n",
       "      <td>0</td>\n",
       "      <td>0.0</td>\n",
       "      <td>0.0</td>\n",
       "      <td>0.0</td>\n",
       "      <td>0.0</td>\n",
       "      <td>0.0</td>\n",
       "      <td>Maham Ofracculy</td>\n",
       "      <td>0</td>\n",
       "      <td>0</td>\n",
       "      <td>1</td>\n",
       "      <td>0</td>\n",
       "      <td>0</td>\n",
       "      <td>1</td>\n",
       "      <td>1</td>\n",
       "      <td>0</td>\n",
       "      <td>0</td>\n",
       "      <td>0</td>\n",
       "      <td>0</td>\n",
       "      <td>0</td>\n",
       "      <td>0</td>\n",
       "      <td>0</td>\n",
       "    </tr>\n",
       "    <tr>\n",
       "      <th>1</th>\n",
       "      <td>0002_01</td>\n",
       "      <td>0</td>\n",
       "      <td>24.0</td>\n",
       "      <td>0</td>\n",
       "      <td>109.0</td>\n",
       "      <td>9.0</td>\n",
       "      <td>25.0</td>\n",
       "      <td>549.0</td>\n",
       "      <td>44.0</td>\n",
       "      <td>Juanna Vines</td>\n",
       "      <td>1</td>\n",
       "      <td>0</td>\n",
       "      <td>0</td>\n",
       "      <td>0</td>\n",
       "      <td>0</td>\n",
       "      <td>1</td>\n",
       "      <td>0</td>\n",
       "      <td>0</td>\n",
       "      <td>0</td>\n",
       "      <td>0</td>\n",
       "      <td>1</td>\n",
       "      <td>0</td>\n",
       "      <td>0</td>\n",
       "      <td>1</td>\n",
       "    </tr>\n",
       "    <tr>\n",
       "      <th>2</th>\n",
       "      <td>0003_01</td>\n",
       "      <td>0</td>\n",
       "      <td>58.0</td>\n",
       "      <td>1</td>\n",
       "      <td>43.0</td>\n",
       "      <td>3576.0</td>\n",
       "      <td>0.0</td>\n",
       "      <td>6715.0</td>\n",
       "      <td>49.0</td>\n",
       "      <td>Altark Susent</td>\n",
       "      <td>0</td>\n",
       "      <td>0</td>\n",
       "      <td>1</td>\n",
       "      <td>0</td>\n",
       "      <td>0</td>\n",
       "      <td>1</td>\n",
       "      <td>0</td>\n",
       "      <td>0</td>\n",
       "      <td>0</td>\n",
       "      <td>0</td>\n",
       "      <td>0</td>\n",
       "      <td>0</td>\n",
       "      <td>0</td>\n",
       "      <td>1</td>\n",
       "    </tr>\n",
       "    <tr>\n",
       "      <th>3</th>\n",
       "      <td>0003_02</td>\n",
       "      <td>0</td>\n",
       "      <td>33.0</td>\n",
       "      <td>0</td>\n",
       "      <td>0.0</td>\n",
       "      <td>1283.0</td>\n",
       "      <td>371.0</td>\n",
       "      <td>3329.0</td>\n",
       "      <td>193.0</td>\n",
       "      <td>Solam Susent</td>\n",
       "      <td>0</td>\n",
       "      <td>0</td>\n",
       "      <td>1</td>\n",
       "      <td>0</td>\n",
       "      <td>0</td>\n",
       "      <td>1</td>\n",
       "      <td>0</td>\n",
       "      <td>0</td>\n",
       "      <td>0</td>\n",
       "      <td>0</td>\n",
       "      <td>0</td>\n",
       "      <td>0</td>\n",
       "      <td>0</td>\n",
       "      <td>1</td>\n",
       "    </tr>\n",
       "    <tr>\n",
       "      <th>4</th>\n",
       "      <td>0004_01</td>\n",
       "      <td>0</td>\n",
       "      <td>16.0</td>\n",
       "      <td>0</td>\n",
       "      <td>303.0</td>\n",
       "      <td>70.0</td>\n",
       "      <td>151.0</td>\n",
       "      <td>565.0</td>\n",
       "      <td>2.0</td>\n",
       "      <td>Willy Santantines</td>\n",
       "      <td>1</td>\n",
       "      <td>1</td>\n",
       "      <td>0</td>\n",
       "      <td>0</td>\n",
       "      <td>0</td>\n",
       "      <td>1</td>\n",
       "      <td>0</td>\n",
       "      <td>0</td>\n",
       "      <td>0</td>\n",
       "      <td>0</td>\n",
       "      <td>1</td>\n",
       "      <td>0</td>\n",
       "      <td>0</td>\n",
       "      <td>1</td>\n",
       "    </tr>\n",
       "  </tbody>\n",
       "</table>\n",
       "</div>"
      ],
      "text/plain": [
       "  PassengerId  CryoSleep   Age  VIP  RoomService  FoodCourt  ShoppingMall  \\\n",
       "0     0001_01          0  39.0    0          0.0        0.0           0.0   \n",
       "1     0002_01          0  24.0    0        109.0        9.0          25.0   \n",
       "2     0003_01          0  58.0    1         43.0     3576.0           0.0   \n",
       "3     0003_02          0  33.0    0          0.0     1283.0         371.0   \n",
       "4     0004_01          0  16.0    0        303.0       70.0         151.0   \n",
       "\n",
       "      Spa  VRDeck               Name  Transported  Deck_Number  \\\n",
       "0     0.0     0.0    Maham Ofracculy            0            0   \n",
       "1   549.0    44.0       Juanna Vines            1            0   \n",
       "2  6715.0    49.0      Altark Susent            0            0   \n",
       "3  3329.0   193.0       Solam Susent            0            0   \n",
       "4   565.0     2.0  Willy Santantines            1            1   \n",
       "\n",
       "   HomePlanet_Europa  HomePlanet_Mars  Destination_PSO J318.5-22  \\\n",
       "0                  1                0                          0   \n",
       "1                  0                0                          0   \n",
       "2                  1                0                          0   \n",
       "3                  1                0                          0   \n",
       "4                  0                0                          0   \n",
       "\n",
       "   Destination_TRAPPIST-1e  Deck_B  Deck_C  Deck_D  Deck_E  Deck_F  Deck_G  \\\n",
       "0                        1       1       0       0       0       0       0   \n",
       "1                        1       0       0       0       0       1       0   \n",
       "2                        1       0       0       0       0       0       0   \n",
       "3                        1       0       0       0       0       0       0   \n",
       "4                        1       0       0       0       0       1       0   \n",
       "\n",
       "   Deck_T  Deck_side_S  \n",
       "0       0            0  \n",
       "1       0            1  \n",
       "2       0            1  \n",
       "3       0            1  \n",
       "4       0            1  "
      ]
     },
     "execution_count": 26,
     "metadata": {},
     "output_type": "execute_result"
    }
   ],
   "source": [
    "df.head()"
   ]
  },
  {
   "cell_type": "code",
   "execution_count": 27,
   "id": "46a97e91",
   "metadata": {
    "execution": {
     "iopub.execute_input": "2023-08-02T16:29:52.720815Z",
     "iopub.status.busy": "2023-08-02T16:29:52.720138Z",
     "iopub.status.idle": "2023-08-02T16:29:52.728443Z",
     "shell.execute_reply": "2023-08-02T16:29:52.727667Z"
    },
    "papermill": {
     "duration": 0.040426,
     "end_time": "2023-08-02T16:29:52.730654",
     "exception": false,
     "start_time": "2023-08-02T16:29:52.690228",
     "status": "completed"
    },
    "tags": []
   },
   "outputs": [],
   "source": [
    "X = df.drop(['PassengerId','Name','Transported'],axis=1).values"
   ]
  },
  {
   "cell_type": "code",
   "execution_count": 28,
   "id": "b862b0ee",
   "metadata": {
    "execution": {
     "iopub.execute_input": "2023-08-02T16:29:52.794933Z",
     "iopub.status.busy": "2023-08-02T16:29:52.793972Z",
     "iopub.status.idle": "2023-08-02T16:29:52.801830Z",
     "shell.execute_reply": "2023-08-02T16:29:52.800788Z"
    },
    "papermill": {
     "duration": 0.04601,
     "end_time": "2023-08-02T16:29:52.804606",
     "exception": false,
     "start_time": "2023-08-02T16:29:52.758596",
     "status": "completed"
    },
    "tags": []
   },
   "outputs": [
    {
     "data": {
      "text/plain": [
       "Index(['PassengerId', 'CryoSleep', 'Age', 'VIP', 'RoomService', 'FoodCourt',\n",
       "       'ShoppingMall', 'Spa', 'VRDeck', 'Name', 'Transported', 'Deck_Number',\n",
       "       'HomePlanet_Europa', 'HomePlanet_Mars', 'Destination_PSO J318.5-22',\n",
       "       'Destination_TRAPPIST-1e', 'Deck_B', 'Deck_C', 'Deck_D', 'Deck_E',\n",
       "       'Deck_F', 'Deck_G', 'Deck_T', 'Deck_side_S'],\n",
       "      dtype='object')"
      ]
     },
     "execution_count": 28,
     "metadata": {},
     "output_type": "execute_result"
    }
   ],
   "source": [
    "df.columns"
   ]
  },
  {
   "cell_type": "code",
   "execution_count": 29,
   "id": "2bc100d9",
   "metadata": {
    "execution": {
     "iopub.execute_input": "2023-08-02T16:29:52.877133Z",
     "iopub.status.busy": "2023-08-02T16:29:52.876429Z",
     "iopub.status.idle": "2023-08-02T16:29:52.881292Z",
     "shell.execute_reply": "2023-08-02T16:29:52.880545Z"
    },
    "papermill": {
     "duration": 0.040315,
     "end_time": "2023-08-02T16:29:52.883424",
     "exception": false,
     "start_time": "2023-08-02T16:29:52.843109",
     "status": "completed"
    },
    "tags": []
   },
   "outputs": [],
   "source": [
    "y = df['Transported'].values"
   ]
  },
  {
   "cell_type": "code",
   "execution_count": 30,
   "id": "a0b00222",
   "metadata": {
    "execution": {
     "iopub.execute_input": "2023-08-02T16:29:52.942508Z",
     "iopub.status.busy": "2023-08-02T16:29:52.941590Z",
     "iopub.status.idle": "2023-08-02T16:29:53.101895Z",
     "shell.execute_reply": "2023-08-02T16:29:53.100942Z"
    },
    "papermill": {
     "duration": 0.192959,
     "end_time": "2023-08-02T16:29:53.104663",
     "exception": false,
     "start_time": "2023-08-02T16:29:52.911704",
     "status": "completed"
    },
    "tags": []
   },
   "outputs": [],
   "source": [
    "from sklearn.preprocessing import MinMaxScaler"
   ]
  },
  {
   "cell_type": "code",
   "execution_count": 31,
   "id": "1b465cac",
   "metadata": {
    "execution": {
     "iopub.execute_input": "2023-08-02T16:29:53.163771Z",
     "iopub.status.busy": "2023-08-02T16:29:53.162684Z",
     "iopub.status.idle": "2023-08-02T16:29:53.167258Z",
     "shell.execute_reply": "2023-08-02T16:29:53.166463Z"
    },
    "papermill": {
     "duration": 0.036188,
     "end_time": "2023-08-02T16:29:53.169340",
     "exception": false,
     "start_time": "2023-08-02T16:29:53.133152",
     "status": "completed"
    },
    "tags": []
   },
   "outputs": [],
   "source": [
    "scaler = MinMaxScaler ()"
   ]
  },
  {
   "cell_type": "code",
   "execution_count": 32,
   "id": "a3278054",
   "metadata": {
    "execution": {
     "iopub.execute_input": "2023-08-02T16:29:53.228877Z",
     "iopub.status.busy": "2023-08-02T16:29:53.228433Z",
     "iopub.status.idle": "2023-08-02T16:29:53.342413Z",
     "shell.execute_reply": "2023-08-02T16:29:53.340932Z"
    },
    "papermill": {
     "duration": 0.147085,
     "end_time": "2023-08-02T16:29:53.345192",
     "exception": false,
     "start_time": "2023-08-02T16:29:53.198107",
     "status": "completed"
    },
    "tags": []
   },
   "outputs": [],
   "source": [
    "from sklearn.model_selection import train_test_split"
   ]
  },
  {
   "cell_type": "code",
   "execution_count": 33,
   "id": "2e97547c",
   "metadata": {
    "execution": {
     "iopub.execute_input": "2023-08-02T16:29:53.404181Z",
     "iopub.status.busy": "2023-08-02T16:29:53.403769Z",
     "iopub.status.idle": "2023-08-02T16:29:53.412273Z",
     "shell.execute_reply": "2023-08-02T16:29:53.411036Z"
    },
    "papermill": {
     "duration": 0.040763,
     "end_time": "2023-08-02T16:29:53.414617",
     "exception": false,
     "start_time": "2023-08-02T16:29:53.373854",
     "status": "completed"
    },
    "tags": []
   },
   "outputs": [],
   "source": [
    "X_train, X_test, y_train, y_test = train_test_split(X, y, test_size=0.3, random_state=101)"
   ]
  },
  {
   "cell_type": "code",
   "execution_count": 34,
   "id": "674e96a4",
   "metadata": {
    "execution": {
     "iopub.execute_input": "2023-08-02T16:29:53.473291Z",
     "iopub.status.busy": "2023-08-02T16:29:53.472842Z",
     "iopub.status.idle": "2023-08-02T16:29:53.480403Z",
     "shell.execute_reply": "2023-08-02T16:29:53.479595Z"
    },
    "papermill": {
     "duration": 0.039542,
     "end_time": "2023-08-02T16:29:53.482383",
     "exception": false,
     "start_time": "2023-08-02T16:29:53.442841",
     "status": "completed"
    },
    "tags": []
   },
   "outputs": [],
   "source": [
    "X_train = scaler.fit_transform (X_train)"
   ]
  },
  {
   "cell_type": "code",
   "execution_count": 35,
   "id": "a14d6c86",
   "metadata": {
    "execution": {
     "iopub.execute_input": "2023-08-02T16:29:53.542217Z",
     "iopub.status.busy": "2023-08-02T16:29:53.540695Z",
     "iopub.status.idle": "2023-08-02T16:29:53.546363Z",
     "shell.execute_reply": "2023-08-02T16:29:53.545565Z"
    },
    "papermill": {
     "duration": 0.03787,
     "end_time": "2023-08-02T16:29:53.548542",
     "exception": false,
     "start_time": "2023-08-02T16:29:53.510672",
     "status": "completed"
    },
    "tags": []
   },
   "outputs": [],
   "source": [
    "X_test = scaler.transform (X_test)"
   ]
  },
  {
   "cell_type": "code",
   "execution_count": 36,
   "id": "60840578",
   "metadata": {
    "execution": {
     "iopub.execute_input": "2023-08-02T16:29:53.607464Z",
     "iopub.status.busy": "2023-08-02T16:29:53.606269Z",
     "iopub.status.idle": "2023-08-02T16:29:53.615094Z",
     "shell.execute_reply": "2023-08-02T16:29:53.613846Z"
    },
    "papermill": {
     "duration": 0.041454,
     "end_time": "2023-08-02T16:29:53.617947",
     "exception": false,
     "start_time": "2023-08-02T16:29:53.576493",
     "status": "completed"
    },
    "tags": []
   },
   "outputs": [],
   "source": [
    "from tensorflow.keras.models import Sequential\n",
    "from tensorflow.keras.layers import Dense, Activation,Dropout\n",
    "from tensorflow.keras.optimizers import Adam\n",
    "from tensorflow.keras.callbacks import EarlyStopping"
   ]
  },
  {
   "cell_type": "code",
   "execution_count": 37,
   "id": "aeea01f3",
   "metadata": {
    "execution": {
     "iopub.execute_input": "2023-08-02T16:29:53.677466Z",
     "iopub.status.busy": "2023-08-02T16:29:53.676389Z",
     "iopub.status.idle": "2023-08-02T16:29:53.825059Z",
     "shell.execute_reply": "2023-08-02T16:29:53.823905Z"
    },
    "papermill": {
     "duration": 0.182646,
     "end_time": "2023-08-02T16:29:53.829291",
     "exception": false,
     "start_time": "2023-08-02T16:29:53.646645",
     "status": "completed"
    },
    "tags": []
   },
   "outputs": [],
   "source": [
    "model = Sequential()\n",
    "model.add(Dense(21,  activation='relu'))\n",
    "model.add(Dropout(0.2))\n",
    "\n",
    "model.add(Dense(10,  activation='relu'))\n",
    "model.add(Dropout(0.2))\n",
    "\n",
    "model.add(Dense(5,  activation='relu'))\n",
    "model.add(Dropout(0.2))\n",
    "\n",
    "model.add(Dense(units=1,activation='sigmoid'))\n",
    "\n",
    "model.compile(loss = 'binary_crossentropy', optimizer='adam')"
   ]
  },
  {
   "cell_type": "code",
   "execution_count": 38,
   "id": "8f303d1f",
   "metadata": {
    "execution": {
     "iopub.execute_input": "2023-08-02T16:29:53.889979Z",
     "iopub.status.busy": "2023-08-02T16:29:53.889057Z",
     "iopub.status.idle": "2023-08-02T16:29:53.894412Z",
     "shell.execute_reply": "2023-08-02T16:29:53.893620Z"
    },
    "papermill": {
     "duration": 0.037833,
     "end_time": "2023-08-02T16:29:53.896674",
     "exception": false,
     "start_time": "2023-08-02T16:29:53.858841",
     "status": "completed"
    },
    "tags": []
   },
   "outputs": [],
   "source": [
    "early_stop = EarlyStopping(monitor='val_loss', mode='min', verbose=1, patience=15)"
   ]
  },
  {
   "cell_type": "code",
   "execution_count": 39,
   "id": "cc72f064",
   "metadata": {
    "execution": {
     "iopub.execute_input": "2023-08-02T16:29:53.955185Z",
     "iopub.status.busy": "2023-08-02T16:29:53.954534Z",
     "iopub.status.idle": "2023-08-02T16:30:08.983495Z",
     "shell.execute_reply": "2023-08-02T16:30:08.982277Z"
    },
    "papermill": {
     "duration": 15.06101,
     "end_time": "2023-08-02T16:30:08.985756",
     "exception": false,
     "start_time": "2023-08-02T16:29:53.924746",
     "status": "completed"
    },
    "tags": []
   },
   "outputs": [
    {
     "name": "stdout",
     "output_type": "stream",
     "text": [
      "Epoch 1/500\n",
      "19/19 [==============================] - 2s 34ms/step - loss: 0.6834 - val_loss: 0.6759\n",
      "Epoch 2/500\n",
      "19/19 [==============================] - 0s 4ms/step - loss: 0.6722 - val_loss: 0.6629\n",
      "Epoch 3/500\n",
      "19/19 [==============================] - 0s 4ms/step - loss: 0.6605 - val_loss: 0.6463\n",
      "Epoch 4/500\n",
      "19/19 [==============================] - 0s 4ms/step - loss: 0.6481 - val_loss: 0.6302\n",
      "Epoch 5/500\n",
      "19/19 [==============================] - 0s 4ms/step - loss: 0.6326 - val_loss: 0.6120\n",
      "Epoch 6/500\n",
      "19/19 [==============================] - 0s 4ms/step - loss: 0.6215 - val_loss: 0.5954\n",
      "Epoch 7/500\n",
      "19/19 [==============================] - 0s 4ms/step - loss: 0.6078 - val_loss: 0.5794\n",
      "Epoch 8/500\n",
      "19/19 [==============================] - 0s 4ms/step - loss: 0.5911 - val_loss: 0.5653\n",
      "Epoch 9/500\n",
      "19/19 [==============================] - 0s 4ms/step - loss: 0.5821 - val_loss: 0.5556\n",
      "Epoch 10/500\n",
      "19/19 [==============================] - 0s 4ms/step - loss: 0.5706 - val_loss: 0.5463\n",
      "Epoch 11/500\n",
      "19/19 [==============================] - 0s 4ms/step - loss: 0.5680 - val_loss: 0.5377\n",
      "Epoch 12/500\n",
      "19/19 [==============================] - 0s 5ms/step - loss: 0.5596 - val_loss: 0.5309\n",
      "Epoch 13/500\n",
      "19/19 [==============================] - 0s 4ms/step - loss: 0.5526 - val_loss: 0.5255\n",
      "Epoch 14/500\n",
      "19/19 [==============================] - 0s 5ms/step - loss: 0.5492 - val_loss: 0.5192\n",
      "Epoch 15/500\n",
      "19/19 [==============================] - 0s 4ms/step - loss: 0.5448 - val_loss: 0.5140\n",
      "Epoch 16/500\n",
      "19/19 [==============================] - 0s 4ms/step - loss: 0.5357 - val_loss: 0.5081\n",
      "Epoch 17/500\n",
      "19/19 [==============================] - 0s 4ms/step - loss: 0.5357 - val_loss: 0.5036\n",
      "Epoch 18/500\n",
      "19/19 [==============================] - 0s 4ms/step - loss: 0.5306 - val_loss: 0.5002\n",
      "Epoch 19/500\n",
      "19/19 [==============================] - 0s 4ms/step - loss: 0.5267 - val_loss: 0.4974\n",
      "Epoch 20/500\n",
      "19/19 [==============================] - 0s 4ms/step - loss: 0.5237 - val_loss: 0.4939\n",
      "Epoch 21/500\n",
      "19/19 [==============================] - 0s 4ms/step - loss: 0.5187 - val_loss: 0.4915\n",
      "Epoch 22/500\n",
      "19/19 [==============================] - 0s 5ms/step - loss: 0.5161 - val_loss: 0.4871\n",
      "Epoch 23/500\n",
      "19/19 [==============================] - 0s 4ms/step - loss: 0.5157 - val_loss: 0.4829\n",
      "Epoch 24/500\n",
      "19/19 [==============================] - 0s 4ms/step - loss: 0.5114 - val_loss: 0.4806\n",
      "Epoch 25/500\n",
      "19/19 [==============================] - 0s 4ms/step - loss: 0.5069 - val_loss: 0.4779\n",
      "Epoch 26/500\n",
      "19/19 [==============================] - 0s 4ms/step - loss: 0.5031 - val_loss: 0.4735\n",
      "Epoch 27/500\n",
      "19/19 [==============================] - 0s 4ms/step - loss: 0.5057 - val_loss: 0.4754\n",
      "Epoch 28/500\n",
      "19/19 [==============================] - 0s 4ms/step - loss: 0.5023 - val_loss: 0.4714\n",
      "Epoch 29/500\n",
      "19/19 [==============================] - 0s 4ms/step - loss: 0.4977 - val_loss: 0.4684\n",
      "Epoch 30/500\n",
      "19/19 [==============================] - 0s 4ms/step - loss: 0.4950 - val_loss: 0.4667\n",
      "Epoch 31/500\n",
      "19/19 [==============================] - 0s 5ms/step - loss: 0.4945 - val_loss: 0.4648\n",
      "Epoch 32/500\n",
      "19/19 [==============================] - 0s 4ms/step - loss: 0.4910 - val_loss: 0.4619\n",
      "Epoch 33/500\n",
      "19/19 [==============================] - 0s 4ms/step - loss: 0.4938 - val_loss: 0.4602\n",
      "Epoch 34/500\n",
      "19/19 [==============================] - 0s 4ms/step - loss: 0.4932 - val_loss: 0.4571\n",
      "Epoch 35/500\n",
      "19/19 [==============================] - 0s 4ms/step - loss: 0.4857 - val_loss: 0.4552\n",
      "Epoch 36/500\n",
      "19/19 [==============================] - 0s 4ms/step - loss: 0.4864 - val_loss: 0.4530\n",
      "Epoch 37/500\n",
      "19/19 [==============================] - 0s 4ms/step - loss: 0.4834 - val_loss: 0.4496\n",
      "Epoch 38/500\n",
      "19/19 [==============================] - 0s 4ms/step - loss: 0.4846 - val_loss: 0.4487\n",
      "Epoch 39/500\n",
      "19/19 [==============================] - 0s 4ms/step - loss: 0.4745 - val_loss: 0.4458\n",
      "Epoch 40/500\n",
      "19/19 [==============================] - 0s 4ms/step - loss: 0.4809 - val_loss: 0.4432\n",
      "Epoch 41/500\n",
      "19/19 [==============================] - 0s 4ms/step - loss: 0.4718 - val_loss: 0.4418\n",
      "Epoch 42/500\n",
      "19/19 [==============================] - 0s 4ms/step - loss: 0.4738 - val_loss: 0.4404\n",
      "Epoch 43/500\n",
      "19/19 [==============================] - 0s 4ms/step - loss: 0.4741 - val_loss: 0.4379\n",
      "Epoch 44/500\n",
      "19/19 [==============================] - 0s 4ms/step - loss: 0.4663 - val_loss: 0.4367\n",
      "Epoch 45/500\n",
      "19/19 [==============================] - 0s 4ms/step - loss: 0.4667 - val_loss: 0.4371\n",
      "Epoch 46/500\n",
      "19/19 [==============================] - 0s 4ms/step - loss: 0.4727 - val_loss: 0.4355\n",
      "Epoch 47/500\n",
      "19/19 [==============================] - 0s 5ms/step - loss: 0.4655 - val_loss: 0.4324\n",
      "Epoch 48/500\n",
      "19/19 [==============================] - 0s 4ms/step - loss: 0.4679 - val_loss: 0.4314\n",
      "Epoch 49/500\n",
      "19/19 [==============================] - 0s 5ms/step - loss: 0.4633 - val_loss: 0.4314\n",
      "Epoch 50/500\n",
      "19/19 [==============================] - 0s 4ms/step - loss: 0.4560 - val_loss: 0.4296\n",
      "Epoch 51/500\n",
      "19/19 [==============================] - 0s 4ms/step - loss: 0.4631 - val_loss: 0.4295\n",
      "Epoch 52/500\n",
      "19/19 [==============================] - 0s 4ms/step - loss: 0.4610 - val_loss: 0.4280\n",
      "Epoch 53/500\n",
      "19/19 [==============================] - 0s 4ms/step - loss: 0.4608 - val_loss: 0.4278\n",
      "Epoch 54/500\n",
      "19/19 [==============================] - 0s 4ms/step - loss: 0.4620 - val_loss: 0.4258\n",
      "Epoch 55/500\n",
      "19/19 [==============================] - 0s 4ms/step - loss: 0.4589 - val_loss: 0.4237\n",
      "Epoch 56/500\n",
      "19/19 [==============================] - 0s 4ms/step - loss: 0.4488 - val_loss: 0.4203\n",
      "Epoch 57/500\n",
      "19/19 [==============================] - 0s 4ms/step - loss: 0.4449 - val_loss: 0.4240\n",
      "Epoch 58/500\n",
      "19/19 [==============================] - 0s 4ms/step - loss: 0.4549 - val_loss: 0.4199\n",
      "Epoch 59/500\n",
      "19/19 [==============================] - 0s 4ms/step - loss: 0.4491 - val_loss: 0.4201\n",
      "Epoch 60/500\n",
      "19/19 [==============================] - 0s 4ms/step - loss: 0.4473 - val_loss: 0.4209\n",
      "Epoch 61/500\n",
      "19/19 [==============================] - 0s 4ms/step - loss: 0.4433 - val_loss: 0.4189\n",
      "Epoch 62/500\n",
      "19/19 [==============================] - 0s 4ms/step - loss: 0.4510 - val_loss: 0.4175\n",
      "Epoch 63/500\n",
      "19/19 [==============================] - 0s 4ms/step - loss: 0.4423 - val_loss: 0.4149\n",
      "Epoch 64/500\n",
      "19/19 [==============================] - 0s 4ms/step - loss: 0.4486 - val_loss: 0.4171\n",
      "Epoch 65/500\n",
      "19/19 [==============================] - 0s 4ms/step - loss: 0.4465 - val_loss: 0.4156\n",
      "Epoch 66/500\n",
      "19/19 [==============================] - 0s 4ms/step - loss: 0.4352 - val_loss: 0.4144\n",
      "Epoch 67/500\n",
      "19/19 [==============================] - 0s 4ms/step - loss: 0.4429 - val_loss: 0.4128\n",
      "Epoch 68/500\n",
      "19/19 [==============================] - 0s 5ms/step - loss: 0.4352 - val_loss: 0.4104\n",
      "Epoch 69/500\n",
      "19/19 [==============================] - 0s 5ms/step - loss: 0.4436 - val_loss: 0.4108\n",
      "Epoch 70/500\n",
      "19/19 [==============================] - 0s 4ms/step - loss: 0.4323 - val_loss: 0.4117\n",
      "Epoch 71/500\n",
      "19/19 [==============================] - 0s 4ms/step - loss: 0.4387 - val_loss: 0.4100\n",
      "Epoch 72/500\n",
      "19/19 [==============================] - 0s 4ms/step - loss: 0.4314 - val_loss: 0.4087\n",
      "Epoch 73/500\n",
      "19/19 [==============================] - 0s 4ms/step - loss: 0.4441 - val_loss: 0.4090\n",
      "Epoch 74/500\n",
      "19/19 [==============================] - 0s 4ms/step - loss: 0.4328 - val_loss: 0.4111\n",
      "Epoch 75/500\n",
      "19/19 [==============================] - 0s 4ms/step - loss: 0.4385 - val_loss: 0.4082\n",
      "Epoch 76/500\n",
      "19/19 [==============================] - 0s 4ms/step - loss: 0.4383 - val_loss: 0.4077\n",
      "Epoch 77/500\n",
      "19/19 [==============================] - 0s 4ms/step - loss: 0.4369 - val_loss: 0.4074\n",
      "Epoch 78/500\n",
      "19/19 [==============================] - 0s 4ms/step - loss: 0.4319 - val_loss: 0.4061\n",
      "Epoch 79/500\n",
      "19/19 [==============================] - 0s 4ms/step - loss: 0.4302 - val_loss: 0.4058\n",
      "Epoch 80/500\n",
      "19/19 [==============================] - 0s 4ms/step - loss: 0.4269 - val_loss: 0.4060\n",
      "Epoch 81/500\n",
      "19/19 [==============================] - 0s 4ms/step - loss: 0.4296 - val_loss: 0.4071\n",
      "Epoch 82/500\n",
      "19/19 [==============================] - 0s 4ms/step - loss: 0.4270 - val_loss: 0.4043\n",
      "Epoch 83/500\n",
      "19/19 [==============================] - 0s 6ms/step - loss: 0.4301 - val_loss: 0.4039\n",
      "Epoch 84/500\n",
      "19/19 [==============================] - 0s 4ms/step - loss: 0.4355 - val_loss: 0.4046\n",
      "Epoch 85/500\n",
      "19/19 [==============================] - 0s 4ms/step - loss: 0.4277 - val_loss: 0.4035\n",
      "Epoch 86/500\n",
      "19/19 [==============================] - 0s 4ms/step - loss: 0.4199 - val_loss: 0.4034\n",
      "Epoch 87/500\n",
      "19/19 [==============================] - 0s 4ms/step - loss: 0.4293 - val_loss: 0.4040\n",
      "Epoch 88/500\n",
      "19/19 [==============================] - 0s 4ms/step - loss: 0.4290 - val_loss: 0.4027\n",
      "Epoch 89/500\n",
      "19/19 [==============================] - 0s 4ms/step - loss: 0.4257 - val_loss: 0.4027\n",
      "Epoch 90/500\n",
      "19/19 [==============================] - 0s 4ms/step - loss: 0.4234 - val_loss: 0.4029\n",
      "Epoch 91/500\n",
      "19/19 [==============================] - 0s 4ms/step - loss: 0.4327 - val_loss: 0.4036\n",
      "Epoch 92/500\n",
      "19/19 [==============================] - 0s 4ms/step - loss: 0.4234 - val_loss: 0.4015\n",
      "Epoch 93/500\n",
      "19/19 [==============================] - 0s 4ms/step - loss: 0.4241 - val_loss: 0.4010\n",
      "Epoch 94/500\n",
      "19/19 [==============================] - 0s 4ms/step - loss: 0.4258 - val_loss: 0.4012\n",
      "Epoch 95/500\n",
      "19/19 [==============================] - 0s 5ms/step - loss: 0.4221 - val_loss: 0.4003\n",
      "Epoch 96/500\n",
      "19/19 [==============================] - 0s 4ms/step - loss: 0.4217 - val_loss: 0.4009\n",
      "Epoch 97/500\n",
      "19/19 [==============================] - 0s 4ms/step - loss: 0.4210 - val_loss: 0.4008\n",
      "Epoch 98/500\n",
      "19/19 [==============================] - 0s 4ms/step - loss: 0.4190 - val_loss: 0.4001\n",
      "Epoch 99/500\n",
      "19/19 [==============================] - 0s 4ms/step - loss: 0.4229 - val_loss: 0.3992\n",
      "Epoch 100/500\n",
      "19/19 [==============================] - 0s 4ms/step - loss: 0.4264 - val_loss: 0.3997\n",
      "Epoch 101/500\n",
      "19/19 [==============================] - 0s 4ms/step - loss: 0.4228 - val_loss: 0.3997\n",
      "Epoch 102/500\n",
      "19/19 [==============================] - 0s 4ms/step - loss: 0.4179 - val_loss: 0.3984\n",
      "Epoch 103/500\n",
      "19/19 [==============================] - 0s 5ms/step - loss: 0.4125 - val_loss: 0.3984\n",
      "Epoch 104/500\n",
      "19/19 [==============================] - 0s 4ms/step - loss: 0.4153 - val_loss: 0.3998\n",
      "Epoch 105/500\n",
      "19/19 [==============================] - 0s 4ms/step - loss: 0.4184 - val_loss: 0.3972\n",
      "Epoch 106/500\n",
      "19/19 [==============================] - 0s 4ms/step - loss: 0.4186 - val_loss: 0.3993\n",
      "Epoch 107/500\n",
      "19/19 [==============================] - 0s 4ms/step - loss: 0.4290 - val_loss: 0.3992\n",
      "Epoch 108/500\n",
      "19/19 [==============================] - 0s 4ms/step - loss: 0.4154 - val_loss: 0.3984\n",
      "Epoch 109/500\n",
      "19/19 [==============================] - 0s 4ms/step - loss: 0.4182 - val_loss: 0.3980\n",
      "Epoch 110/500\n",
      "19/19 [==============================] - 0s 5ms/step - loss: 0.4193 - val_loss: 0.3984\n",
      "Epoch 111/500\n",
      "19/19 [==============================] - 0s 4ms/step - loss: 0.4211 - val_loss: 0.3976\n",
      "Epoch 112/500\n",
      "19/19 [==============================] - 0s 4ms/step - loss: 0.4153 - val_loss: 0.3968\n",
      "Epoch 113/500\n",
      "19/19 [==============================] - 0s 4ms/step - loss: 0.4187 - val_loss: 0.3967\n",
      "Epoch 114/500\n",
      "19/19 [==============================] - 0s 4ms/step - loss: 0.4153 - val_loss: 0.3969\n",
      "Epoch 115/500\n",
      "19/19 [==============================] - 0s 4ms/step - loss: 0.4139 - val_loss: 0.3965\n",
      "Epoch 116/500\n",
      "19/19 [==============================] - 0s 4ms/step - loss: 0.4176 - val_loss: 0.3974\n",
      "Epoch 117/500\n",
      "19/19 [==============================] - 0s 4ms/step - loss: 0.4148 - val_loss: 0.3973\n",
      "Epoch 118/500\n",
      "19/19 [==============================] - 0s 4ms/step - loss: 0.4092 - val_loss: 0.3982\n",
      "Epoch 119/500\n",
      "19/19 [==============================] - 0s 5ms/step - loss: 0.4171 - val_loss: 0.3972\n",
      "Epoch 120/500\n",
      "19/19 [==============================] - 0s 4ms/step - loss: 0.4155 - val_loss: 0.3953\n",
      "Epoch 121/500\n",
      "19/19 [==============================] - 0s 4ms/step - loss: 0.4140 - val_loss: 0.3960\n",
      "Epoch 122/500\n",
      "19/19 [==============================] - 0s 4ms/step - loss: 0.4088 - val_loss: 0.3956\n",
      "Epoch 123/500\n",
      "19/19 [==============================] - 0s 4ms/step - loss: 0.4175 - val_loss: 0.3950\n",
      "Epoch 124/500\n",
      "19/19 [==============================] - 0s 4ms/step - loss: 0.4142 - val_loss: 0.3950\n",
      "Epoch 125/500\n",
      "19/19 [==============================] - 0s 4ms/step - loss: 0.4076 - val_loss: 0.3950\n",
      "Epoch 126/500\n",
      "19/19 [==============================] - 0s 4ms/step - loss: 0.4133 - val_loss: 0.3955\n",
      "Epoch 127/500\n",
      "19/19 [==============================] - 0s 4ms/step - loss: 0.4130 - val_loss: 0.3955\n",
      "Epoch 128/500\n",
      "19/19 [==============================] - 0s 4ms/step - loss: 0.4124 - val_loss: 0.3951\n",
      "Epoch 129/500\n",
      "19/19 [==============================] - 0s 4ms/step - loss: 0.4047 - val_loss: 0.3961\n",
      "Epoch 130/500\n",
      "19/19 [==============================] - 0s 4ms/step - loss: 0.4130 - val_loss: 0.3956\n",
      "Epoch 131/500\n",
      "19/19 [==============================] - 0s 4ms/step - loss: 0.4135 - val_loss: 0.3957\n",
      "Epoch 132/500\n",
      "19/19 [==============================] - 0s 4ms/step - loss: 0.4072 - val_loss: 0.3941\n",
      "Epoch 133/500\n",
      "19/19 [==============================] - 0s 4ms/step - loss: 0.4098 - val_loss: 0.3944\n",
      "Epoch 134/500\n",
      "19/19 [==============================] - 0s 4ms/step - loss: 0.4141 - val_loss: 0.3943\n",
      "Epoch 135/500\n",
      "19/19 [==============================] - 0s 4ms/step - loss: 0.4086 - val_loss: 0.3955\n",
      "Epoch 136/500\n",
      "19/19 [==============================] - 0s 4ms/step - loss: 0.4115 - val_loss: 0.3968\n",
      "Epoch 137/500\n",
      "19/19 [==============================] - 0s 4ms/step - loss: 0.4117 - val_loss: 0.3954\n",
      "Epoch 138/500\n",
      "19/19 [==============================] - 0s 4ms/step - loss: 0.4170 - val_loss: 0.3946\n",
      "Epoch 139/500\n",
      "19/19 [==============================] - 0s 4ms/step - loss: 0.4036 - val_loss: 0.3951\n",
      "Epoch 140/500\n",
      "19/19 [==============================] - 0s 4ms/step - loss: 0.4137 - val_loss: 0.3953\n",
      "Epoch 141/500\n",
      "19/19 [==============================] - 0s 4ms/step - loss: 0.4058 - val_loss: 0.3946\n",
      "Epoch 142/500\n",
      "19/19 [==============================] - 0s 4ms/step - loss: 0.4068 - val_loss: 0.3958\n",
      "Epoch 143/500\n",
      "19/19 [==============================] - 0s 4ms/step - loss: 0.4095 - val_loss: 0.3950\n",
      "Epoch 144/500\n",
      "19/19 [==============================] - 0s 4ms/step - loss: 0.4110 - val_loss: 0.3925\n",
      "Epoch 145/500\n",
      "19/19 [==============================] - 0s 4ms/step - loss: 0.4108 - val_loss: 0.3947\n",
      "Epoch 146/500\n",
      "19/19 [==============================] - 0s 4ms/step - loss: 0.3997 - val_loss: 0.3945\n",
      "Epoch 147/500\n",
      "19/19 [==============================] - 0s 4ms/step - loss: 0.4069 - val_loss: 0.3934\n",
      "Epoch 148/500\n",
      "19/19 [==============================] - 0s 4ms/step - loss: 0.4072 - val_loss: 0.3951\n",
      "Epoch 149/500\n",
      "19/19 [==============================] - 0s 4ms/step - loss: 0.4073 - val_loss: 0.3957\n",
      "Epoch 150/500\n",
      "19/19 [==============================] - 0s 4ms/step - loss: 0.4121 - val_loss: 0.3942\n",
      "Epoch 151/500\n",
      "19/19 [==============================] - 0s 4ms/step - loss: 0.4023 - val_loss: 0.3939\n",
      "Epoch 152/500\n",
      "19/19 [==============================] - 0s 4ms/step - loss: 0.4020 - val_loss: 0.3942\n",
      "Epoch 153/500\n",
      "19/19 [==============================] - 0s 4ms/step - loss: 0.4040 - val_loss: 0.3958\n",
      "Epoch 154/500\n",
      "19/19 [==============================] - 0s 4ms/step - loss: 0.4026 - val_loss: 0.3943\n",
      "Epoch 155/500\n",
      "19/19 [==============================] - 0s 4ms/step - loss: 0.4082 - val_loss: 0.3949\n",
      "Epoch 156/500\n",
      "19/19 [==============================] - 0s 4ms/step - loss: 0.4046 - val_loss: 0.3943\n",
      "Epoch 157/500\n",
      "19/19 [==============================] - 0s 4ms/step - loss: 0.4044 - val_loss: 0.3941\n",
      "Epoch 158/500\n",
      "19/19 [==============================] - 0s 4ms/step - loss: 0.4108 - val_loss: 0.3955\n",
      "Epoch 159/500\n",
      "19/19 [==============================] - 0s 4ms/step - loss: 0.4058 - val_loss: 0.3945\n",
      "Epoch 159: early stopping\n"
     ]
    },
    {
     "data": {
      "text/plain": [
       "<keras.callbacks.History at 0x7a9379276410>"
      ]
     },
     "execution_count": 39,
     "metadata": {},
     "output_type": "execute_result"
    }
   ],
   "source": [
    "model.fit(x=X_train, \n",
    "          y=y_train, \n",
    "          epochs=500,\n",
    "          batch_size=256,\n",
    "          validation_data=(X_test, y_test),callbacks=early_stop \n",
    "          )"
   ]
  },
  {
   "cell_type": "code",
   "execution_count": 40,
   "id": "872a90eb",
   "metadata": {
    "execution": {
     "iopub.execute_input": "2023-08-02T16:30:09.128350Z",
     "iopub.status.busy": "2023-08-02T16:30:09.127941Z",
     "iopub.status.idle": "2023-08-02T16:30:09.133524Z",
     "shell.execute_reply": "2023-08-02T16:30:09.132308Z"
    },
    "papermill": {
     "duration": 0.080419,
     "end_time": "2023-08-02T16:30:09.136190",
     "exception": false,
     "start_time": "2023-08-02T16:30:09.055771",
     "status": "completed"
    },
    "tags": []
   },
   "outputs": [],
   "source": [
    "losses = pd.DataFrame(model.history.history)"
   ]
  },
  {
   "cell_type": "code",
   "execution_count": 41,
   "id": "70d45a69",
   "metadata": {
    "execution": {
     "iopub.execute_input": "2023-08-02T16:30:09.279167Z",
     "iopub.status.busy": "2023-08-02T16:30:09.278771Z",
     "iopub.status.idle": "2023-08-02T16:30:09.779120Z",
     "shell.execute_reply": "2023-08-02T16:30:09.777980Z"
    },
    "papermill": {
     "duration": 0.574643,
     "end_time": "2023-08-02T16:30:09.781534",
     "exception": false,
     "start_time": "2023-08-02T16:30:09.206891",
     "status": "completed"
    },
    "tags": []
   },
   "outputs": [
    {
     "data": {
      "text/plain": [
       "<Axes: >"
      ]
     },
     "execution_count": 41,
     "metadata": {},
     "output_type": "execute_result"
    },
    {
     "data": {
      "image/png": "[encoded data removed]",
      "text/plain": [
       "<Figure size 640x480 with 1 Axes>"
      ]
     },
     "metadata": {},
     "output_type": "display_data"
    }
   ],
   "source": [
    "losses[['loss','val_loss']].plot()"
   ]
  },
  {
   "cell_type": "code",
   "execution_count": 42,
   "id": "320a2b4a",
   "metadata": {
    "execution": {
     "iopub.execute_input": "2023-08-02T16:30:09.927496Z",
     "iopub.status.busy": "2023-08-02T16:30:09.926891Z",
     "iopub.status.idle": "2023-08-02T16:30:10.211572Z",
     "shell.execute_reply": "2023-08-02T16:30:10.210511Z"
    },
    "papermill": {
     "duration": 0.361367,
     "end_time": "2023-08-02T16:30:10.214416",
     "exception": false,
     "start_time": "2023-08-02T16:30:09.853049",
     "status": "completed"
    },
    "tags": []
   },
   "outputs": [
    {
     "name": "stdout",
     "output_type": "stream",
     "text": [
      "66/66 [==============================] - 0s 1ms/step\n"
     ]
    }
   ],
   "source": [
    "predictions = (model.predict(X_test) > 0.5).astype(\"int32\")"
   ]
  },
  {
   "cell_type": "code",
   "execution_count": 43,
   "id": "51bcd011",
   "metadata": {
    "execution": {
     "iopub.execute_input": "2023-08-02T16:30:10.360310Z",
     "iopub.status.busy": "2023-08-02T16:30:10.359631Z",
     "iopub.status.idle": "2023-08-02T16:30:10.363839Z",
     "shell.execute_reply": "2023-08-02T16:30:10.363085Z"
    },
    "papermill": {
     "duration": 0.08005,
     "end_time": "2023-08-02T16:30:10.366015",
     "exception": false,
     "start_time": "2023-08-02T16:30:10.285965",
     "status": "completed"
    },
    "tags": []
   },
   "outputs": [],
   "source": [
    "from sklearn.metrics import confusion_matrix, classification_report"
   ]
  },
  {
   "cell_type": "code",
   "execution_count": 44,
   "id": "c68ae11c",
   "metadata": {
    "execution": {
     "iopub.execute_input": "2023-08-02T16:30:10.512602Z",
     "iopub.status.busy": "2023-08-02T16:30:10.511964Z",
     "iopub.status.idle": "2023-08-02T16:30:10.531633Z",
     "shell.execute_reply": "2023-08-02T16:30:10.530257Z"
    },
    "papermill": {
     "duration": 0.095784,
     "end_time": "2023-08-02T16:30:10.533825",
     "exception": false,
     "start_time": "2023-08-02T16:30:10.438041",
     "status": "completed"
    },
    "tags": []
   },
   "outputs": [
    {
     "name": "stdout",
     "output_type": "stream",
     "text": [
      "[[827 220]\n",
      " [185 851]]\n",
      "\n",
      "\n",
      "              precision    recall  f1-score   support\n",
      "\n",
      "           0       0.82      0.79      0.80      1047\n",
      "           1       0.79      0.82      0.81      1036\n",
      "\n",
      "    accuracy                           0.81      2083\n",
      "   macro avg       0.81      0.81      0.81      2083\n",
      "weighted avg       0.81      0.81      0.81      2083\n",
      "\n"
     ]
    }
   ],
   "source": [
    "print(confusion_matrix(y_test,predictions))\n",
    "print('\\n')\n",
    "print(classification_report(y_test,predictions))"
   ]
  },
  {
   "cell_type": "code",
   "execution_count": 45,
   "id": "78f7e87d",
   "metadata": {
    "execution": {
     "iopub.execute_input": "2023-08-02T16:30:10.679793Z",
     "iopub.status.busy": "2023-08-02T16:30:10.678645Z",
     "iopub.status.idle": "2023-08-02T16:30:10.731196Z",
     "shell.execute_reply": "2023-08-02T16:30:10.730084Z"
    },
    "papermill": {
     "duration": 0.128345,
     "end_time": "2023-08-02T16:30:10.733600",
     "exception": false,
     "start_time": "2023-08-02T16:30:10.605255",
     "status": "completed"
    },
    "tags": []
   },
   "outputs": [
    {
     "data": {
      "text/html": [
       "<div>\n",
       "<style scoped>\n",
       "    .dataframe tbody tr th:only-of-type {\n",
       "        vertical-align: middle;\n",
       "    }\n",
       "\n",
       "    .dataframe tbody tr th {\n",
       "        vertical-align: top;\n",
       "    }\n",
       "\n",
       "    .dataframe thead th {\n",
       "        text-align: right;\n",
       "    }\n",
       "</style>\n",
       "<table border=\"1\" class=\"dataframe\">\n",
       "  <thead>\n",
       "    <tr style=\"text-align: right;\">\n",
       "      <th></th>\n",
       "      <th>PassengerId</th>\n",
       "      <th>HomePlanet</th>\n",
       "      <th>CryoSleep</th>\n",
       "      <th>Cabin</th>\n",
       "      <th>Destination</th>\n",
       "      <th>Age</th>\n",
       "      <th>VIP</th>\n",
       "      <th>RoomService</th>\n",
       "      <th>FoodCourt</th>\n",
       "      <th>ShoppingMall</th>\n",
       "      <th>Spa</th>\n",
       "      <th>VRDeck</th>\n",
       "      <th>Name</th>\n",
       "    </tr>\n",
       "  </thead>\n",
       "  <tbody>\n",
       "    <tr>\n",
       "      <th>0</th>\n",
       "      <td>0013_01</td>\n",
       "      <td>Earth</td>\n",
       "      <td>True</td>\n",
       "      <td>G/3/S</td>\n",
       "      <td>TRAPPIST-1e</td>\n",
       "      <td>27.0</td>\n",
       "      <td>False</td>\n",
       "      <td>0.0</td>\n",
       "      <td>0.0</td>\n",
       "      <td>0.0</td>\n",
       "      <td>0.0</td>\n",
       "      <td>0.0</td>\n",
       "      <td>Nelly Carsoning</td>\n",
       "    </tr>\n",
       "    <tr>\n",
       "      <th>1</th>\n",
       "      <td>0018_01</td>\n",
       "      <td>Earth</td>\n",
       "      <td>False</td>\n",
       "      <td>F/4/S</td>\n",
       "      <td>TRAPPIST-1e</td>\n",
       "      <td>19.0</td>\n",
       "      <td>False</td>\n",
       "      <td>0.0</td>\n",
       "      <td>9.0</td>\n",
       "      <td>0.0</td>\n",
       "      <td>2823.0</td>\n",
       "      <td>0.0</td>\n",
       "      <td>Lerome Peckers</td>\n",
       "    </tr>\n",
       "    <tr>\n",
       "      <th>2</th>\n",
       "      <td>0019_01</td>\n",
       "      <td>Europa</td>\n",
       "      <td>True</td>\n",
       "      <td>C/0/S</td>\n",
       "      <td>55 Cancri e</td>\n",
       "      <td>31.0</td>\n",
       "      <td>False</td>\n",
       "      <td>0.0</td>\n",
       "      <td>0.0</td>\n",
       "      <td>0.0</td>\n",
       "      <td>0.0</td>\n",
       "      <td>0.0</td>\n",
       "      <td>Sabih Unhearfus</td>\n",
       "    </tr>\n",
       "    <tr>\n",
       "      <th>3</th>\n",
       "      <td>0021_01</td>\n",
       "      <td>Europa</td>\n",
       "      <td>False</td>\n",
       "      <td>C/1/S</td>\n",
       "      <td>TRAPPIST-1e</td>\n",
       "      <td>38.0</td>\n",
       "      <td>False</td>\n",
       "      <td>0.0</td>\n",
       "      <td>6652.0</td>\n",
       "      <td>0.0</td>\n",
       "      <td>181.0</td>\n",
       "      <td>585.0</td>\n",
       "      <td>Meratz Caltilter</td>\n",
       "    </tr>\n",
       "    <tr>\n",
       "      <th>4</th>\n",
       "      <td>0023_01</td>\n",
       "      <td>Earth</td>\n",
       "      <td>False</td>\n",
       "      <td>F/5/S</td>\n",
       "      <td>TRAPPIST-1e</td>\n",
       "      <td>20.0</td>\n",
       "      <td>False</td>\n",
       "      <td>10.0</td>\n",
       "      <td>0.0</td>\n",
       "      <td>635.0</td>\n",
       "      <td>0.0</td>\n",
       "      <td>0.0</td>\n",
       "      <td>Brence Harperez</td>\n",
       "    </tr>\n",
       "  </tbody>\n",
       "</table>\n",
       "</div>"
      ],
      "text/plain": [
       "  PassengerId HomePlanet CryoSleep  Cabin  Destination   Age    VIP  \\\n",
       "0     0013_01      Earth      True  G/3/S  TRAPPIST-1e  27.0  False   \n",
       "1     0018_01      Earth     False  F/4/S  TRAPPIST-1e  19.0  False   \n",
       "2     0019_01     Europa      True  C/0/S  55 Cancri e  31.0  False   \n",
       "3     0021_01     Europa     False  C/1/S  TRAPPIST-1e  38.0  False   \n",
       "4     0023_01      Earth     False  F/5/S  TRAPPIST-1e  20.0  False   \n",
       "\n",
       "   RoomService  FoodCourt  ShoppingMall     Spa  VRDeck              Name  \n",
       "0          0.0        0.0           0.0     0.0     0.0   Nelly Carsoning  \n",
       "1          0.0        9.0           0.0  2823.0     0.0    Lerome Peckers  \n",
       "2          0.0        0.0           0.0     0.0     0.0   Sabih Unhearfus  \n",
       "3          0.0     6652.0           0.0   181.0   585.0  Meratz Caltilter  \n",
       "4         10.0        0.0         635.0     0.0     0.0   Brence Harperez  "
      ]
     },
     "execution_count": 45,
     "metadata": {},
     "output_type": "execute_result"
    }
   ],
   "source": [
    "test_data = pd.read_csv('/kaggle/input/spaceship-titanic/test.csv')\n",
    "test_data.head()"
   ]
  },
  {
   "cell_type": "code",
   "execution_count": 46,
   "id": "135bdb08",
   "metadata": {
    "execution": {
     "iopub.execute_input": "2023-08-02T16:30:10.879399Z",
     "iopub.status.busy": "2023-08-02T16:30:10.879014Z",
     "iopub.status.idle": "2023-08-02T16:30:10.909740Z",
     "shell.execute_reply": "2023-08-02T16:30:10.908729Z"
    },
    "papermill": {
     "duration": 0.10729,
     "end_time": "2023-08-02T16:30:10.912443",
     "exception": false,
     "start_time": "2023-08-02T16:30:10.805153",
     "status": "completed"
    },
    "tags": []
   },
   "outputs": [],
   "source": [
    "test_data['CryoSleep'] = test_data['CryoSleep'].apply(lambda x: 1 if x==True else 0)\n",
    "test_data[['Deck','Deck_Number','Deck_side']] = test_data ['Cabin'].str.split(\"/\", expand = True)\n",
    "test_data = test_data.drop('Cabin', axis=1)\n",
    "test_data ['VIP'] = test_data ['VIP'].apply(lambda x: 1 if x==True else 0)\n"
   ]
  },
  {
   "cell_type": "code",
   "execution_count": 47,
   "id": "2e3e9b80",
   "metadata": {
    "execution": {
     "iopub.execute_input": "2023-08-02T16:30:11.060074Z",
     "iopub.status.busy": "2023-08-02T16:30:11.058802Z",
     "iopub.status.idle": "2023-08-02T16:30:11.080176Z",
     "shell.execute_reply": "2023-08-02T16:30:11.078310Z"
    },
    "papermill": {
     "duration": 0.097725,
     "end_time": "2023-08-02T16:30:11.082961",
     "exception": false,
     "start_time": "2023-08-02T16:30:10.985236",
     "status": "completed"
    },
    "tags": []
   },
   "outputs": [
    {
     "data": {
      "text/plain": [
       "PassengerId     0.000000\n",
       "HomePlanet      2.034136\n",
       "CryoSleep       0.000000\n",
       "Destination     2.151040\n",
       "Age             2.127660\n",
       "VIP             0.000000\n",
       "RoomService     1.917232\n",
       "FoodCourt       2.478373\n",
       "ShoppingMall    2.291326\n",
       "Spa             2.361468\n",
       "VRDeck          1.870470\n",
       "Name            2.197802\n",
       "Deck            2.338087\n",
       "Deck_Number     2.338087\n",
       "Deck_side       2.338087\n",
       "dtype: float64"
      ]
     },
     "execution_count": 47,
     "metadata": {},
     "output_type": "execute_result"
    }
   ],
   "source": [
    "(test_data.isnull().sum()/len(test_data))*100"
   ]
  },
  {
   "cell_type": "code",
   "execution_count": 48,
   "id": "0f118c2d",
   "metadata": {
    "execution": {
     "iopub.execute_input": "2023-08-02T16:30:11.229624Z",
     "iopub.status.busy": "2023-08-02T16:30:11.229199Z",
     "iopub.status.idle": "2023-08-02T16:30:11.249675Z",
     "shell.execute_reply": "2023-08-02T16:30:11.248713Z"
    },
    "papermill": {
     "duration": 0.096929,
     "end_time": "2023-08-02T16:30:11.252315",
     "exception": false,
     "start_time": "2023-08-02T16:30:11.155386",
     "status": "completed"
    },
    "tags": []
   },
   "outputs": [],
   "source": [
    "test_data = test_data.fillna(method=\"ffill\")"
   ]
  },
  {
   "cell_type": "code",
   "execution_count": 49,
   "id": "39e33f0b",
   "metadata": {
    "execution": {
     "iopub.execute_input": "2023-08-02T16:30:11.399818Z",
     "iopub.status.busy": "2023-08-02T16:30:11.398708Z",
     "iopub.status.idle": "2023-08-02T16:30:11.419768Z",
     "shell.execute_reply": "2023-08-02T16:30:11.418591Z"
    },
    "papermill": {
     "duration": 0.097823,
     "end_time": "2023-08-02T16:30:11.422354",
     "exception": false,
     "start_time": "2023-08-02T16:30:11.324531",
     "status": "completed"
    },
    "tags": []
   },
   "outputs": [
    {
     "data": {
      "text/plain": [
       "PassengerId     0.0\n",
       "HomePlanet      0.0\n",
       "CryoSleep       0.0\n",
       "Destination     0.0\n",
       "Age             0.0\n",
       "VIP             0.0\n",
       "RoomService     0.0\n",
       "FoodCourt       0.0\n",
       "ShoppingMall    0.0\n",
       "Spa             0.0\n",
       "VRDeck          0.0\n",
       "Name            0.0\n",
       "Deck            0.0\n",
       "Deck_Number     0.0\n",
       "Deck_side       0.0\n",
       "dtype: float64"
      ]
     },
     "execution_count": 49,
     "metadata": {},
     "output_type": "execute_result"
    }
   ],
   "source": [
    "(test_data.isnull().sum()/len(test_data))*100"
   ]
  },
  {
   "cell_type": "code",
   "execution_count": 50,
   "id": "c3c2c08b",
   "metadata": {
    "execution": {
     "iopub.execute_input": "2023-08-02T16:30:11.570445Z",
     "iopub.status.busy": "2023-08-02T16:30:11.569374Z",
     "iopub.status.idle": "2023-08-02T16:30:11.585947Z",
     "shell.execute_reply": "2023-08-02T16:30:11.584803Z"
    },
    "papermill": {
     "duration": 0.09377,
     "end_time": "2023-08-02T16:30:11.588413",
     "exception": false,
     "start_time": "2023-08-02T16:30:11.494643",
     "status": "completed"
    },
    "tags": []
   },
   "outputs": [],
   "source": [
    "feature1 = test_data[['HomePlanet', 'Destination','Deck','Deck_side']]\n",
    "dummies1= pd.get_dummies(feature1,drop_first=True)\n",
    "test_data = pd.concat([test_data.drop(feature1,axis=1),dummies1],axis=1)"
   ]
  },
  {
   "cell_type": "code",
   "execution_count": 51,
   "id": "ba5b0857",
   "metadata": {
    "execution": {
     "iopub.execute_input": "2023-08-02T16:30:11.736024Z",
     "iopub.status.busy": "2023-08-02T16:30:11.735242Z",
     "iopub.status.idle": "2023-08-02T16:30:11.741389Z",
     "shell.execute_reply": "2023-08-02T16:30:11.740663Z"
    },
    "papermill": {
     "duration": 0.082421,
     "end_time": "2023-08-02T16:30:11.743712",
     "exception": false,
     "start_time": "2023-08-02T16:30:11.661291",
     "status": "completed"
    },
    "tags": []
   },
   "outputs": [
    {
     "data": {
      "text/plain": [
       "Index(['PassengerId', 'CryoSleep', 'Age', 'VIP', 'RoomService', 'FoodCourt',\n",
       "       'ShoppingMall', 'Spa', 'VRDeck', 'Name', 'Deck_Number',\n",
       "       'HomePlanet_Europa', 'HomePlanet_Mars', 'Destination_PSO J318.5-22',\n",
       "       'Destination_TRAPPIST-1e', 'Deck_B', 'Deck_C', 'Deck_D', 'Deck_E',\n",
       "       'Deck_F', 'Deck_G', 'Deck_T', 'Deck_side_S'],\n",
       "      dtype='object')"
      ]
     },
     "execution_count": 51,
     "metadata": {},
     "output_type": "execute_result"
    }
   ],
   "source": [
    "test_data.columns"
   ]
  },
  {
   "cell_type": "code",
   "execution_count": 52,
   "id": "aae9c50d",
   "metadata": {
    "execution": {
     "iopub.execute_input": "2023-08-02T16:30:11.891656Z",
     "iopub.status.busy": "2023-08-02T16:30:11.890937Z",
     "iopub.status.idle": "2023-08-02T16:30:11.897536Z",
     "shell.execute_reply": "2023-08-02T16:30:11.896363Z"
    },
    "papermill": {
     "duration": 0.083462,
     "end_time": "2023-08-02T16:30:11.900064",
     "exception": false,
     "start_time": "2023-08-02T16:30:11.816602",
     "status": "completed"
    },
    "tags": []
   },
   "outputs": [],
   "source": [
    "for_test = test_data.drop(['PassengerId','Name'],axis=1)"
   ]
  },
  {
   "cell_type": "code",
   "execution_count": 53,
   "id": "9139cb07",
   "metadata": {
    "execution": {
     "iopub.execute_input": "2023-08-02T16:30:12.049001Z",
     "iopub.status.busy": "2023-08-02T16:30:12.048583Z",
     "iopub.status.idle": "2023-08-02T16:30:12.075184Z",
     "shell.execute_reply": "2023-08-02T16:30:12.073979Z"
    },
    "papermill": {
     "duration": 0.10387,
     "end_time": "2023-08-02T16:30:12.077739",
     "exception": false,
     "start_time": "2023-08-02T16:30:11.973869",
     "status": "completed"
    },
    "tags": []
   },
   "outputs": [
    {
     "name": "stderr",
     "output_type": "stream",
     "text": [
      "/opt/conda/lib/python3.10/site-packages/sklearn/base.py:432: UserWarning: X has feature names, but MinMaxScaler was fitted without feature names\n",
      "  warnings.warn(\n"
     ]
    }
   ],
   "source": [
    "for_test = scaler.transform(for_test)"
   ]
  },
  {
   "cell_type": "code",
   "execution_count": 54,
   "id": "c2f2d886",
   "metadata": {
    "execution": {
     "iopub.execute_input": "2023-08-02T16:30:12.245043Z",
     "iopub.status.busy": "2023-08-02T16:30:12.244115Z",
     "iopub.status.idle": "2023-08-02T16:30:12.251911Z",
     "shell.execute_reply": "2023-08-02T16:30:12.250743Z"
    },
    "papermill": {
     "duration": 0.086706,
     "end_time": "2023-08-02T16:30:12.254764",
     "exception": false,
     "start_time": "2023-08-02T16:30:12.168058",
     "status": "completed"
    },
    "tags": []
   },
   "outputs": [
    {
     "data": {
      "text/plain": [
       "array([[1.        , 0.34177215, 0.        , ..., 1.        , 0.        ,\n",
       "        1.        ],\n",
       "       [0.        , 0.24050633, 0.        , ..., 0.        , 0.        ,\n",
       "        1.        ],\n",
       "       [1.        , 0.39240506, 0.        , ..., 0.        , 0.        ,\n",
       "        1.        ],\n",
       "       ...,\n",
       "       [1.        , 0.53164557, 0.        , ..., 0.        , 0.        ,\n",
       "        0.        ],\n",
       "       [0.        , 0.53164557, 0.        , ..., 0.        , 0.        ,\n",
       "        0.        ],\n",
       "       [1.        , 0.5443038 , 0.        , ..., 1.        , 0.        ,\n",
       "        1.        ]])"
      ]
     },
     "execution_count": 54,
     "metadata": {},
     "output_type": "execute_result"
    }
   ],
   "source": [
    "for_test"
   ]
  },
  {
   "cell_type": "code",
   "execution_count": 55,
   "id": "b5a2179b",
   "metadata": {
    "execution": {
     "iopub.execute_input": "2023-08-02T16:30:12.411094Z",
     "iopub.status.busy": "2023-08-02T16:30:12.410572Z",
     "iopub.status.idle": "2023-08-02T16:30:12.720964Z",
     "shell.execute_reply": "2023-08-02T16:30:12.719746Z"
    },
    "papermill": {
     "duration": 0.393374,
     "end_time": "2023-08-02T16:30:12.724014",
     "exception": false,
     "start_time": "2023-08-02T16:30:12.330640",
     "status": "completed"
    },
    "tags": []
   },
   "outputs": [
    {
     "name": "stdout",
     "output_type": "stream",
     "text": [
      "134/134 [==============================] - 0s 1ms/step\n"
     ]
    }
   ],
   "source": [
    "predictnew = (model.predict(for_test) > 0.5).astype(\"int32\")"
   ]
  },
  {
   "cell_type": "code",
   "execution_count": 56,
   "id": "6e293b49",
   "metadata": {
    "execution": {
     "iopub.execute_input": "2023-08-02T16:30:12.901403Z",
     "iopub.status.busy": "2023-08-02T16:30:12.900265Z",
     "iopub.status.idle": "2023-08-02T16:30:12.907884Z",
     "shell.execute_reply": "2023-08-02T16:30:12.906872Z"
    },
    "papermill": {
     "duration": 0.104774,
     "end_time": "2023-08-02T16:30:12.910784",
     "exception": false,
     "start_time": "2023-08-02T16:30:12.806010",
     "status": "completed"
    },
    "tags": []
   },
   "outputs": [
    {
     "data": {
      "text/plain": [
       "array([[0],\n",
       "       [0],\n",
       "       [1],\n",
       "       ...,\n",
       "       [1],\n",
       "       [1],\n",
       "       [1]], dtype=int32)"
      ]
     },
     "execution_count": 56,
     "metadata": {},
     "output_type": "execute_result"
    }
   ],
   "source": [
    "predictnew"
   ]
  },
  {
   "cell_type": "code",
   "execution_count": 57,
   "id": "5688a6e3",
   "metadata": {
    "execution": {
     "iopub.execute_input": "2023-08-02T16:30:13.062355Z",
     "iopub.status.busy": "2023-08-02T16:30:13.061343Z",
     "iopub.status.idle": "2023-08-02T16:30:13.066218Z",
     "shell.execute_reply": "2023-08-02T16:30:13.065443Z"
    },
    "papermill": {
     "duration": 0.082449,
     "end_time": "2023-08-02T16:30:13.068543",
     "exception": false,
     "start_time": "2023-08-02T16:30:12.986094",
     "status": "completed"
    },
    "tags": []
   },
   "outputs": [],
   "source": [
    "predictnew = pd.DataFrame(predictnew).astype(bool) "
   ]
  },
  {
   "cell_type": "code",
   "execution_count": 58,
   "id": "b7158855",
   "metadata": {
    "execution": {
     "iopub.execute_input": "2023-08-02T16:30:13.224116Z",
     "iopub.status.busy": "2023-08-02T16:30:13.223047Z",
     "iopub.status.idle": "2023-08-02T16:30:13.245124Z",
     "shell.execute_reply": "2023-08-02T16:30:13.244280Z"
    },
    "papermill": {
     "duration": 0.099442,
     "end_time": "2023-08-02T16:30:13.247645",
     "exception": false,
     "start_time": "2023-08-02T16:30:13.148203",
     "status": "completed"
    },
    "tags": []
   },
   "outputs": [],
   "source": [
    "output = pd.DataFrame()\n",
    "output['PassengerId'] = test_data['PassengerId']\n",
    "output['Transported'] = predictnew\n",
    "output.to_csv('submission.csv', index=False)"
   ]
  },
  {
   "cell_type": "code",
   "execution_count": 59,
   "id": "7e051ade",
   "metadata": {
    "execution": {
     "iopub.execute_input": "2023-08-02T16:30:13.396237Z",
     "iopub.status.busy": "2023-08-02T16:30:13.395144Z",
     "iopub.status.idle": "2023-08-02T16:30:13.407980Z",
     "shell.execute_reply": "2023-08-02T16:30:13.406854Z"
    },
    "papermill": {
     "duration": 0.08947,
     "end_time": "2023-08-02T16:30:13.410125",
     "exception": false,
     "start_time": "2023-08-02T16:30:13.320655",
     "status": "completed"
    },
    "tags": []
   },
   "outputs": [
    {
     "data": {
      "text/html": [
       "<div>\n",
       "<style scoped>\n",
       "    .dataframe tbody tr th:only-of-type {\n",
       "        vertical-align: middle;\n",
       "    }\n",
       "\n",
       "    .dataframe tbody tr th {\n",
       "        vertical-align: top;\n",
       "    }\n",
       "\n",
       "    .dataframe thead th {\n",
       "        text-align: right;\n",
       "    }\n",
       "</style>\n",
       "<table border=\"1\" class=\"dataframe\">\n",
       "  <thead>\n",
       "    <tr style=\"text-align: right;\">\n",
       "      <th></th>\n",
       "      <th>PassengerId</th>\n",
       "      <th>Transported</th>\n",
       "    </tr>\n",
       "  </thead>\n",
       "  <tbody>\n",
       "    <tr>\n",
       "      <th>0</th>\n",
       "      <td>0013_01</td>\n",
       "      <td>False</td>\n",
       "    </tr>\n",
       "    <tr>\n",
       "      <th>1</th>\n",
       "      <td>0018_01</td>\n",
       "      <td>False</td>\n",
       "    </tr>\n",
       "    <tr>\n",
       "      <th>2</th>\n",
       "      <td>0019_01</td>\n",
       "      <td>True</td>\n",
       "    </tr>\n",
       "    <tr>\n",
       "      <th>3</th>\n",
       "      <td>0021_01</td>\n",
       "      <td>True</td>\n",
       "    </tr>\n",
       "    <tr>\n",
       "      <th>4</th>\n",
       "      <td>0023_01</td>\n",
       "      <td>True</td>\n",
       "    </tr>\n",
       "    <tr>\n",
       "      <th>...</th>\n",
       "      <td>...</td>\n",
       "      <td>...</td>\n",
       "    </tr>\n",
       "    <tr>\n",
       "      <th>4272</th>\n",
       "      <td>9266_02</td>\n",
       "      <td>True</td>\n",
       "    </tr>\n",
       "    <tr>\n",
       "      <th>4273</th>\n",
       "      <td>9269_01</td>\n",
       "      <td>True</td>\n",
       "    </tr>\n",
       "    <tr>\n",
       "      <th>4274</th>\n",
       "      <td>9271_01</td>\n",
       "      <td>True</td>\n",
       "    </tr>\n",
       "    <tr>\n",
       "      <th>4275</th>\n",
       "      <td>9273_01</td>\n",
       "      <td>True</td>\n",
       "    </tr>\n",
       "    <tr>\n",
       "      <th>4276</th>\n",
       "      <td>9277_01</td>\n",
       "      <td>True</td>\n",
       "    </tr>\n",
       "  </tbody>\n",
       "</table>\n",
       "<p>4277 rows × 2 columns</p>\n",
       "</div>"
      ],
      "text/plain": [
       "     PassengerId  Transported\n",
       "0        0013_01        False\n",
       "1        0018_01        False\n",
       "2        0019_01         True\n",
       "3        0021_01         True\n",
       "4        0023_01         True\n",
       "...          ...          ...\n",
       "4272     9266_02         True\n",
       "4273     9269_01         True\n",
       "4274     9271_01         True\n",
       "4275     9273_01         True\n",
       "4276     9277_01         True\n",
       "\n",
       "[4277 rows x 2 columns]"
      ]
     },
     "execution_count": 59,
     "metadata": {},
     "output_type": "execute_result"
    }
   ],
   "source": [
    "output"
   ]
  },
  {
   "cell_type": "code",
   "execution_count": null,
   "id": "3e76dd8a",
   "metadata": {
    "papermill": {
     "duration": 0.074086,
     "end_time": "2023-08-02T16:30:13.558437",
     "exception": false,
     "start_time": "2023-08-02T16:30:13.484351",
     "status": "completed"
    },
    "tags": []
   },
   "outputs": [],
   "source": []
  }
 ],
 "metadata": {
  "kernelspec": {
   "display_name": "Python 3",
   "language": "python",
   "name": "python3"
  },
  "language_info": {
   "codemirror_mode": {
    "name": "ipython",
    "version": 3
   },
   "file_extension": ".py",
   "mimetype": "text/x-python",
   "name": "python",
   "nbconvert_exporter": "python",
   "pygments_lexer": "ipython3",
   "version": "3.10.12"
  },
  "papermill": {
   "default_parameters": {},
   "duration": 72.762429,
   "end_time": "2023-08-02T16:30:16.522729",
   "environment_variables": {},
   "exception": null,
   "input_path": "__notebook__.ipynb",
   "output_path": "__notebook__.ipynb",
   "parameters": {},
   "start_time": "2023-08-02T16:29:03.760300",
   "version": "2.4.0"
  }
 },
 "nbformat": 4,
 "nbformat_minor": 5
}

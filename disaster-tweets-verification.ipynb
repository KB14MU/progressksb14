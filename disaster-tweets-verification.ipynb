{
 "cells": [
  {
   "cell_type": "code",
   "execution_count": 1,
   "id": "7640ce61",
   "metadata": {
    "execution": {
     "iopub.execute_input": "2023-08-08T13:01:38.452079Z",
     "iopub.status.busy": "2023-08-08T13:01:38.451302Z",
     "iopub.status.idle": "2023-08-08T13:01:38.465188Z",
     "shell.execute_reply": "2023-08-08T13:01:38.464440Z"
    },
    "papermill": {
     "duration": 0.023815,
     "end_time": "2023-08-08T13:01:38.467245",
     "exception": false,
     "start_time": "2023-08-08T13:01:38.443430",
     "status": "completed"
    },
    "tags": []
   },
   "outputs": [
    {
     "name": "stdout",
     "output_type": "stream",
     "text": [
      "/kaggle/input/nlp-getting-started/sample_submission.csv\n",
      "/kaggle/input/nlp-getting-started/train.csv\n",
      "/kaggle/input/nlp-getting-started/test.csv\n"
     ]
    }
   ],
   "source": [
    "# This Python 3 environment comes with many helpful analytics libraries installed\n",
    "# It is defined by the kaggle/python Docker image: https://github.com/kaggle/docker-python\n",
    "# For example, here's several helpful packages to load\n",
    "\n",
    "import numpy as np # linear algebra\n",
    "import pandas as pd # data processing, CSV file I/O (e.g. pd.read_csv)\n",
    "\n",
    "# Input data files are available in the read-only \"../input/\" directory\n",
    "# For example, running this (by clicking run or pressing Shift+Enter) will list all files under the input directory\n",
    "\n",
    "import os\n",
    "for dirname, _, filenames in os.walk('/kaggle/input'):\n",
    "    for filename in filenames:\n",
    "        print(os.path.join(dirname, filename))\n",
    "\n",
    "# You can write up to 20GB to the current directory (/kaggle/working/) that gets preserved as output when you create a version using \"Save & Run All\" \n",
    "# You can also write temporary files to /kaggle/temp/, but they won't be saved outside of the current session"
   ]
  },
  {
   "cell_type": "code",
   "execution_count": 2,
   "id": "25f7da78",
   "metadata": {
    "execution": {
     "iopub.execute_input": "2023-08-08T13:01:38.478047Z",
     "iopub.status.busy": "2023-08-08T13:01:38.477696Z",
     "iopub.status.idle": "2023-08-08T13:01:39.741873Z",
     "shell.execute_reply": "2023-08-08T13:01:39.741037Z"
    },
    "papermill": {
     "duration": 1.272205,
     "end_time": "2023-08-08T13:01:39.744294",
     "exception": false,
     "start_time": "2023-08-08T13:01:38.472089",
     "status": "completed"
    },
    "tags": []
   },
   "outputs": [
    {
     "name": "stderr",
     "output_type": "stream",
     "text": [
      "/opt/conda/lib/python3.10/site-packages/scipy/__init__.py:146: UserWarning: A NumPy version >=1.16.5 and <1.23.0 is required for this version of SciPy (detected version 1.23.5\n",
      "  warnings.warn(f\"A NumPy version >={np_minversion} and <{np_maxversion}\"\n"
     ]
    }
   ],
   "source": [
    "import numpy as np \n",
    "import pandas as pd \n",
    "from sklearn import feature_extraction, linear_model, model_selection, preprocessing"
   ]
  },
  {
   "cell_type": "code",
   "execution_count": 3,
   "id": "6439e760",
   "metadata": {
    "execution": {
     "iopub.execute_input": "2023-08-08T13:01:39.755409Z",
     "iopub.status.busy": "2023-08-08T13:01:39.754668Z",
     "iopub.status.idle": "2023-08-08T13:01:39.810327Z",
     "shell.execute_reply": "2023-08-08T13:01:39.809350Z"
    },
    "papermill": {
     "duration": 0.063613,
     "end_time": "2023-08-08T13:01:39.812741",
     "exception": false,
     "start_time": "2023-08-08T13:01:39.749128",
     "status": "completed"
    },
    "tags": []
   },
   "outputs": [],
   "source": [
    "df = pd.read_csv('/kaggle/input/nlp-getting-started/train.csv')"
   ]
  },
  {
   "cell_type": "code",
   "execution_count": 4,
   "id": "cde2591d",
   "metadata": {
    "execution": {
     "iopub.execute_input": "2023-08-08T13:01:39.823943Z",
     "iopub.status.busy": "2023-08-08T13:01:39.823206Z",
     "iopub.status.idle": "2023-08-08T13:01:39.842492Z",
     "shell.execute_reply": "2023-08-08T13:01:39.841404Z"
    },
    "papermill": {
     "duration": 0.027369,
     "end_time": "2023-08-08T13:01:39.844811",
     "exception": false,
     "start_time": "2023-08-08T13:01:39.817442",
     "status": "completed"
    },
    "tags": []
   },
   "outputs": [
    {
     "data": {
      "text/html": [
       "<div>\n",
       "<style scoped>\n",
       "    .dataframe tbody tr th:only-of-type {\n",
       "        vertical-align: middle;\n",
       "    }\n",
       "\n",
       "    .dataframe tbody tr th {\n",
       "        vertical-align: top;\n",
       "    }\n",
       "\n",
       "    .dataframe thead th {\n",
       "        text-align: right;\n",
       "    }\n",
       "</style>\n",
       "<table border=\"1\" class=\"dataframe\">\n",
       "  <thead>\n",
       "    <tr style=\"text-align: right;\">\n",
       "      <th></th>\n",
       "      <th>id</th>\n",
       "      <th>keyword</th>\n",
       "      <th>location</th>\n",
       "      <th>text</th>\n",
       "      <th>target</th>\n",
       "    </tr>\n",
       "  </thead>\n",
       "  <tbody>\n",
       "    <tr>\n",
       "      <th>0</th>\n",
       "      <td>1</td>\n",
       "      <td>NaN</td>\n",
       "      <td>NaN</td>\n",
       "      <td>Our Deeds are the Reason of this #earthquake M...</td>\n",
       "      <td>1</td>\n",
       "    </tr>\n",
       "    <tr>\n",
       "      <th>1</th>\n",
       "      <td>4</td>\n",
       "      <td>NaN</td>\n",
       "      <td>NaN</td>\n",
       "      <td>Forest fire near La Ronge Sask. Canada</td>\n",
       "      <td>1</td>\n",
       "    </tr>\n",
       "    <tr>\n",
       "      <th>2</th>\n",
       "      <td>5</td>\n",
       "      <td>NaN</td>\n",
       "      <td>NaN</td>\n",
       "      <td>All residents asked to 'shelter in place' are ...</td>\n",
       "      <td>1</td>\n",
       "    </tr>\n",
       "    <tr>\n",
       "      <th>3</th>\n",
       "      <td>6</td>\n",
       "      <td>NaN</td>\n",
       "      <td>NaN</td>\n",
       "      <td>13,000 people receive #wildfires evacuation or...</td>\n",
       "      <td>1</td>\n",
       "    </tr>\n",
       "    <tr>\n",
       "      <th>4</th>\n",
       "      <td>7</td>\n",
       "      <td>NaN</td>\n",
       "      <td>NaN</td>\n",
       "      <td>Just got sent this photo from Ruby #Alaska as ...</td>\n",
       "      <td>1</td>\n",
       "    </tr>\n",
       "  </tbody>\n",
       "</table>\n",
       "</div>"
      ],
      "text/plain": [
       "   id keyword location                                               text  \\\n",
       "0   1     NaN      NaN  Our Deeds are the Reason of this #earthquake M...   \n",
       "1   4     NaN      NaN             Forest fire near La Ronge Sask. Canada   \n",
       "2   5     NaN      NaN  All residents asked to 'shelter in place' are ...   \n",
       "3   6     NaN      NaN  13,000 people receive #wildfires evacuation or...   \n",
       "4   7     NaN      NaN  Just got sent this photo from Ruby #Alaska as ...   \n",
       "\n",
       "   target  \n",
       "0       1  \n",
       "1       1  \n",
       "2       1  \n",
       "3       1  \n",
       "4       1  "
      ]
     },
     "execution_count": 4,
     "metadata": {},
     "output_type": "execute_result"
    }
   ],
   "source": [
    "df.head()"
   ]
  },
  {
   "cell_type": "code",
   "execution_count": 5,
   "id": "3155d022",
   "metadata": {
    "execution": {
     "iopub.execute_input": "2023-08-08T13:01:39.856208Z",
     "iopub.status.busy": "2023-08-08T13:01:39.855865Z",
     "iopub.status.idle": "2023-08-08T13:01:39.882139Z",
     "shell.execute_reply": "2023-08-08T13:01:39.880809Z"
    },
    "papermill": {
     "duration": 0.034938,
     "end_time": "2023-08-08T13:01:39.884697",
     "exception": false,
     "start_time": "2023-08-08T13:01:39.849759",
     "status": "completed"
    },
    "tags": []
   },
   "outputs": [],
   "source": [
    "df_test = pd.read_csv('/kaggle/input/nlp-getting-started/test.csv')"
   ]
  },
  {
   "cell_type": "code",
   "execution_count": 6,
   "id": "a51dd248",
   "metadata": {
    "execution": {
     "iopub.execute_input": "2023-08-08T13:01:39.896060Z",
     "iopub.status.busy": "2023-08-08T13:01:39.895669Z",
     "iopub.status.idle": "2023-08-08T13:01:39.908167Z",
     "shell.execute_reply": "2023-08-08T13:01:39.907257Z"
    },
    "papermill": {
     "duration": 0.020787,
     "end_time": "2023-08-08T13:01:39.910415",
     "exception": false,
     "start_time": "2023-08-08T13:01:39.889628",
     "status": "completed"
    },
    "tags": []
   },
   "outputs": [
    {
     "data": {
      "text/html": [
       "<div>\n",
       "<style scoped>\n",
       "    .dataframe tbody tr th:only-of-type {\n",
       "        vertical-align: middle;\n",
       "    }\n",
       "\n",
       "    .dataframe tbody tr th {\n",
       "        vertical-align: top;\n",
       "    }\n",
       "\n",
       "    .dataframe thead th {\n",
       "        text-align: right;\n",
       "    }\n",
       "</style>\n",
       "<table border=\"1\" class=\"dataframe\">\n",
       "  <thead>\n",
       "    <tr style=\"text-align: right;\">\n",
       "      <th></th>\n",
       "      <th>id</th>\n",
       "      <th>keyword</th>\n",
       "      <th>location</th>\n",
       "      <th>text</th>\n",
       "    </tr>\n",
       "  </thead>\n",
       "  <tbody>\n",
       "    <tr>\n",
       "      <th>0</th>\n",
       "      <td>0</td>\n",
       "      <td>NaN</td>\n",
       "      <td>NaN</td>\n",
       "      <td>Just happened a terrible car crash</td>\n",
       "    </tr>\n",
       "    <tr>\n",
       "      <th>1</th>\n",
       "      <td>2</td>\n",
       "      <td>NaN</td>\n",
       "      <td>NaN</td>\n",
       "      <td>Heard about #earthquake is different cities, s...</td>\n",
       "    </tr>\n",
       "    <tr>\n",
       "      <th>2</th>\n",
       "      <td>3</td>\n",
       "      <td>NaN</td>\n",
       "      <td>NaN</td>\n",
       "      <td>there is a forest fire at spot pond, geese are...</td>\n",
       "    </tr>\n",
       "    <tr>\n",
       "      <th>3</th>\n",
       "      <td>9</td>\n",
       "      <td>NaN</td>\n",
       "      <td>NaN</td>\n",
       "      <td>Apocalypse lighting. #Spokane #wildfires</td>\n",
       "    </tr>\n",
       "    <tr>\n",
       "      <th>4</th>\n",
       "      <td>11</td>\n",
       "      <td>NaN</td>\n",
       "      <td>NaN</td>\n",
       "      <td>Typhoon Soudelor kills 28 in China and Taiwan</td>\n",
       "    </tr>\n",
       "  </tbody>\n",
       "</table>\n",
       "</div>"
      ],
      "text/plain": [
       "   id keyword location                                               text\n",
       "0   0     NaN      NaN                 Just happened a terrible car crash\n",
       "1   2     NaN      NaN  Heard about #earthquake is different cities, s...\n",
       "2   3     NaN      NaN  there is a forest fire at spot pond, geese are...\n",
       "3   9     NaN      NaN           Apocalypse lighting. #Spokane #wildfires\n",
       "4  11     NaN      NaN      Typhoon Soudelor kills 28 in China and Taiwan"
      ]
     },
     "execution_count": 6,
     "metadata": {},
     "output_type": "execute_result"
    }
   ],
   "source": [
    "df_test.head()"
   ]
  },
  {
   "cell_type": "code",
   "execution_count": 7,
   "id": "b3c19f23",
   "metadata": {
    "execution": {
     "iopub.execute_input": "2023-08-08T13:01:39.923860Z",
     "iopub.status.busy": "2023-08-08T13:01:39.922928Z",
     "iopub.status.idle": "2023-08-08T13:01:39.935218Z",
     "shell.execute_reply": "2023-08-08T13:01:39.933865Z"
    },
    "papermill": {
     "duration": 0.020418,
     "end_time": "2023-08-08T13:01:39.937304",
     "exception": false,
     "start_time": "2023-08-08T13:01:39.916886",
     "status": "completed"
    },
    "tags": []
   },
   "outputs": [
    {
     "data": {
      "text/plain": [
       "'I love fruits'"
      ]
     },
     "execution_count": 7,
     "metadata": {},
     "output_type": "execute_result"
    }
   ],
   "source": [
    "df[df[\"target\"] == 0][\"text\"].values[1]"
   ]
  },
  {
   "cell_type": "code",
   "execution_count": 8,
   "id": "c8ee494e",
   "metadata": {
    "execution": {
     "iopub.execute_input": "2023-08-08T13:01:39.948513Z",
     "iopub.status.busy": "2023-08-08T13:01:39.948155Z",
     "iopub.status.idle": "2023-08-08T13:01:39.956151Z",
     "shell.execute_reply": "2023-08-08T13:01:39.955212Z"
    },
    "papermill": {
     "duration": 0.015707,
     "end_time": "2023-08-08T13:01:39.958140",
     "exception": false,
     "start_time": "2023-08-08T13:01:39.942433",
     "status": "completed"
    },
    "tags": []
   },
   "outputs": [
    {
     "data": {
      "text/plain": [
       "'Forest fire near La Ronge Sask. Canada'"
      ]
     },
     "execution_count": 8,
     "metadata": {},
     "output_type": "execute_result"
    }
   ],
   "source": [
    "df[df[\"target\"] == 1][\"text\"].values[1]"
   ]
  },
  {
   "cell_type": "code",
   "execution_count": 9,
   "id": "17ef72e7",
   "metadata": {
    "execution": {
     "iopub.execute_input": "2023-08-08T13:01:39.970623Z",
     "iopub.status.busy": "2023-08-08T13:01:39.969659Z",
     "iopub.status.idle": "2023-08-08T13:01:39.974784Z",
     "shell.execute_reply": "2023-08-08T13:01:39.973735Z"
    },
    "papermill": {
     "duration": 0.013377,
     "end_time": "2023-08-08T13:01:39.976789",
     "exception": false,
     "start_time": "2023-08-08T13:01:39.963412",
     "status": "completed"
    },
    "tags": []
   },
   "outputs": [],
   "source": [
    "Tfidf_vectorizer = feature_extraction.text.TfidfVectorizer()"
   ]
  },
  {
   "cell_type": "code",
   "execution_count": 10,
   "id": "93dc835a",
   "metadata": {
    "execution": {
     "iopub.execute_input": "2023-08-08T13:01:39.988357Z",
     "iopub.status.busy": "2023-08-08T13:01:39.987972Z",
     "iopub.status.idle": "2023-08-08T13:01:40.237431Z",
     "shell.execute_reply": "2023-08-08T13:01:40.236325Z"
    },
    "papermill": {
     "duration": 0.258232,
     "end_time": "2023-08-08T13:01:40.240165",
     "exception": false,
     "start_time": "2023-08-08T13:01:39.981933",
     "status": "completed"
    },
    "tags": []
   },
   "outputs": [],
   "source": [
    "train_vectors = Tfidf_vectorizer.fit_transform(df[\"text\"])\n",
    "test_vectors = Tfidf_vectorizer.transform(df_test[\"text\"])"
   ]
  },
  {
   "cell_type": "code",
   "execution_count": 11,
   "id": "654c14f3",
   "metadata": {
    "execution": {
     "iopub.execute_input": "2023-08-08T13:01:40.253013Z",
     "iopub.status.busy": "2023-08-08T13:01:40.252618Z",
     "iopub.status.idle": "2023-08-08T13:01:40.257437Z",
     "shell.execute_reply": "2023-08-08T13:01:40.256367Z"
    },
    "papermill": {
     "duration": 0.013653,
     "end_time": "2023-08-08T13:01:40.259623",
     "exception": false,
     "start_time": "2023-08-08T13:01:40.245970",
     "status": "completed"
    },
    "tags": []
   },
   "outputs": [],
   "source": [
    "clf = linear_model.RidgeClassifier()"
   ]
  },
  {
   "cell_type": "code",
   "execution_count": 12,
   "id": "988ebe3e",
   "metadata": {
    "execution": {
     "iopub.execute_input": "2023-08-08T13:01:40.271138Z",
     "iopub.status.busy": "2023-08-08T13:01:40.270830Z",
     "iopub.status.idle": "2023-08-08T13:01:40.414856Z",
     "shell.execute_reply": "2023-08-08T13:01:40.413705Z"
    },
    "papermill": {
     "duration": 0.153466,
     "end_time": "2023-08-08T13:01:40.418288",
     "exception": false,
     "start_time": "2023-08-08T13:01:40.264822",
     "status": "completed"
    },
    "tags": []
   },
   "outputs": [
    {
     "data": {
      "text/plain": [
       "array([0.63366337, 0.6122449 , 0.68407835])"
      ]
     },
     "execution_count": 12,
     "metadata": {},
     "output_type": "execute_result"
    }
   ],
   "source": [
    "scores = model_selection.cross_val_score(clf, train_vectors, df[\"target\"], cv=3, scoring=\"f1\")\n",
    "scores"
   ]
  },
  {
   "cell_type": "code",
   "execution_count": 13,
   "id": "26826d5b",
   "metadata": {
    "execution": {
     "iopub.execute_input": "2023-08-08T13:01:40.439142Z",
     "iopub.status.busy": "2023-08-08T13:01:40.438430Z",
     "iopub.status.idle": "2023-08-08T13:01:40.514959Z",
     "shell.execute_reply": "2023-08-08T13:01:40.513784Z"
    },
    "papermill": {
     "duration": 0.090507,
     "end_time": "2023-08-08T13:01:40.518390",
     "exception": false,
     "start_time": "2023-08-08T13:01:40.427883",
     "status": "completed"
    },
    "tags": []
   },
   "outputs": [
    {
     "data": {
      "text/html": [
       "<style>#sk-container-id-1 {color: black;background-color: white;}#sk-container-id-1 pre{padding: 0;}#sk-container-id-1 div.sk-toggleable {background-color: white;}#sk-container-id-1 label.sk-toggleable__label {cursor: pointer;display: block;width: 100%;margin-bottom: 0;padding: 0.3em;box-sizing: border-box;text-align: center;}#sk-container-id-1 label.sk-toggleable__label-arrow:before {content: \"▸\";float: left;margin-right: 0.25em;color: #696969;}#sk-container-id-1 label.sk-toggleable__label-arrow:hover:before {color: black;}#sk-container-id-1 div.sk-estimator:hover label.sk-toggleable__label-arrow:before {color: black;}#sk-container-id-1 div.sk-toggleable__content {max-height: 0;max-width: 0;overflow: hidden;text-align: left;background-color: #f0f8ff;}#sk-container-id-1 div.sk-toggleable__content pre {margin: 0.2em;color: black;border-radius: 0.25em;background-color: #f0f8ff;}#sk-container-id-1 input.sk-toggleable__control:checked~div.sk-toggleable__content {max-height: 200px;max-width: 100%;overflow: auto;}#sk-container-id-1 input.sk-toggleable__control:checked~label.sk-toggleable__label-arrow:before {content: \"▾\";}#sk-container-id-1 div.sk-estimator input.sk-toggleable__control:checked~label.sk-toggleable__label {background-color: #d4ebff;}#sk-container-id-1 div.sk-label input.sk-toggleable__control:checked~label.sk-toggleable__label {background-color: #d4ebff;}#sk-container-id-1 input.sk-hidden--visually {border: 0;clip: rect(1px 1px 1px 1px);clip: rect(1px, 1px, 1px, 1px);height: 1px;margin: -1px;overflow: hidden;padding: 0;position: absolute;width: 1px;}#sk-container-id-1 div.sk-estimator {font-family: monospace;background-color: #f0f8ff;border: 1px dotted black;border-radius: 0.25em;box-sizing: border-box;margin-bottom: 0.5em;}#sk-container-id-1 div.sk-estimator:hover {background-color: #d4ebff;}#sk-container-id-1 div.sk-parallel-item::after {content: \"\";width: 100%;border-bottom: 1px solid gray;flex-grow: 1;}#sk-container-id-1 div.sk-label:hover label.sk-toggleable__label {background-color: #d4ebff;}#sk-container-id-1 div.sk-serial::before {content: \"\";position: absolute;border-left: 1px solid gray;box-sizing: border-box;top: 0;bottom: 0;left: 50%;z-index: 0;}#sk-container-id-1 div.sk-serial {display: flex;flex-direction: column;align-items: center;background-color: white;padding-right: 0.2em;padding-left: 0.2em;position: relative;}#sk-container-id-1 div.sk-item {position: relative;z-index: 1;}#sk-container-id-1 div.sk-parallel {display: flex;align-items: stretch;justify-content: center;background-color: white;position: relative;}#sk-container-id-1 div.sk-item::before, #sk-container-id-1 div.sk-parallel-item::before {content: \"\";position: absolute;border-left: 1px solid gray;box-sizing: border-box;top: 0;bottom: 0;left: 50%;z-index: -1;}#sk-container-id-1 div.sk-parallel-item {display: flex;flex-direction: column;z-index: 1;position: relative;background-color: white;}#sk-container-id-1 div.sk-parallel-item:first-child::after {align-self: flex-end;width: 50%;}#sk-container-id-1 div.sk-parallel-item:last-child::after {align-self: flex-start;width: 50%;}#sk-container-id-1 div.sk-parallel-item:only-child::after {width: 0;}#sk-container-id-1 div.sk-dashed-wrapped {border: 1px dashed gray;margin: 0 0.4em 0.5em 0.4em;box-sizing: border-box;padding-bottom: 0.4em;background-color: white;}#sk-container-id-1 div.sk-label label {font-family: monospace;font-weight: bold;display: inline-block;line-height: 1.2em;}#sk-container-id-1 div.sk-label-container {text-align: center;}#sk-container-id-1 div.sk-container {/* jupyter's `normalize.less` sets `[hidden] { display: none; }` but bootstrap.min.css set `[hidden] { display: none !important; }` so we also need the `!important` here to be able to override the default hidden behavior on the sphinx rendered scikit-learn.org. See: https://github.com/scikit-learn/scikit-learn/issues/21755 */display: inline-block !important;position: relative;}#sk-container-id-1 div.sk-text-repr-fallback {display: none;}</style><div id=\"sk-container-id-1\" class=\"sk-top-container\"><div class=\"sk-text-repr-fallback\"><pre>RidgeClassifier()</pre><b>In a Jupyter environment, please rerun this cell to show the HTML representation or trust the notebook. <br />On GitHub, the HTML representation is unable to render, please try loading this page with nbviewer.org.</b></div><div class=\"sk-container\" hidden><div class=\"sk-item\"><div class=\"sk-estimator sk-toggleable\"><input class=\"sk-toggleable__control sk-hidden--visually\" id=\"sk-estimator-id-1\" type=\"checkbox\" checked><label for=\"sk-estimator-id-1\" class=\"sk-toggleable__label sk-toggleable__label-arrow\">RidgeClassifier</label><div class=\"sk-toggleable__content\"><pre>RidgeClassifier()</pre></div></div></div></div></div>"
      ],
      "text/plain": [
       "RidgeClassifier()"
      ]
     },
     "execution_count": 13,
     "metadata": {},
     "output_type": "execute_result"
    }
   ],
   "source": [
    "clf.fit(train_vectors, df[\"target\"])"
   ]
  },
  {
   "cell_type": "code",
   "execution_count": 14,
   "id": "7c868700",
   "metadata": {
    "execution": {
     "iopub.execute_input": "2023-08-08T13:01:40.538972Z",
     "iopub.status.busy": "2023-08-08T13:01:40.538345Z",
     "iopub.status.idle": "2023-08-08T13:01:40.552364Z",
     "shell.execute_reply": "2023-08-08T13:01:40.551252Z"
    },
    "papermill": {
     "duration": 0.02747,
     "end_time": "2023-08-08T13:01:40.555501",
     "exception": false,
     "start_time": "2023-08-08T13:01:40.528031",
     "status": "completed"
    },
    "tags": []
   },
   "outputs": [],
   "source": [
    "sample_submission = pd.read_csv(\"/kaggle/input/nlp-getting-started/sample_submission.csv\")"
   ]
  },
  {
   "cell_type": "code",
   "execution_count": 15,
   "id": "73826d88",
   "metadata": {
    "execution": {
     "iopub.execute_input": "2023-08-08T13:01:40.576058Z",
     "iopub.status.busy": "2023-08-08T13:01:40.575398Z",
     "iopub.status.idle": "2023-08-08T13:01:40.583206Z",
     "shell.execute_reply": "2023-08-08T13:01:40.582022Z"
    },
    "papermill": {
     "duration": 0.023546,
     "end_time": "2023-08-08T13:01:40.588303",
     "exception": false,
     "start_time": "2023-08-08T13:01:40.564757",
     "status": "completed"
    },
    "tags": []
   },
   "outputs": [],
   "source": [
    "sample_submission[\"target\"] = clf.predict(test_vectors)"
   ]
  },
  {
   "cell_type": "code",
   "execution_count": 16,
   "id": "68bda6ef",
   "metadata": {
    "execution": {
     "iopub.execute_input": "2023-08-08T13:01:40.609661Z",
     "iopub.status.busy": "2023-08-08T13:01:40.608908Z",
     "iopub.status.idle": "2023-08-08T13:01:40.623202Z",
     "shell.execute_reply": "2023-08-08T13:01:40.622472Z"
    },
    "papermill": {
     "duration": 0.027355,
     "end_time": "2023-08-08T13:01:40.625226",
     "exception": false,
     "start_time": "2023-08-08T13:01:40.597871",
     "status": "completed"
    },
    "tags": []
   },
   "outputs": [
    {
     "data": {
      "text/html": [
       "<div>\n",
       "<style scoped>\n",
       "    .dataframe tbody tr th:only-of-type {\n",
       "        vertical-align: middle;\n",
       "    }\n",
       "\n",
       "    .dataframe tbody tr th {\n",
       "        vertical-align: top;\n",
       "    }\n",
       "\n",
       "    .dataframe thead th {\n",
       "        text-align: right;\n",
       "    }\n",
       "</style>\n",
       "<table border=\"1\" class=\"dataframe\">\n",
       "  <thead>\n",
       "    <tr style=\"text-align: right;\">\n",
       "      <th></th>\n",
       "      <th>id</th>\n",
       "      <th>target</th>\n",
       "    </tr>\n",
       "  </thead>\n",
       "  <tbody>\n",
       "    <tr>\n",
       "      <th>0</th>\n",
       "      <td>0</td>\n",
       "      <td>1</td>\n",
       "    </tr>\n",
       "    <tr>\n",
       "      <th>1</th>\n",
       "      <td>2</td>\n",
       "      <td>1</td>\n",
       "    </tr>\n",
       "    <tr>\n",
       "      <th>2</th>\n",
       "      <td>3</td>\n",
       "      <td>1</td>\n",
       "    </tr>\n",
       "    <tr>\n",
       "      <th>3</th>\n",
       "      <td>9</td>\n",
       "      <td>0</td>\n",
       "    </tr>\n",
       "    <tr>\n",
       "      <th>4</th>\n",
       "      <td>11</td>\n",
       "      <td>1</td>\n",
       "    </tr>\n",
       "  </tbody>\n",
       "</table>\n",
       "</div>"
      ],
      "text/plain": [
       "   id  target\n",
       "0   0       1\n",
       "1   2       1\n",
       "2   3       1\n",
       "3   9       0\n",
       "4  11       1"
      ]
     },
     "execution_count": 16,
     "metadata": {},
     "output_type": "execute_result"
    }
   ],
   "source": [
    "sample_submission.head()"
   ]
  },
  {
   "cell_type": "code",
   "execution_count": 17,
   "id": "97572fa3",
   "metadata": {
    "execution": {
     "iopub.execute_input": "2023-08-08T13:01:40.638941Z",
     "iopub.status.busy": "2023-08-08T13:01:40.638573Z",
     "iopub.status.idle": "2023-08-08T13:01:40.650212Z",
     "shell.execute_reply": "2023-08-08T13:01:40.649140Z"
    },
    "papermill": {
     "duration": 0.021877,
     "end_time": "2023-08-08T13:01:40.652915",
     "exception": false,
     "start_time": "2023-08-08T13:01:40.631038",
     "status": "completed"
    },
    "tags": []
   },
   "outputs": [],
   "source": [
    "sample_submission.to_csv('sample_submission.csv',index=False)"
   ]
  },
  {
   "cell_type": "code",
   "execution_count": null,
   "id": "3a84af61",
   "metadata": {
    "papermill": {
     "duration": 0.0055,
     "end_time": "2023-08-08T13:01:40.664479",
     "exception": false,
     "start_time": "2023-08-08T13:01:40.658979",
     "status": "completed"
    },
    "tags": []
   },
   "outputs": [],
   "source": []
  }
 ],
 "metadata": {
  "kernelspec": {
   "display_name": "Python 3",
   "language": "python",
   "name": "python3"
  },
  "language_info": {
   "codemirror_mode": {
    "name": "ipython",
    "version": 3
   },
   "file_extension": ".py",
   "mimetype": "text/x-python",
   "name": "python",
   "nbconvert_exporter": "python",
   "pygments_lexer": "ipython3",
   "version": "3.10.12"
  },
  "papermill": {
   "default_parameters": {},
   "duration": 12.096832,
   "end_time": "2023-08-08T13:01:41.591361",
   "environment_variables": {},
   "exception": null,
   "input_path": "__notebook__.ipynb",
   "output_path": "__notebook__.ipynb",
   "parameters": {},
   "start_time": "2023-08-08T13:01:29.494529",
   "version": "2.4.0"
  }
 },
 "nbformat": 4,
 "nbformat_minor": 5
}
